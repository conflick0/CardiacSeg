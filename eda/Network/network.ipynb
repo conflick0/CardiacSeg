{
 "cells": [
  {
   "cell_type": "code",
   "execution_count": null,
   "metadata": {
    "colab": {
     "base_uri": "https://localhost:8080/"
    },
    "executionInfo": {
     "elapsed": 1042,
     "status": "ok",
     "timestamp": 1671696652124,
     "user": {
      "displayName": "20",
      "userId": "00260548354071665304"
     },
     "user_tz": -480
    },
    "id": "9pI2mwskp9f7",
    "outputId": "a79565f2-eb5b-42a2-ae28-f7b8a9182895"
   },
   "outputs": [],
   "source": [
    "!nvidia-smi"
   ]
  },
  {
   "cell_type": "code",
   "execution_count": null,
   "metadata": {
    "colab": {
     "base_uri": "https://localhost:8080/"
    },
    "executionInfo": {
     "elapsed": 67814,
     "status": "ok",
     "timestamp": 1671696719933,
     "user": {
      "displayName": "20",
      "userId": "00260548354071665304"
     },
     "user_tz": -480
    },
    "id": "RrwTYBXdp3E7",
    "outputId": "3eb7bc6b-9202-4215-e96c-6647570124aa"
   },
   "outputs": [],
   "source": [
    "# mount driver\n",
    "# from google.colab import drive\n",
    "# drive.mount('/content/drive')\n",
    "# %cd /content/drive/MyDrive/CardiacSeg/eda/Network\n",
    "\n",
    "# install dependents\n",
    "# !pip install -q \"monai-weekly[nibabel, tqdm, einops]\"\n",
    "# !python -c \"import matplotlib\" || pip install -q matplotlib\n",
    "# !pip install -q timm\n",
    "# !pip install -U -q openmim\n",
    "# !mim install -U -q mmcv-full\n",
    "# !pip install ml-collections\n",
    "# %matplotlib inline"
   ]
  },
  {
   "cell_type": "code",
   "execution_count": null,
   "metadata": {
    "colab": {
     "base_uri": "https://localhost:8080/"
    },
    "executionInfo": {
     "elapsed": 37046,
     "status": "ok",
     "timestamp": 1671696756974,
     "user": {
      "displayName": "20",
      "userId": "00260548354071665304"
     },
     "user_tz": -480
    },
    "id": "OFPs3KB4p4RL",
    "outputId": "d9141641-a8b6-4806-d751-ce29db064e42"
   },
   "outputs": [],
   "source": [
    "# sync python module\n",
    "%load_ext autoreload\n",
    "%autoreload 2\n",
    "\n",
    "import sys\n",
    "\n",
    "from torchsummaryX import summary\n",
    "\n",
    "import torch\n",
    "\n",
    "# set package path\n",
    "sys.path.append('/nfs/Workspace/CardiacSeg')\n",
    "\n",
    "import argparse\n",
    "from networks.network import network\n",
    "from networks.ssl_head import SSLHead"
   ]
  },
  {
   "cell_type": "markdown",
   "metadata": {},
   "source": [
    "## DenseVoxNet"
   ]
  },
  {
   "cell_type": "code",
   "execution_count": null,
   "metadata": {},
   "outputs": [],
   "source": [
    "parser = argparse.ArgumentParser(description=\"model segmentation pipeline\")\n",
    "args = parser.parse_args([])\n",
    "args.device = 'cuda'\n",
    "args.in_channels = 1\n",
    "args.out_channels = 2\n",
    "args.roi_x, args.roi_y, args.roi_z = [96, 96, 96]\n",
    "net = network('dense_vox_net', args)\n",
    "inp = torch.rand((1, 1, 96, 96, 96)).to(args.device)\n",
    "summary(net, inp)"
   ]
  },
  {
   "cell_type": "markdown",
   "metadata": {
    "id": "fBdlQzFvr-lD"
   },
   "source": [
    "## EffcientSegNet"
   ]
  },
  {
   "cell_type": "code",
   "execution_count": null,
   "metadata": {
    "colab": {
     "base_uri": "https://localhost:8080/"
    },
    "executionInfo": {
     "elapsed": 443,
     "status": "ok",
     "timestamp": 1670997854582,
     "user": {
      "displayName": "20",
      "userId": "00260548354071665304"
     },
     "user_tz": -480
    },
    "id": "yjf-ldr3r6OS",
    "outputId": "53050e07-a50c-43e9-999a-f77acf3d573e"
   },
   "outputs": [],
   "source": [
    "parser = argparse.ArgumentParser(description=\"model segmentation pipeline\")\n",
    "args = parser.parse_args([])\n",
    "args.device = 'cuda'\n",
    "args.in_channels = 1\n",
    "args.out_channels = 2\n",
    "args.roi_x, args.roi_y, args.roi_z = [96, 96, 96]\n",
    "net = network('efficient_segnet_x0_2', args)\n",
    "summary(net, (1, 96, 96, 96))"
   ]
  },
  {
   "cell_type": "markdown",
   "metadata": {
    "id": "RVUWNYPfr6kT"
   },
   "source": [
    "## UNETCNX"
   ]
  },
  {
   "cell_type": "code",
   "execution_count": null,
   "metadata": {
    "colab": {
     "base_uri": "https://localhost:8080/"
    },
    "executionInfo": {
     "elapsed": 2306,
     "status": "ok",
     "timestamp": 1670816721199,
     "user": {
      "displayName": "20",
      "userId": "00260548354071665304"
     },
     "user_tz": -480
    },
    "id": "TwvaFb-cbR3W",
    "outputId": "92195ea9-4379-42b8-d747-8a5203ef5945"
   },
   "outputs": [],
   "source": [
    "parser = argparse.ArgumentParser(description=\"model segmentation pipeline\")\n",
    "args = parser.parse_args([])\n",
    "args.device = 'cuda'\n",
    "args.in_channels = 1\n",
    "args.out_channels = 2\n",
    "args.roi_x, args.roi_y, args.roi_z = [96, 96, 96]\n",
    "net = network('unetcnx_x0', args)\n",
    "model = SSLHead(args.in_channels, net).to(args.device)\n",
    "summary(model, (1, 96, 96, 96))"
   ]
  },
  {
   "cell_type": "code",
   "execution_count": null,
   "metadata": {
    "colab": {
     "base_uri": "https://localhost:8080/"
    },
    "executionInfo": {
     "elapsed": 1693,
     "status": "ok",
     "timestamp": 1670736626847,
     "user": {
      "displayName": "20",
      "userId": "00260548354071665304"
     },
     "user_tz": -480
    },
    "id": "cT41ua3Dpyoa",
    "outputId": "d9662474-0b98-4fae-df51-1101f91a7978"
   },
   "outputs": [],
   "source": [
    "parser = argparse.ArgumentParser(description=\"model segmentation pipeline\")\n",
    "args = parser.parse_args([])\n",
    "args.device = 'cuda'\n",
    "args.in_channels = 1\n",
    "args.out_channels = 2\n",
    "args.roi_x, args.roi_y, args.roi_z = [96, 96, 96]\n",
    "model = network('unetcnx_x1', args)\n",
    "summary(model, (1, 96, 96, 96))"
   ]
  }
 ],
 "metadata": {
  "accelerator": "GPU",
  "colab": {
   "collapsed_sections": [
    "fBdlQzFvr-lD"
   ],
   "provenance": []
  },
  "gpuClass": "standard",
  "kernelspec": {
   "display_name": "base",
   "language": "python",
   "name": "base"
  },
  "language_info": {
   "codemirror_mode": {
    "name": "ipython",
    "version": 3
   },
   "file_extension": ".py",
   "mimetype": "text/x-python",
   "name": "python",
   "nbconvert_exporter": "python",
   "pygments_lexer": "ipython3",
   "version": "3.9.12"
  }
 },
 "nbformat": 4,
 "nbformat_minor": 4
}
