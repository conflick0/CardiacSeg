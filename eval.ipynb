{
 "cells": [
  {
   "cell_type": "code",
   "execution_count": 1,
   "metadata": {},
   "outputs": [
    {
     "name": "stdout",
     "output_type": "stream",
     "text": [
      "/nfs/Workspace/CardiacSeg\n"
     ]
    }
   ],
   "source": [
    "!pwd"
   ]
  },
  {
   "cell_type": "code",
   "execution_count": 2,
   "metadata": {
    "colab": {
     "base_uri": "https://localhost:8080/"
    },
    "executionInfo": {
     "elapsed": 5998,
     "status": "ok",
     "timestamp": 1660715203028,
     "user": {
      "displayName": "t1",
      "userId": "10911923435734605261"
     },
     "user_tz": -480
    },
    "id": "AkPizN6nNMJm",
    "outputId": "541445e4-92f0-4c65-ef8a-d55e672e5c5b"
   },
   "outputs": [
    {
     "name": "stdout",
     "output_type": "stream",
     "text": [
      "/nfs/Workspace/CardiacSeg\n"
     ]
    }
   ],
   "source": [
    "%cd /nfs/Workspace/CardiacSeg"
   ]
  },
  {
   "cell_type": "code",
   "execution_count": 8,
   "metadata": {
    "executionInfo": {
     "elapsed": 5,
     "status": "ok",
     "timestamp": 1660715203029,
     "user": {
      "displayName": "t1",
      "userId": "10911923435734605261"
     },
     "user_tz": -480
    },
    "id": "iCpP0rjWOT-k"
   },
   "outputs": [],
   "source": [
    "import os\n",
    "\n",
    "import numpy as np\n",
    "import pandas as pd\n",
    "import matplotlib as mpl\n",
    "from matplotlib.colors import ListedColormap\n",
    "import matplotlib.pyplot as plt"
   ]
  },
  {
   "cell_type": "markdown",
   "metadata": {
    "id": "xI8VjyXZBp3V"
   },
   "source": [
    "# Quantitative Evaluations"
   ]
  },
  {
   "cell_type": "code",
   "execution_count": 67,
   "metadata": {},
   "outputs": [],
   "source": [
    "class EvalResult:\n",
    "    def __init__(self, csv_pth, labels):\n",
    "        self.pid_col = ['patientId']\n",
    "        self.dc_cols = [f'dice{lab}' for lab in labels]\n",
    "        self.hd_cols = [f'hd95{lab}' for lab in labels]\n",
    "        self.csv_pth = csv_pth\n",
    "        self.df = pd.read_csv(csv_pth)\n",
    "    \n",
    "    def cal_avg(self):\n",
    "        self.avg_dc_df = self.cal_avg_metric_df(self.dc_cols)\n",
    "        self.avg_dc =  self.avg_dc_df['avg'].mean()\n",
    "        self.avg_hd_df = self.cal_avg_metric_df(self.hd_cols)\n",
    "        self.avg_hd =  self.avg_hd_df['avg'].mean()\n",
    "    \n",
    "    def cal_avg_metric_df(self, met_cols):\n",
    "        avg_met_by_pid = self.df[met_cols].T.mean().to_frame(name='avg')\n",
    "        return pd.concat(\n",
    "              [self.df[self.pid_col + met_cols], avg_met_by_pid], \n",
    "              axis=1, \n",
    "              join='inner'\n",
    "            ).reset_index(drop=True)\n",
    "\n",
    "    \n",
    "class SegTHOREvalResult(EvalResult):\n",
    "    def __init__(self, csv_pth):\n",
    "        self.labels = ['']\n",
    "        super().__init__(csv_pth, self.labels)\n",
    "        self.cal_avg()\n",
    "        \n",
    "class MMWHSEvalResult(EvalResult):\n",
    "    def __init__(self, csv_pth):\n",
    "        self.labels = ['LV', 'RV', 'LA', 'RA', 'MLV', 'AA', 'PA']\n",
    "        super().__init__(csv_pth, self.labels)\n",
    "        self.cal_avg()\n",
    "        \n",
    "\n",
    "def get_csv_dict(root_dir, model_names, exp_names, data_name):\n",
    "    csv_file_name = 'best_model_eval.csv'\n",
    "    csv_dict = {}\n",
    "    for m in model_names:\n",
    "         csv_dict[m] = [os.path.join(root_dir, m, data_name, 'evals', exp_name, csv_file_name) for exp_name in exp_names]\n",
    "    return csv_dict        \n",
    "        \n",
    "\n",
    "def get_eval_dict(csv_dict, evalResult):\n",
    "    eval_dict = {}\n",
    "    for model_name, csv_pths in csv_dict.items():\n",
    "        eval_dict[model_name] =  [evalResult(csv_pth) for csv_pth in csv_pths]\n",
    "    return eval_dict\n",
    "\n",
    "\n",
    "def get_avg_fold_df(eval_dict):\n",
    "    models = []\n",
    "    avg_fd_dcs = []\n",
    "    avg_fd_hds = []\n",
    "    for m, fold_dfs in eval_dict.items():\n",
    "        avg_dc = np.mean([f_df.avg_dc for f_df in fold_dfs])\n",
    "        avg_hd = np.mean([f_df.avg_hd for f_df in fold_dfs])\n",
    "\n",
    "        avg_fd_dcs.append(avg_dc)\n",
    "        avg_fd_hds.append(avg_hd)\n",
    "        models.append(m)\n",
    "\n",
    "    avg_fd_df = pd.DataFrame({\n",
    "        'model': models,\n",
    "        'dice': avg_fd_dcs,\n",
    "        'hd95': avg_fd_hds\n",
    "    })\n",
    "    return avg_fd_df"
   ]
  },
  {
   "cell_type": "code",
   "execution_count": 69,
   "metadata": {},
   "outputs": [],
   "source": [
    "root_dir = '/nfs/Workspace/CardiacSeg'\n",
    "model_names = ['UNet3D', 'AttentionUNet', 'CoTr', 'UNETR', 'SwinUNETR', 'UNETCNX'] \n",
    "exp_names = [f'exp_1_fold_{i}' for i in range(0, 5)]\n",
    "\n",
    "segthor_csv_dict = get_csv_dict(root_dir, model_names, exp_names, data_name='SegTHOR')\n",
    "mmwhs_csv_dict = get_csv_dict(root_dir, model_names, exp_names, data_name='MMWHS')\n",
    "\n",
    "s_eval_dict = get_eval_dict(segthor_csv_dict, SegTHOREvalResult)\n",
    "m_eval_dict = get_eval_dict(mmwhs_csv_dict, MMWHSEvalResult)\n",
    "\n",
    "s_avg_fd_df = get_avg_fold_df(s_eval_dict)\n",
    "m_avg_fd_df = get_avg_fold_df(m_eval_dict)"
   ]
  },
  {
   "cell_type": "markdown",
   "metadata": {
    "id": "kmSthlbNM3Qx"
   },
   "source": [
    "## SegTHOR"
   ]
  },
  {
   "cell_type": "code",
   "execution_count": 70,
   "metadata": {},
   "outputs": [
    {
     "data": {
      "text/html": [
       "<div>\n",
       "<style scoped>\n",
       "    .dataframe tbody tr th:only-of-type {\n",
       "        vertical-align: middle;\n",
       "    }\n",
       "\n",
       "    .dataframe tbody tr th {\n",
       "        vertical-align: top;\n",
       "    }\n",
       "\n",
       "    .dataframe thead th {\n",
       "        text-align: right;\n",
       "    }\n",
       "</style>\n",
       "<table border=\"1\" class=\"dataframe\">\n",
       "  <thead>\n",
       "    <tr style=\"text-align: right;\">\n",
       "      <th></th>\n",
       "      <th>model</th>\n",
       "      <th>dice</th>\n",
       "      <th>hd95</th>\n",
       "    </tr>\n",
       "  </thead>\n",
       "  <tbody>\n",
       "    <tr>\n",
       "      <th>0</th>\n",
       "      <td>UNet3D</td>\n",
       "      <td>0.687799</td>\n",
       "      <td>27.270456</td>\n",
       "    </tr>\n",
       "    <tr>\n",
       "      <th>1</th>\n",
       "      <td>AttentionUNet</td>\n",
       "      <td>0.850992</td>\n",
       "      <td>21.240324</td>\n",
       "    </tr>\n",
       "    <tr>\n",
       "      <th>2</th>\n",
       "      <td>CoTr</td>\n",
       "      <td>0.949371</td>\n",
       "      <td>4.134993</td>\n",
       "    </tr>\n",
       "    <tr>\n",
       "      <th>3</th>\n",
       "      <td>UNETR</td>\n",
       "      <td>0.947963</td>\n",
       "      <td>7.292262</td>\n",
       "    </tr>\n",
       "    <tr>\n",
       "      <th>4</th>\n",
       "      <td>SwinUNETR</td>\n",
       "      <td>0.953803</td>\n",
       "      <td>3.709072</td>\n",
       "    </tr>\n",
       "    <tr>\n",
       "      <th>5</th>\n",
       "      <td>UNETCNX</td>\n",
       "      <td>0.952352</td>\n",
       "      <td>5.266610</td>\n",
       "    </tr>\n",
       "  </tbody>\n",
       "</table>\n",
       "</div>"
      ],
      "text/plain": [
       "           model      dice       hd95\n",
       "0         UNet3D  0.687799  27.270456\n",
       "1  AttentionUNet  0.850992  21.240324\n",
       "2           CoTr  0.949371   4.134993\n",
       "3          UNETR  0.947963   7.292262\n",
       "4      SwinUNETR  0.953803   3.709072\n",
       "5        UNETCNX  0.952352   5.266610"
      ]
     },
     "execution_count": 70,
     "metadata": {},
     "output_type": "execute_result"
    }
   ],
   "source": [
    "s_avg_fd_df"
   ]
  },
  {
   "cell_type": "markdown",
   "metadata": {
    "id": "En1s7OygMxiS"
   },
   "source": [
    "## MM_WHS"
   ]
  },
  {
   "cell_type": "code",
   "execution_count": 71,
   "metadata": {},
   "outputs": [
    {
     "data": {
      "text/html": [
       "<div>\n",
       "<style scoped>\n",
       "    .dataframe tbody tr th:only-of-type {\n",
       "        vertical-align: middle;\n",
       "    }\n",
       "\n",
       "    .dataframe tbody tr th {\n",
       "        vertical-align: top;\n",
       "    }\n",
       "\n",
       "    .dataframe thead th {\n",
       "        text-align: right;\n",
       "    }\n",
       "</style>\n",
       "<table border=\"1\" class=\"dataframe\">\n",
       "  <thead>\n",
       "    <tr style=\"text-align: right;\">\n",
       "      <th></th>\n",
       "      <th>model</th>\n",
       "      <th>dice</th>\n",
       "      <th>hd95</th>\n",
       "    </tr>\n",
       "  </thead>\n",
       "  <tbody>\n",
       "    <tr>\n",
       "      <th>0</th>\n",
       "      <td>UNet3D</td>\n",
       "      <td>0.739152</td>\n",
       "      <td>51.380736</td>\n",
       "    </tr>\n",
       "    <tr>\n",
       "      <th>1</th>\n",
       "      <td>AttentionUNet</td>\n",
       "      <td>0.842547</td>\n",
       "      <td>40.543823</td>\n",
       "    </tr>\n",
       "    <tr>\n",
       "      <th>2</th>\n",
       "      <td>CoTr</td>\n",
       "      <td>0.913951</td>\n",
       "      <td>12.283495</td>\n",
       "    </tr>\n",
       "    <tr>\n",
       "      <th>3</th>\n",
       "      <td>UNETR</td>\n",
       "      <td>0.847109</td>\n",
       "      <td>35.867616</td>\n",
       "    </tr>\n",
       "    <tr>\n",
       "      <th>4</th>\n",
       "      <td>SwinUNETR</td>\n",
       "      <td>0.905947</td>\n",
       "      <td>26.422505</td>\n",
       "    </tr>\n",
       "    <tr>\n",
       "      <th>5</th>\n",
       "      <td>UNETCNX</td>\n",
       "      <td>0.909063</td>\n",
       "      <td>21.345425</td>\n",
       "    </tr>\n",
       "  </tbody>\n",
       "</table>\n",
       "</div>"
      ],
      "text/plain": [
       "           model      dice       hd95\n",
       "0         UNet3D  0.739152  51.380736\n",
       "1  AttentionUNet  0.842547  40.543823\n",
       "2           CoTr  0.913951  12.283495\n",
       "3          UNETR  0.847109  35.867616\n",
       "4      SwinUNETR  0.905947  26.422505\n",
       "5        UNETCNX  0.909063  21.345425"
      ]
     },
     "execution_count": 71,
     "metadata": {},
     "output_type": "execute_result"
    }
   ],
   "source": [
    "m_avg_fd_df"
   ]
  }
 ],
 "metadata": {
  "colab": {
   "collapsed_sections": [
    "khZy0H-EeTOM",
    "5rKXmj3heXTU",
    "dE8b6l90eZxc",
    "unkyxJSOCPyS"
   ],
   "name": "eval.ipynb",
   "provenance": []
  },
  "gpuClass": "standard",
  "kernelspec": {
   "display_name": "Python 3 (ipykernel)",
   "language": "python",
   "name": "python3"
  },
  "language_info": {
   "codemirror_mode": {
    "name": "ipython",
    "version": 3
   },
   "file_extension": ".py",
   "mimetype": "text/x-python",
   "name": "python",
   "nbconvert_exporter": "python",
   "pygments_lexer": "ipython3",
   "version": "3.8.13"
  }
 },
 "nbformat": 4,
 "nbformat_minor": 4
}
