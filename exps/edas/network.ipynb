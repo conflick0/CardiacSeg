{
 "cells": [
  {
   "cell_type": "code",
   "execution_count": 1,
   "metadata": {
    "colab": {
     "base_uri": "https://localhost:8080/"
    },
    "executionInfo": {
     "elapsed": 682,
     "status": "ok",
     "timestamp": 1675665139001,
     "user": {
      "displayName": "28",
      "userId": "04211398539985590831"
     },
     "user_tz": -480
    },
    "id": "9pI2mwskp9f7",
    "outputId": "6a438c4d-1e63-4b82-d042-5241dbba2f71"
   },
   "outputs": [
    {
     "name": "stdout",
     "output_type": "stream",
     "text": [
      "Wed Apr 12 06:57:35 2023       \n",
      "+-----------------------------------------------------------------------------+\n",
      "| NVIDIA-SMI 515.48.07    Driver Version: 515.48.07    CUDA Version: 11.7     |\n",
      "|-------------------------------+----------------------+----------------------+\n",
      "| GPU  Name        Persistence-M| Bus-Id        Disp.A | Volatile Uncorr. ECC |\n",
      "| Fan  Temp  Perf  Pwr:Usage/Cap|         Memory-Usage | GPU-Util  Compute M. |\n",
      "|                               |                      |               MIG M. |\n",
      "|===============================+======================+======================|\n",
      "|   0  NVIDIA GeForce ...  Off  | 00000000:0D:00.0 Off |                  N/A |\n",
      "| 23%   26C    P2    49W / 250W |      0MiB / 11264MiB |      0%      Default |\n",
      "|                               |                      |                  N/A |\n",
      "+-------------------------------+----------------------+----------------------+\n",
      "                                                                               \n",
      "+-----------------------------------------------------------------------------+\n",
      "| Processes:                                                                  |\n",
      "|  GPU   GI   CI        PID   Type   Process name                  GPU Memory |\n",
      "|        ID   ID                                                   Usage      |\n",
      "|=============================================================================|\n",
      "|  No running processes found                                                 |\n",
      "+-----------------------------------------------------------------------------+\n"
     ]
    }
   ],
   "source": [
    "!nvidia-smi"
   ]
  },
  {
   "cell_type": "code",
   "execution_count": 2,
   "metadata": {
    "colab": {
     "base_uri": "https://localhost:8080/"
    },
    "executionInfo": {
     "elapsed": 81913,
     "status": "ok",
     "timestamp": 1675665220910,
     "user": {
      "displayName": "28",
      "userId": "04211398539985590831"
     },
     "user_tz": -480
    },
    "id": "RrwTYBXdp3E7",
    "outputId": "c9eb72b2-3726-4f4b-bebf-3c8e415e3a1d"
   },
   "outputs": [],
   "source": [
    "# # mount driver\n",
    "# from google.colab import drive\n",
    "# drive.mount('/content/drive')\n",
    "# %cd /content/drive/MyDrive/CardiacSeg/eda/Network\n",
    "#\n",
    "# #install dependents\n",
    "# !pip install -q \"monai-weekly[nibabel, tqdm, einops]\"\n",
    "# !python -c \"import matplotlib\" || pip install -q matplotlib\n",
    "# !pip install -q timm\n",
    "# !pip install -U -q openmim\n",
    "# !mim install -U -q mmcv-full\n",
    "# !pip install ml-collections\n",
    "# !pip install torchsummaryX\n",
    "# !pip install ray\n",
    "# %matplotlib inline"
   ]
  },
  {
   "cell_type": "code",
   "execution_count": 4,
   "metadata": {
    "colab": {
     "base_uri": "https://localhost:8080/"
    },
    "executionInfo": {
     "elapsed": 64087,
     "status": "ok",
     "timestamp": 1675666149682,
     "user": {
      "displayName": "28",
      "userId": "04211398539985590831"
     },
     "user_tz": -480
    },
    "id": "OFPs3KB4p4RL",
    "outputId": "5bd274b7-748f-46e8-ee0e-46317e8f4a9b"
   },
   "outputs": [],
   "source": [
    "import sys\n",
    "\n",
    "from torchsummaryX import summary\n",
    "\n",
    "import torch\n",
    "\n",
    "# set package path\n",
    "sys.path.append(r'/nfs/Workspace/CardiacSeg')\n",
    "\n",
    "import argparse\n",
    "from networks.network import network\n",
    "from networks.networkx.blocks.cbam import CBAM\n",
    "from networks.networkx.blocks.ham import HAM\n",
    "from networks.ssl_head import SSLHead\n",
    "\n",
    "# sync python module\n",
    "%load_ext autoreload\n",
    "%autoreload 2"
   ]
  },
  {
   "cell_type": "code",
   "execution_count": 6,
   "metadata": {
    "colab": {
     "base_uri": "https://localhost:8080/",
     "height": 1000
    },
    "executionInfo": {
     "elapsed": 1409,
     "status": "ok",
     "timestamp": 1675653198391,
     "user": {
      "displayName": "29",
      "userId": "05747767364965554341"
     },
     "user_tz": -480
    },
    "id": "PA5zeoZCqqSS",
    "outputId": "0523d60e-603c-4eb5-d433-ced1f2468477"
   },
   "outputs": [
    {
     "name": "stdout",
     "output_type": "stream",
     "text": [
      "model: unetcnx_a0_s1\n",
      "patch size: 4\n",
      "drop rate: 0.4\n",
      "depths: [3, 3, 9, 3]\n"
     ]
    },
    {
     "ename": "TypeError",
     "evalue": "__init__() got an unexpected keyword argument 'reduction'",
     "output_type": "error",
     "traceback": [
      "\u001b[0;31m---------------------------------------------------------------------------\u001b[0m",
      "\u001b[0;31mTypeError\u001b[0m                                 Traceback (most recent call last)",
      "Cell \u001b[0;32mIn[6], line 12\u001b[0m\n\u001b[1;32m     10\u001b[0m net \u001b[38;5;241m=\u001b[39m \u001b[38;5;28;01mNone\u001b[39;00m\n\u001b[1;32m     11\u001b[0m \u001b[38;5;28;01mdel\u001b[39;00m net\n\u001b[0;32m---> 12\u001b[0m net \u001b[38;5;241m=\u001b[39m \u001b[43mnetwork\u001b[49m\u001b[43m(\u001b[49m\u001b[38;5;124;43m'\u001b[39;49m\u001b[38;5;124;43munetcnx_a0_s1\u001b[39;49m\u001b[38;5;124;43m'\u001b[39;49m\u001b[43m,\u001b[49m\u001b[43m \u001b[49m\u001b[43margs\u001b[49m\u001b[43m)\u001b[49m \u001b[38;5;66;03m# unetc2f\u001b[39;00m\n\u001b[1;32m     13\u001b[0m inp \u001b[38;5;241m=\u001b[39m \u001b[38;5;28;01mNone\u001b[39;00m\n\u001b[1;32m     14\u001b[0m \u001b[38;5;28;01mdel\u001b[39;00m inp\n",
      "File \u001b[0;32m/nfs/Workspace/CardiacSeg/networks/network.py:252\u001b[0m, in \u001b[0;36mnetwork\u001b[0;34m(model_name, args)\u001b[0m\n\u001b[1;32m    242\u001b[0m     \u001b[38;5;28;01mreturn\u001b[39;00m UNETCNX_A0_S0(\n\u001b[1;32m    243\u001b[0m           in_channels\u001b[38;5;241m=\u001b[39margs\u001b[38;5;241m.\u001b[39min_channels,\n\u001b[1;32m    244\u001b[0m           out_channels\u001b[38;5;241m=\u001b[39margs\u001b[38;5;241m.\u001b[39mout_channels,\n\u001b[0;32m   (...)\u001b[0m\n\u001b[1;32m    248\u001b[0m           feature_size\u001b[38;5;241m=\u001b[39m\u001b[38;5;241m24\u001b[39m,\n\u001b[1;32m    249\u001b[0m       )\u001b[38;5;241m.\u001b[39mto(args\u001b[38;5;241m.\u001b[39mdevice)\n\u001b[1;32m    251\u001b[0m \u001b[38;5;28;01melif\u001b[39;00m model_name \u001b[38;5;241m==\u001b[39m \u001b[38;5;124m'\u001b[39m\u001b[38;5;124munetcnx_a0_s1\u001b[39m\u001b[38;5;124m'\u001b[39m:\n\u001b[0;32m--> 252\u001b[0m     \u001b[38;5;28;01mreturn\u001b[39;00m \u001b[43mUNETCNX_A0_S1\u001b[49m\u001b[43m(\u001b[49m\n\u001b[1;32m    253\u001b[0m \u001b[43m          \u001b[49m\u001b[43min_channels\u001b[49m\u001b[38;5;241;43m=\u001b[39;49m\u001b[43margs\u001b[49m\u001b[38;5;241;43m.\u001b[39;49m\u001b[43min_channels\u001b[49m\u001b[43m,\u001b[49m\n\u001b[1;32m    254\u001b[0m \u001b[43m          \u001b[49m\u001b[43mout_channels\u001b[49m\u001b[38;5;241;43m=\u001b[39;49m\u001b[43margs\u001b[49m\u001b[38;5;241;43m.\u001b[39;49m\u001b[43mout_channels\u001b[49m\u001b[43m,\u001b[49m\n\u001b[1;32m    255\u001b[0m \u001b[43m          \u001b[49m\u001b[43mpatch_size\u001b[49m\u001b[38;5;241;43m=\u001b[39;49m\u001b[43margs\u001b[49m\u001b[38;5;241;43m.\u001b[39;49m\u001b[43mpatch_size\u001b[49m\u001b[43m,\u001b[49m\n\u001b[1;32m    256\u001b[0m \u001b[43m          \u001b[49m\u001b[43mstochastic_depth_prob\u001b[49m\u001b[38;5;241;43m=\u001b[39;49m\u001b[43margs\u001b[49m\u001b[38;5;241;43m.\u001b[39;49m\u001b[43mdrop_rate\u001b[49m\u001b[43m,\u001b[49m\n\u001b[1;32m    257\u001b[0m \u001b[43m          \u001b[49m\u001b[43mdepths\u001b[49m\u001b[38;5;241;43m=\u001b[39;49m\u001b[43margs\u001b[49m\u001b[38;5;241;43m.\u001b[39;49m\u001b[43mdepths\u001b[49m\u001b[43m,\u001b[49m\n\u001b[1;32m    258\u001b[0m \u001b[43m          \u001b[49m\u001b[43mfeature_size\u001b[49m\u001b[38;5;241;43m=\u001b[39;49m\u001b[38;5;241;43m24\u001b[39;49m\u001b[43m,\u001b[49m\n\u001b[1;32m    259\u001b[0m \u001b[43m      \u001b[49m\u001b[43m)\u001b[49m\u001b[38;5;241m.\u001b[39mto(args\u001b[38;5;241m.\u001b[39mdevice)\n\u001b[1;32m    261\u001b[0m \u001b[38;5;28;01melif\u001b[39;00m model_name \u001b[38;5;241m==\u001b[39m \u001b[38;5;124m'\u001b[39m\u001b[38;5;124munetcnx_a0\u001b[39m\u001b[38;5;124m'\u001b[39m:\n\u001b[1;32m    262\u001b[0m     \u001b[38;5;28;01mreturn\u001b[39;00m UNETCNX_A0(\n\u001b[1;32m    263\u001b[0m           in_channels\u001b[38;5;241m=\u001b[39margs\u001b[38;5;241m.\u001b[39min_channels,\n\u001b[1;32m    264\u001b[0m           out_channels\u001b[38;5;241m=\u001b[39margs\u001b[38;5;241m.\u001b[39mout_channels,\n\u001b[0;32m   (...)\u001b[0m\n\u001b[1;32m    268\u001b[0m           feature_size\u001b[38;5;241m=\u001b[39m\u001b[38;5;241m24\u001b[39m,\n\u001b[1;32m    269\u001b[0m       )\u001b[38;5;241m.\u001b[39mto(args\u001b[38;5;241m.\u001b[39mdevice)\n",
      "File \u001b[0;32m/nfs/Workspace/CardiacSeg/networks/networkx/unetcnx_a0_s1.py:80\u001b[0m, in \u001b[0;36mUNETCNX_A0_S1.__init__\u001b[0;34m(self, in_channels, out_channels, feature_size, patch_size, spatial_dims, norm_name, stochastic_depth_prob, depths, **kwargs)\u001b[0m\n\u001b[1;32m     70\u001b[0m \u001b[38;5;28mself\u001b[39m\u001b[38;5;241m.\u001b[39mencoder3 \u001b[38;5;241m=\u001b[39m nn\u001b[38;5;241m.\u001b[39mSequential(\n\u001b[1;32m     71\u001b[0m     \u001b[38;5;28mself\u001b[39m\u001b[38;5;241m.\u001b[39mfeatures[\u001b[38;5;241m5\u001b[39m],\n\u001b[1;32m     72\u001b[0m     \u001b[38;5;28mself\u001b[39m\u001b[38;5;241m.\u001b[39mfeatures[\u001b[38;5;241m6\u001b[39m],\n\u001b[1;32m     73\u001b[0m )\n\u001b[1;32m     75\u001b[0m \u001b[38;5;28mself\u001b[39m\u001b[38;5;241m.\u001b[39mencoder4 \u001b[38;5;241m=\u001b[39m nn\u001b[38;5;241m.\u001b[39mSequential(\n\u001b[1;32m     76\u001b[0m     \u001b[38;5;28mself\u001b[39m\u001b[38;5;241m.\u001b[39mfeatures[\u001b[38;5;241m7\u001b[39m],\n\u001b[1;32m     77\u001b[0m     \u001b[38;5;28mself\u001b[39m\u001b[38;5;241m.\u001b[39mfeatures[\u001b[38;5;241m8\u001b[39m]\n\u001b[1;32m     78\u001b[0m )\n\u001b[0;32m---> 80\u001b[0m \u001b[38;5;28mself\u001b[39m\u001b[38;5;241m.\u001b[39mskip_stem \u001b[38;5;241m=\u001b[39m \u001b[43mHAM\u001b[49m\u001b[43m(\u001b[49m\u001b[43mfeature_size\u001b[49m\u001b[43m \u001b[49m\u001b[38;5;241;43m*\u001b[39;49m\u001b[43m \u001b[49m\u001b[38;5;241;43m2\u001b[39;49m\u001b[43m,\u001b[49m\u001b[43m \u001b[49m\u001b[43mreduction\u001b[49m\u001b[38;5;241;43m=\u001b[39;49m\u001b[38;5;241;43m16\u001b[39;49m\u001b[43m,\u001b[49m\u001b[43m \u001b[49m\u001b[43mkernel_size\u001b[49m\u001b[38;5;241;43m=\u001b[39;49m\u001b[38;5;241;43m7\u001b[39;49m\u001b[43m)\u001b[49m\n\u001b[1;32m     81\u001b[0m \u001b[38;5;28mself\u001b[39m\u001b[38;5;241m.\u001b[39mskip_encoder1 \u001b[38;5;241m=\u001b[39m HAM(feature_size \u001b[38;5;241m*\u001b[39m \u001b[38;5;241m4\u001b[39m, reduction\u001b[38;5;241m=\u001b[39m\u001b[38;5;241m16\u001b[39m, kernel_size\u001b[38;5;241m=\u001b[39m\u001b[38;5;241m7\u001b[39m)\n\u001b[1;32m     82\u001b[0m \u001b[38;5;28mself\u001b[39m\u001b[38;5;241m.\u001b[39mskip_encoder2 \u001b[38;5;241m=\u001b[39m HAM(feature_size \u001b[38;5;241m*\u001b[39m \u001b[38;5;241m8\u001b[39m, reduction\u001b[38;5;241m=\u001b[39m\u001b[38;5;241m16\u001b[39m, kernel_size\u001b[38;5;241m=\u001b[39m\u001b[38;5;241m7\u001b[39m)\n",
      "\u001b[0;31mTypeError\u001b[0m: __init__() got an unexpected keyword argument 'reduction'"
     ]
    }
   ],
   "source": [
    "parser = argparse.ArgumentParser(description=\"model segmentation pipeline\")\n",
    "args = parser.parse_args([])\n",
    "args.device = 'cuda'\n",
    "args.in_channels = 1\n",
    "args.out_channels = 2\n",
    "args.roi_x, args.roi_y, args.roi_z = [128, 128, 128]\n",
    "args.patch_size = 4\n",
    "args.drop_rate = 0.4\n",
    "args.depths = [3, 3, 9, 3]\n",
    "net = None\n",
    "del net\n",
    "net = network('unetcnx_a0_s1', args) # unetc2f\n",
    "inp = None\n",
    "del inp\n",
    "inp = torch.rand((1, 1, 128, 128, 128)).to(args.device)\n",
    "summary(net, inp)"
   ]
  },
  {
   "cell_type": "code",
   "execution_count": null,
   "metadata": {
    "colab": {
     "base_uri": "https://localhost:8080/",
     "height": 1000
    },
    "executionInfo": {
     "elapsed": 12995,
     "status": "ok",
     "timestamp": 1675568261093,
     "user": {
      "displayName": "29",
      "userId": "05747767364965554341"
     },
     "user_tz": -480
    },
    "id": "fWcGMrptvdW9",
    "outputId": "fa9b2311-ce61-4e85-8542-bf1efe29f89a"
   },
   "outputs": [],
   "source": [
    "parser = argparse.ArgumentParser(description=\"model segmentation pipeline\")\n",
    "args = parser.parse_args([])\n",
    "args.device = 'cuda'\n",
    "args.in_channels = 1\n",
    "args.out_channels = 2\n",
    "args.roi_x, args.roi_y, args.roi_z = [128, 128, 128]\n",
    "net = None\n",
    "del net\n",
    "net = network('unetcnx_x2', args)\n",
    "inp = None\n",
    "del inp\n",
    "inp = torch.rand((1, 1, 128, 128, 128)).to(args.device)\n",
    "summary(net, inp)"
   ]
  },
  {
   "cell_type": "markdown",
   "metadata": {
    "id": "QSqXrrbnjmso"
   },
   "source": [
    "## DenseVoxNet"
   ]
  },
  {
   "cell_type": "code",
   "execution_count": null,
   "metadata": {
    "id": "bSzuEejajmsq"
   },
   "outputs": [],
   "source": [
    "parser = argparse.ArgumentParser(description=\"model segmentation pipeline\")\n",
    "args = parser.parse_args([])\n",
    "args.device = 'cuda'\n",
    "args.in_channels = 1\n",
    "args.out_channels = 2\n",
    "args.roi_x, args.roi_y, args.roi_z = [96, 96, 96]\n",
    "net = network('dense_vox_net', args)\n",
    "inp = torch.rand((1, 1, 96, 96, 96)).to(args.device)\n",
    "summary(net, inp)"
   ]
  },
  {
   "cell_type": "markdown",
   "metadata": {
    "id": "fBdlQzFvr-lD"
   },
   "source": [
    "## EffcientSegNet"
   ]
  },
  {
   "cell_type": "code",
   "execution_count": null,
   "metadata": {
    "id": "yjf-ldr3r6OS"
   },
   "outputs": [],
   "source": [
    "parser = argparse.ArgumentParser(description=\"model segmentation pipeline\")\n",
    "args = parser.parse_args([])\n",
    "args.device = 'cuda'\n",
    "args.in_channels = 1\n",
    "args.out_channels = 2\n",
    "args.roi_x, args.roi_y, args.roi_z = [96, 96, 96]\n",
    "net = network('efficient_segnet_x0_2', args)\n",
    "summary(net, (1, 96, 96, 96))"
   ]
  },
  {
   "cell_type": "markdown",
   "metadata": {
    "id": "RVUWNYPfr6kT"
   },
   "source": [
    "## UNETCNX"
   ]
  },
  {
   "cell_type": "code",
   "execution_count": null,
   "metadata": {
    "id": "TwvaFb-cbR3W"
   },
   "outputs": [],
   "source": [
    "parser = argparse.ArgumentParser(description=\"model segmentation pipeline\")\n",
    "args = parser.parse_args([])\n",
    "args.device = 'cuda'\n",
    "args.in_channels = 1\n",
    "args.out_channels = 2\n",
    "args.roi_x, args.roi_y, args.roi_z = [96, 96, 96]\n",
    "net = network('unetcnx_x0', args)\n",
    "model = SSLHead(args.in_channels, net).to(args.device)\n",
    "summary(model, (1, 96, 96, 96))"
   ]
  },
  {
   "cell_type": "code",
   "execution_count": null,
   "metadata": {
    "id": "cT41ua3Dpyoa"
   },
   "outputs": [],
   "source": [
    "parser = argparse.ArgumentParser(description=\"model segmentation pipeline\")\n",
    "args = parser.parse_args([])\n",
    "args.device = 'cuda'\n",
    "args.in_channels = 1\n",
    "args.out_channels = 2\n",
    "args.roi_x, args.roi_y, args.roi_z = [96, 96, 96]\n",
    "model = network('unetcnx_x1', args)\n",
    "summary(model, (1, 96, 96, 96))"
   ]
  }
 ],
 "metadata": {
  "accelerator": "GPU",
  "colab": {
   "collapsed_sections": [
    "fBdlQzFvr-lD"
   ],
   "provenance": []
  },
  "gpuClass": "standard",
  "kernelspec": {
   "display_name": "base",
   "language": "python",
   "name": "base"
  },
  "language_info": {
   "codemirror_mode": {
    "name": "ipython",
    "version": 3
   },
   "file_extension": ".py",
   "mimetype": "text/x-python",
   "name": "python",
   "nbconvert_exporter": "python",
   "pygments_lexer": "ipython3",
   "version": "3.9.12"
  }
 },
 "nbformat": 4,
 "nbformat_minor": 4
}
