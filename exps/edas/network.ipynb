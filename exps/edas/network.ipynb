{
 "cells": [
  {
   "cell_type": "code",
   "execution_count": 5,
   "metadata": {
    "colab": {
     "base_uri": "https://localhost:8080/"
    },
    "executionInfo": {
     "elapsed": 682,
     "status": "ok",
     "timestamp": 1675665139001,
     "user": {
      "displayName": "28",
      "userId": "04211398539985590831"
     },
     "user_tz": -480
    },
    "id": "9pI2mwskp9f7",
    "outputId": "6a438c4d-1e63-4b82-d042-5241dbba2f71"
   },
   "outputs": [
    {
     "name": "stdout",
     "output_type": "stream",
     "text": [
      "Sun Apr  9 08:35:10 2023       \n",
      "+-----------------------------------------------------------------------------+\n",
      "| NVIDIA-SMI 470.141.03   Driver Version: 470.141.03   CUDA Version: 11.4     |\n",
      "|-------------------------------+----------------------+----------------------+\n",
      "| GPU  Name        Persistence-M| Bus-Id        Disp.A | Volatile Uncorr. ECC |\n",
      "| Fan  Temp  Perf  Pwr:Usage/Cap|         Memory-Usage | GPU-Util  Compute M. |\n",
      "|                               |                      |               MIG M. |\n",
      "|===============================+======================+======================|\n",
      "|   0  Tesla V100-SXM2...  On   | 00000000:0A:00.0 Off |                    0 |\n",
      "| N/A   32C    P0    47W / 163W |   6896MiB / 32510MiB |      0%      Default |\n",
      "|                               |                      |                  N/A |\n",
      "+-------------------------------+----------------------+----------------------+\n",
      "                                                                               \n",
      "+-----------------------------------------------------------------------------+\n",
      "| Processes:                                                                  |\n",
      "|  GPU   GI   CI        PID   Type   Process name                  GPU Memory |\n",
      "|        ID   ID                                                   Usage      |\n",
      "|=============================================================================|\n",
      "+-----------------------------------------------------------------------------+\n"
     ]
    }
   ],
   "source": [
    "!nvidia-smi"
   ]
  },
  {
   "cell_type": "code",
   "execution_count": 2,
   "metadata": {
    "colab": {
     "base_uri": "https://localhost:8080/"
    },
    "executionInfo": {
     "elapsed": 81913,
     "status": "ok",
     "timestamp": 1675665220910,
     "user": {
      "displayName": "28",
      "userId": "04211398539985590831"
     },
     "user_tz": -480
    },
    "id": "RrwTYBXdp3E7",
    "outputId": "c9eb72b2-3726-4f4b-bebf-3c8e415e3a1d"
   },
   "outputs": [],
   "source": [
    "# # mount driver\n",
    "# from google.colab import drive\n",
    "# drive.mount('/content/drive')\n",
    "# %cd /content/drive/MyDrive/CardiacSeg/eda/Network\n",
    "#\n",
    "# #install dependents\n",
    "# !pip install -q \"monai-weekly[nibabel, tqdm, einops]\"\n",
    "# !python -c \"import matplotlib\" || pip install -q matplotlib\n",
    "# !pip install -q timm\n",
    "# !pip install -U -q openmim\n",
    "# !mim install -U -q mmcv-full\n",
    "# !pip install ml-collections\n",
    "# !pip install torchsummaryX\n",
    "# !pip install ray\n",
    "# %matplotlib inline"
   ]
  },
  {
   "cell_type": "code",
   "execution_count": 21,
   "metadata": {
    "colab": {
     "base_uri": "https://localhost:8080/"
    },
    "executionInfo": {
     "elapsed": 64087,
     "status": "ok",
     "timestamp": 1675666149682,
     "user": {
      "displayName": "28",
      "userId": "04211398539985590831"
     },
     "user_tz": -480
    },
    "id": "OFPs3KB4p4RL",
    "outputId": "5bd274b7-748f-46e8-ee0e-46317e8f4a9b"
   },
   "outputs": [
    {
     "name": "stdout",
     "output_type": "stream",
     "text": [
      "The autoreload extension is already loaded. To reload it, use:\n",
      "  %reload_ext autoreload\n"
     ]
    }
   ],
   "source": [
    "import sys\n",
    "\n",
    "from torchsummaryX import summary\n",
    "\n",
    "import torch\n",
    "\n",
    "# set package path\n",
    "sys.path.append(r'/nfs/Workspace/CardiacSeg')\n",
    "\n",
    "import argparse\n",
    "from networks.network import network\n",
    "from networks.networkx.blocks.cbam import CBAM\n",
    "from networks.ssl_head import SSLHead\n",
    "\n",
    "# sync python module\n",
    "%load_ext autoreload\n",
    "%autoreload 2"
   ]
  },
  {
   "cell_type": "code",
   "execution_count": 59,
   "metadata": {},
   "outputs": [],
   "source": [
    "infer_data= {\n",
    "    'image': '/nfs/Workspace/CardiacSeg/dataset/mmwhs/ct_train/ct_train_1016_image.nii.gz', \n",
    "    'label': '/nfs/Workspace/CardiacSeg/dataset/mmwhs/ct_train/ct_train_1016_label.nii.gz'\n",
    "}"
   ]
  },
  {
   "cell_type": "code",
   "execution_count": 10,
   "metadata": {
    "colab": {
     "base_uri": "https://localhost:8080/",
     "height": 1000
    },
    "executionInfo": {
     "elapsed": 1409,
     "status": "ok",
     "timestamp": 1675653198391,
     "user": {
      "displayName": "29",
      "userId": "05747767364965554341"
     },
     "user_tz": -480
    },
    "id": "PA5zeoZCqqSS",
    "outputId": "0523d60e-603c-4eb5-d433-ced1f2468477"
   },
   "outputs": [
    {
     "name": "stdout",
     "output_type": "stream",
     "text": [
      "model: unetcnx_a0\n",
      "patch size: 4\n",
      "drop rate: 0.4\n",
      "depths: [3, 3, 9, 3]\n"
     ]
    },
    {
     "ename": "RuntimeError",
     "evalue": "Sizes of tensors must match except in dimension 1. Expected size 2 but got size 3 for tensor number 1 in the list.",
     "output_type": "error",
     "traceback": [
      "\u001b[0;31m---------------------------------------------------------------------------\u001b[0m",
      "\u001b[0;31mRuntimeError\u001b[0m                              Traceback (most recent call last)",
      "Cell \u001b[0;32mIn[10], line 16\u001b[0m\n\u001b[1;32m     14\u001b[0m \u001b[38;5;28;01mdel\u001b[39;00m inp\n\u001b[1;32m     15\u001b[0m inp \u001b[38;5;241m=\u001b[39m torch\u001b[38;5;241m.\u001b[39mrand((\u001b[38;5;241m1\u001b[39m, \u001b[38;5;241m1\u001b[39m, \u001b[38;5;241m96\u001b[39m, \u001b[38;5;241m96\u001b[39m, \u001b[38;5;241m96\u001b[39m))\u001b[38;5;241m.\u001b[39mto(args\u001b[38;5;241m.\u001b[39mdevice)\n\u001b[0;32m---> 16\u001b[0m \u001b[43msummary\u001b[49m\u001b[43m(\u001b[49m\u001b[43mnet\u001b[49m\u001b[43m,\u001b[49m\u001b[43m \u001b[49m\u001b[43minp\u001b[49m\u001b[43m)\u001b[49m\n",
      "File \u001b[0;32m/opt/conda/lib/python3.9/site-packages/torchsummaryX/torchsummaryX.py:86\u001b[0m, in \u001b[0;36msummary\u001b[0;34m(model, x, *args, **kwargs)\u001b[0m\n\u001b[1;32m     84\u001b[0m \u001b[38;5;28;01mtry\u001b[39;00m:\n\u001b[1;32m     85\u001b[0m     \u001b[38;5;28;01mwith\u001b[39;00m torch\u001b[38;5;241m.\u001b[39mno_grad():\n\u001b[0;32m---> 86\u001b[0m         \u001b[43mmodel\u001b[49m\u001b[43m(\u001b[49m\u001b[43mx\u001b[49m\u001b[43m)\u001b[49m \u001b[38;5;28;01mif\u001b[39;00m \u001b[38;5;129;01mnot\u001b[39;00m (kwargs \u001b[38;5;129;01mor\u001b[39;00m args) \u001b[38;5;28;01melse\u001b[39;00m model(x, \u001b[38;5;241m*\u001b[39margs, \u001b[38;5;241m*\u001b[39m\u001b[38;5;241m*\u001b[39mkwargs)\n\u001b[1;32m     87\u001b[0m \u001b[38;5;28;01mfinally\u001b[39;00m:\n\u001b[1;32m     88\u001b[0m     \u001b[38;5;28;01mfor\u001b[39;00m hook \u001b[38;5;129;01min\u001b[39;00m hooks:\n",
      "File \u001b[0;32m/opt/conda/lib/python3.9/site-packages/torch/nn/modules/module.py:1130\u001b[0m, in \u001b[0;36mModule._call_impl\u001b[0;34m(self, *input, **kwargs)\u001b[0m\n\u001b[1;32m   1126\u001b[0m \u001b[38;5;66;03m# If we don't have any hooks, we want to skip the rest of the logic in\u001b[39;00m\n\u001b[1;32m   1127\u001b[0m \u001b[38;5;66;03m# this function, and just call forward.\u001b[39;00m\n\u001b[1;32m   1128\u001b[0m \u001b[38;5;28;01mif\u001b[39;00m \u001b[38;5;129;01mnot\u001b[39;00m (\u001b[38;5;28mself\u001b[39m\u001b[38;5;241m.\u001b[39m_backward_hooks \u001b[38;5;129;01mor\u001b[39;00m \u001b[38;5;28mself\u001b[39m\u001b[38;5;241m.\u001b[39m_forward_hooks \u001b[38;5;129;01mor\u001b[39;00m \u001b[38;5;28mself\u001b[39m\u001b[38;5;241m.\u001b[39m_forward_pre_hooks \u001b[38;5;129;01mor\u001b[39;00m _global_backward_hooks\n\u001b[1;32m   1129\u001b[0m         \u001b[38;5;129;01mor\u001b[39;00m _global_forward_hooks \u001b[38;5;129;01mor\u001b[39;00m _global_forward_pre_hooks):\n\u001b[0;32m-> 1130\u001b[0m     \u001b[38;5;28;01mreturn\u001b[39;00m \u001b[43mforward_call\u001b[49m\u001b[43m(\u001b[49m\u001b[38;5;241;43m*\u001b[39;49m\u001b[38;5;28;43minput\u001b[39;49m\u001b[43m,\u001b[49m\u001b[43m \u001b[49m\u001b[38;5;241;43m*\u001b[39;49m\u001b[38;5;241;43m*\u001b[39;49m\u001b[43mkwargs\u001b[49m\u001b[43m)\u001b[49m\n\u001b[1;32m   1131\u001b[0m \u001b[38;5;66;03m# Do not call functions when jit is used\u001b[39;00m\n\u001b[1;32m   1132\u001b[0m full_backward_hooks, non_full_backward_hooks \u001b[38;5;241m=\u001b[39m [], []\n",
      "File \u001b[0;32m/nfs/Workspace/CardiacSeg/networks/networkx/unetcnx_a0.py:141\u001b[0m, in \u001b[0;36mUNETCNX_A0.forward\u001b[0;34m(self, x)\u001b[0m\n\u001b[1;32m    138\u001b[0m enc3 \u001b[38;5;241m=\u001b[39m \u001b[38;5;28mself\u001b[39m\u001b[38;5;241m.\u001b[39mencoder3(enc2)\n\u001b[1;32m    139\u001b[0m enc4 \u001b[38;5;241m=\u001b[39m \u001b[38;5;28mself\u001b[39m\u001b[38;5;241m.\u001b[39mencoder4(enc3)\n\u001b[0;32m--> 141\u001b[0m dec4 \u001b[38;5;241m=\u001b[39m \u001b[38;5;28;43mself\u001b[39;49m\u001b[38;5;241;43m.\u001b[39;49m\u001b[43mencoder5\u001b[49m\u001b[43m(\u001b[49m\u001b[43menc4\u001b[49m\u001b[43m,\u001b[49m\u001b[43m \u001b[49m\u001b[43menc3\u001b[49m\u001b[43m)\u001b[49m\n\u001b[1;32m    143\u001b[0m dec3 \u001b[38;5;241m=\u001b[39m \u001b[38;5;28mself\u001b[39m\u001b[38;5;241m.\u001b[39mdecoder4(dec4, enc2)\n\u001b[1;32m    144\u001b[0m dec2 \u001b[38;5;241m=\u001b[39m \u001b[38;5;28mself\u001b[39m\u001b[38;5;241m.\u001b[39mdecoder3(dec3, enc1)\n",
      "File \u001b[0;32m/opt/conda/lib/python3.9/site-packages/torch/nn/modules/module.py:1130\u001b[0m, in \u001b[0;36mModule._call_impl\u001b[0;34m(self, *input, **kwargs)\u001b[0m\n\u001b[1;32m   1126\u001b[0m \u001b[38;5;66;03m# If we don't have any hooks, we want to skip the rest of the logic in\u001b[39;00m\n\u001b[1;32m   1127\u001b[0m \u001b[38;5;66;03m# this function, and just call forward.\u001b[39;00m\n\u001b[1;32m   1128\u001b[0m \u001b[38;5;28;01mif\u001b[39;00m \u001b[38;5;129;01mnot\u001b[39;00m (\u001b[38;5;28mself\u001b[39m\u001b[38;5;241m.\u001b[39m_backward_hooks \u001b[38;5;129;01mor\u001b[39;00m \u001b[38;5;28mself\u001b[39m\u001b[38;5;241m.\u001b[39m_forward_hooks \u001b[38;5;129;01mor\u001b[39;00m \u001b[38;5;28mself\u001b[39m\u001b[38;5;241m.\u001b[39m_forward_pre_hooks \u001b[38;5;129;01mor\u001b[39;00m _global_backward_hooks\n\u001b[1;32m   1129\u001b[0m         \u001b[38;5;129;01mor\u001b[39;00m _global_forward_hooks \u001b[38;5;129;01mor\u001b[39;00m _global_forward_pre_hooks):\n\u001b[0;32m-> 1130\u001b[0m     \u001b[38;5;28;01mreturn\u001b[39;00m \u001b[43mforward_call\u001b[49m\u001b[43m(\u001b[49m\u001b[38;5;241;43m*\u001b[39;49m\u001b[38;5;28;43minput\u001b[39;49m\u001b[43m,\u001b[49m\u001b[43m \u001b[49m\u001b[38;5;241;43m*\u001b[39;49m\u001b[38;5;241;43m*\u001b[39;49m\u001b[43mkwargs\u001b[49m\u001b[43m)\u001b[49m\n\u001b[1;32m   1131\u001b[0m \u001b[38;5;66;03m# Do not call functions when jit is used\u001b[39;00m\n\u001b[1;32m   1132\u001b[0m full_backward_hooks, non_full_backward_hooks \u001b[38;5;241m=\u001b[39m [], []\n",
      "File \u001b[0;32m/opt/conda/lib/python3.9/site-packages/monai/networks/blocks/unetr_block.py:82\u001b[0m, in \u001b[0;36mUnetrUpBlock.forward\u001b[0;34m(self, inp, skip)\u001b[0m\n\u001b[1;32m     79\u001b[0m \u001b[38;5;28;01mdef\u001b[39;00m \u001b[38;5;21mforward\u001b[39m(\u001b[38;5;28mself\u001b[39m, inp, skip):\n\u001b[1;32m     80\u001b[0m     \u001b[38;5;66;03m# number of channels for skip should equals to out_channels\u001b[39;00m\n\u001b[1;32m     81\u001b[0m     out \u001b[38;5;241m=\u001b[39m \u001b[38;5;28mself\u001b[39m\u001b[38;5;241m.\u001b[39mtransp_conv(inp)\n\u001b[0;32m---> 82\u001b[0m     out \u001b[38;5;241m=\u001b[39m \u001b[43mtorch\u001b[49m\u001b[38;5;241;43m.\u001b[39;49m\u001b[43mcat\u001b[49m\u001b[43m(\u001b[49m\u001b[43m(\u001b[49m\u001b[43mout\u001b[49m\u001b[43m,\u001b[49m\u001b[43m \u001b[49m\u001b[43mskip\u001b[49m\u001b[43m)\u001b[49m\u001b[43m,\u001b[49m\u001b[43m \u001b[49m\u001b[43mdim\u001b[49m\u001b[38;5;241;43m=\u001b[39;49m\u001b[38;5;241;43m1\u001b[39;49m\u001b[43m)\u001b[49m\n\u001b[1;32m     83\u001b[0m     out \u001b[38;5;241m=\u001b[39m \u001b[38;5;28mself\u001b[39m\u001b[38;5;241m.\u001b[39mconv_block(out)\n\u001b[1;32m     84\u001b[0m     \u001b[38;5;28;01mreturn\u001b[39;00m out\n",
      "\u001b[0;31mRuntimeError\u001b[0m: Sizes of tensors must match except in dimension 1. Expected size 2 but got size 3 for tensor number 1 in the list."
     ]
    }
   ],
   "source": [
    "parser = argparse.ArgumentParser(description=\"model segmentation pipeline\")\n",
    "args = parser.parse_args([])\n",
    "args.device = 'cuda'\n",
    "args.in_channels = 1\n",
    "args.out_channels = 7\n",
    "args.roi_x, args.roi_y, args.roi_z = [128, 128, 128]\n",
    "args.patch_size = 4\n",
    "args.drop_rate = 0.4\n",
    "args.depths = [3, 3, 9, 3]\n",
    "net = None\n",
    "del net\n",
    "net = network('unetcnx_a0', args)\n",
    "inp = None\n",
    "del inp\n",
    "inp = torch.rand((1, 1, 96, 96, 96)).to(args.device)\n",
    "summary(net, inp)"
   ]
  },
  {
   "cell_type": "code",
   "execution_count": null,
   "metadata": {
    "colab": {
     "base_uri": "https://localhost:8080/",
     "height": 1000
    },
    "executionInfo": {
     "elapsed": 12995,
     "status": "ok",
     "timestamp": 1675568261093,
     "user": {
      "displayName": "29",
      "userId": "05747767364965554341"
     },
     "user_tz": -480
    },
    "id": "fWcGMrptvdW9",
    "outputId": "fa9b2311-ce61-4e85-8542-bf1efe29f89a"
   },
   "outputs": [],
   "source": [
    "parser = argparse.ArgumentParser(description=\"model segmentation pipeline\")\n",
    "args = parser.parse_args([])\n",
    "args.device = 'cuda'\n",
    "args.in_channels = 1\n",
    "args.out_channels = 2\n",
    "args.roi_x, args.roi_y, args.roi_z = [128, 128, 128]\n",
    "net = None\n",
    "del net\n",
    "net = network('unetcnx_x2', args)\n",
    "inp = None\n",
    "del inp\n",
    "inp = torch.rand((1, 1, 128, 128, 128)).to(args.device)\n",
    "summary(net, inp)"
   ]
  },
  {
   "cell_type": "markdown",
   "metadata": {
    "id": "QSqXrrbnjmso"
   },
   "source": [
    "## DenseVoxNet"
   ]
  },
  {
   "cell_type": "code",
   "execution_count": null,
   "metadata": {
    "id": "bSzuEejajmsq"
   },
   "outputs": [],
   "source": [
    "parser = argparse.ArgumentParser(description=\"model segmentation pipeline\")\n",
    "args = parser.parse_args([])\n",
    "args.device = 'cuda'\n",
    "args.in_channels = 1\n",
    "args.out_channels = 2\n",
    "args.roi_x, args.roi_y, args.roi_z = [96, 96, 96]\n",
    "net = network('dense_vox_net', args)\n",
    "inp = torch.rand((1, 1, 96, 96, 96)).to(args.device)\n",
    "summary(net, inp)"
   ]
  },
  {
   "cell_type": "markdown",
   "metadata": {
    "id": "fBdlQzFvr-lD"
   },
   "source": [
    "## EffcientSegNet"
   ]
  },
  {
   "cell_type": "code",
   "execution_count": null,
   "metadata": {
    "id": "yjf-ldr3r6OS"
   },
   "outputs": [],
   "source": [
    "parser = argparse.ArgumentParser(description=\"model segmentation pipeline\")\n",
    "args = parser.parse_args([])\n",
    "args.device = 'cuda'\n",
    "args.in_channels = 1\n",
    "args.out_channels = 2\n",
    "args.roi_x, args.roi_y, args.roi_z = [96, 96, 96]\n",
    "net = network('efficient_segnet_x0_2', args)\n",
    "summary(net, (1, 96, 96, 96))"
   ]
  },
  {
   "cell_type": "markdown",
   "metadata": {
    "id": "RVUWNYPfr6kT"
   },
   "source": [
    "## UNETCNX"
   ]
  },
  {
   "cell_type": "code",
   "execution_count": null,
   "metadata": {
    "id": "TwvaFb-cbR3W"
   },
   "outputs": [],
   "source": [
    "parser = argparse.ArgumentParser(description=\"model segmentation pipeline\")\n",
    "args = parser.parse_args([])\n",
    "args.device = 'cuda'\n",
    "args.in_channels = 1\n",
    "args.out_channels = 2\n",
    "args.roi_x, args.roi_y, args.roi_z = [96, 96, 96]\n",
    "net = network('unetcnx_x0', args)\n",
    "model = SSLHead(args.in_channels, net).to(args.device)\n",
    "summary(model, (1, 96, 96, 96))"
   ]
  },
  {
   "cell_type": "code",
   "execution_count": null,
   "metadata": {
    "id": "cT41ua3Dpyoa"
   },
   "outputs": [],
   "source": [
    "parser = argparse.ArgumentParser(description=\"model segmentation pipeline\")\n",
    "args = parser.parse_args([])\n",
    "args.device = 'cuda'\n",
    "args.in_channels = 1\n",
    "args.out_channels = 2\n",
    "args.roi_x, args.roi_y, args.roi_z = [96, 96, 96]\n",
    "model = network('unetcnx_x1', args)\n",
    "summary(model, (1, 96, 96, 96))"
   ]
  }
 ],
 "metadata": {
  "accelerator": "GPU",
  "colab": {
   "collapsed_sections": [
    "fBdlQzFvr-lD"
   ],
   "provenance": []
  },
  "gpuClass": "standard",
  "kernelspec": {
   "display_name": "base",
   "language": "python",
   "name": "base"
  },
  "language_info": {
   "codemirror_mode": {
    "name": "ipython",
    "version": 3
   },
   "file_extension": ".py",
   "mimetype": "text/x-python",
   "name": "python",
   "nbconvert_exporter": "python",
   "pygments_lexer": "ipython3",
   "version": "3.9.12"
  }
 },
 "nbformat": 4,
 "nbformat_minor": 4
}
