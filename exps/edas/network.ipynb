{
 "cells": [
  {
   "cell_type": "code",
   "execution_count": 4,
   "metadata": {
    "colab": {
     "base_uri": "https://localhost:8080/"
    },
    "executionInfo": {
     "elapsed": 682,
     "status": "ok",
     "timestamp": 1675665139001,
     "user": {
      "displayName": "28",
      "userId": "04211398539985590831"
     },
     "user_tz": -480
    },
    "id": "9pI2mwskp9f7",
    "outputId": "6a438c4d-1e63-4b82-d042-5241dbba2f71"
   },
   "outputs": [
    {
     "name": "stdout",
     "output_type": "stream",
     "text": [
      "Sat May 27 06:16:37 2023       \n",
      "+-----------------------------------------------------------------------------+\n",
      "| NVIDIA-SMI 515.48.07    Driver Version: 515.48.07    CUDA Version: 11.7     |\n",
      "|-------------------------------+----------------------+----------------------+\n",
      "| GPU  Name        Persistence-M| Bus-Id        Disp.A | Volatile Uncorr. ECC |\n",
      "| Fan  Temp  Perf  Pwr:Usage/Cap|         Memory-Usage | GPU-Util  Compute M. |\n",
      "|                               |                      |               MIG M. |\n",
      "|===============================+======================+======================|\n",
      "|   0  NVIDIA GeForce ...  Off  | 00000000:0C:00.0 Off |                  N/A |\n",
      "| 23%   34C    P8     8W / 250W |    971MiB / 11264MiB |      0%      Default |\n",
      "|                               |                      |                  N/A |\n",
      "+-------------------------------+----------------------+----------------------+\n",
      "                                                                               \n",
      "+-----------------------------------------------------------------------------+\n",
      "| Processes:                                                                  |\n",
      "|  GPU   GI   CI        PID   Type   Process name                  GPU Memory |\n",
      "|        ID   ID                                                   Usage      |\n",
      "|=============================================================================|\n",
      "+-----------------------------------------------------------------------------+\n"
     ]
    }
   ],
   "source": [
    "!nvidia-smi"
   ]
  },
  {
   "cell_type": "code",
   "execution_count": 2,
   "metadata": {
    "colab": {
     "base_uri": "https://localhost:8080/"
    },
    "executionInfo": {
     "elapsed": 81913,
     "status": "ok",
     "timestamp": 1675665220910,
     "user": {
      "displayName": "28",
      "userId": "04211398539985590831"
     },
     "user_tz": -480
    },
    "id": "RrwTYBXdp3E7",
    "outputId": "c9eb72b2-3726-4f4b-bebf-3c8e415e3a1d"
   },
   "outputs": [],
   "source": [
    "# # mount driver\n",
    "# from google.colab import drive\n",
    "# drive.mount('/content/drive')\n",
    "# %cd /content/drive/MyDrive/CardiacSeg/eda/Network\n",
    "#\n",
    "# #install dependents\n",
    "# !pip install -q \"monai-weekly[nibabel, tqdm, einops]\"\n",
    "# !python -c \"import matplotlib\" || pip install -q matplotlib\n",
    "# !pip install -q timm\n",
    "# !pip install -U -q openmim\n",
    "# !mim install -U -q mmcv-full\n",
    "# !pip install ml-collections\n",
    "# !pip install torchsummaryX\n",
    "# !pip install ray\n",
    "# %matplotlib inline"
   ]
  },
  {
   "cell_type": "code",
   "execution_count": 53,
   "metadata": {
    "colab": {
     "base_uri": "https://localhost:8080/"
    },
    "executionInfo": {
     "elapsed": 64087,
     "status": "ok",
     "timestamp": 1675666149682,
     "user": {
      "displayName": "28",
      "userId": "04211398539985590831"
     },
     "user_tz": -480
    },
    "id": "OFPs3KB4p4RL",
    "outputId": "5bd274b7-748f-46e8-ee0e-46317e8f4a9b"
   },
   "outputs": [
    {
     "name": "stdout",
     "output_type": "stream",
     "text": [
      "The autoreload extension is already loaded. To reload it, use:\n",
      "  %reload_ext autoreload\n"
     ]
    }
   ],
   "source": [
    "# sync python module\n",
    "%load_ext autoreload\n",
    "%autoreload 2\n",
    "\n",
    "import os\n",
    "import sys\n",
    "\n",
    "from torchsummaryX import summary\n",
    "\n",
    "import torch\n",
    "\n",
    "# set package path\n",
    "sys.path.append(r'/nfs/Workspace/CardiacSeg')\n",
    "\n",
    "import argparse\n",
    "from networks.network import network\n",
    "from networks.networkx.blocks.cbam import CBAM\n",
    "from networks.networkx.blocks.ham import HAM\n",
    "from networks.ssl_head import SSLHead"
   ]
  },
  {
   "cell_type": "code",
   "execution_count": 64,
   "metadata": {},
   "outputs": [],
   "source": [
    "# import torchvision.models as models\n",
    "# import torch\n",
    "# from ptflops import get_model_complexity_info\n",
    "\n",
    "\n",
    "# macs, params = get_model_complexity_info(\n",
    "#     net, \n",
    "#     (1, 128, 128, 128), \n",
    "#     as_strings=True,\n",
    "#     print_per_layer_stat=False, \n",
    "#     verbose=False\n",
    "# )\n",
    "# print('{:<30}  {:<8}'.format('Computational complexity: ', macs))\n",
    "# print('{:<30}  {:<8}'.format('Number of parameters: ', params))"
   ]
  },
  {
   "cell_type": "code",
   "execution_count": 57,
   "metadata": {},
   "outputs": [
    {
     "name": "stdout",
     "output_type": "stream",
     "text": [
      "model: cotr\n"
     ]
    },
    {
     "name": "stderr",
     "output_type": "stream",
     "text": [
      "nn.init.kaiming_normal is now deprecated in favor of nn.init.kaiming_normal_.\n"
     ]
    },
    {
     "name": "stdout",
     "output_type": "stream",
     "text": [
      "  + Number of Backbone Params: 20.50(e6)\n",
      "  + Number of Transformer Params: 9.32(e6)\n",
      "final early stop count: 20\n",
      "final epoch: 700\n",
      "best val dice: 0.8893863558769226\n"
     ]
    },
    {
     "data": {
      "text/plain": [
       "<All keys matched successfully>"
      ]
     },
     "execution_count": 57,
     "metadata": {},
     "output_type": "execute_result"
    }
   ],
   "source": [
    "parser = argparse.ArgumentParser(description=\"model segmentation pipeline\")\n",
    "args = parser.parse_args([])\n",
    "args.device = 'cuda'\n",
    "args.in_channels = 1\n",
    "args.out_channels = 2\n",
    "args.roi_x, args.roi_y, args.roi_z = [128, 128, 128]\n",
    "args.patch_size = 4\n",
    "args.drop_rate = 0.1\n",
    "args.kernel_size = 7\n",
    "args.exp_rate = 4\n",
    "args.norm_name = 'layer'\n",
    "args.depths = [3, 3, 9, 3]\n",
    "args.feature_size = 48         \n",
    "args.use_init_weights = False\n",
    "args.deep_sup=True\n",
    "args.is_conv_stem=False\n",
    "args.first_feature_size_half=False\n",
    "args.skip_encoder_name=None #'convmod' #'eca'\n",
    "\n",
    "\n",
    "\n",
    "net = None\n",
    "del net\n",
    "net = network('cotr', args) # unetc2f\n",
    "\n",
    "# inp = None\n",
    "# del inp\n",
    "# inp = torch.rand((1, 1, args.roi_x, args.roi_y, args.roi_z)).to(args.device)\n",
    "# summary(net, inp)\n",
    "\n",
    "log_dir = '/nfs/Workspace/CardiacSeg/exps/exps/cotr/chgh/tune_results/t_4/main_0ef8c_00000_0_exp=exp_t_4_2023-04-02_10-06-38'\n",
    "model_pth = os.path.join(log_dir, 'models', 'final_model.pth')\n",
    "ckp = torch.load(model_pth)\n",
    "print('final early stop count:', ckp['early_stop_count'])\n",
    "print('final epoch:', ckp['epoch'])\n",
    "print('best val dice:', ckp['best_acc'])\n",
    "net.load_state_dict(ckp[\"state_dict\"])"
   ]
  },
  {
   "cell_type": "code",
   "execution_count": null,
   "metadata": {
    "colab": {
     "base_uri": "https://localhost:8080/",
     "height": 1000
    },
    "executionInfo": {
     "elapsed": 1409,
     "status": "ok",
     "timestamp": 1675653198391,
     "user": {
      "displayName": "29",
      "userId": "05747767364965554341"
     },
     "user_tz": -480
    },
    "id": "PA5zeoZCqqSS",
    "outputId": "0523d60e-603c-4eb5-d433-ced1f2468477"
   },
   "outputs": [],
   "source": [
    "parser = argparse.ArgumentParser(description=\"model segmentation pipeline\")\n",
    "args = parser.parse_args([])\n",
    "args.device = 'cuda'\n",
    "args.in_channels = 1\n",
    "args.out_channels = 2\n",
    "args.roi_x, args.roi_y, args.roi_z = [128, 128, 128]\n",
    "args.patch_size = 4\n",
    "args.drop_rate = 0.1\n",
    "args.kernel_size = 7\n",
    "args.exp_rate = 4\n",
    "args.norm_name = 'layer'\n",
    "args.depths = [4, 4, 4, 4]\n",
    "args.feature_size = 48         \n",
    "args.use_init_weights = False\n",
    "args.deep_sup=True\n",
    "args.is_conv_stem=True\n",
    "args.skip_encoder_name='cbam'\n",
    "args.deep_sup=True\n",
    "net = None\n",
    "del net\n",
    "net = network('unetcnx_a1', args) # unetc2f\n",
    "inp = None\n",
    "del inp\n",
    "inp = torch.rand((1, 1, 128, 128, 128)).to(args.device)\n",
    "summary(net, inp)"
   ]
  },
  {
   "cell_type": "code",
   "execution_count": null,
   "metadata": {
    "colab": {
     "base_uri": "https://localhost:8080/",
     "height": 1000
    },
    "executionInfo": {
     "elapsed": 12995,
     "status": "ok",
     "timestamp": 1675568261093,
     "user": {
      "displayName": "29",
      "userId": "05747767364965554341"
     },
     "user_tz": -480
    },
    "id": "fWcGMrptvdW9",
    "outputId": "fa9b2311-ce61-4e85-8542-bf1efe29f89a"
   },
   "outputs": [],
   "source": [
    "parser = argparse.ArgumentParser(description=\"model segmentation pipeline\")\n",
    "args = parser.parse_args([])\n",
    "args.device = 'cuda'\n",
    "args.in_channels = 1\n",
    "args.out_channels = 2\n",
    "args.roi_x, args.roi_y, args.roi_z = [128, 128, 128]\n",
    "net = None\n",
    "del net\n",
    "net = network('unetcnx_x2', args)\n",
    "inp = None\n",
    "del inp\n",
    "inp = torch.rand((1, 1, 128, 128, 128)).to(args.device)\n",
    "summary(net, inp)"
   ]
  },
  {
   "cell_type": "markdown",
   "metadata": {
    "id": "QSqXrrbnjmso"
   },
   "source": [
    "## DenseVoxNet"
   ]
  },
  {
   "cell_type": "code",
   "execution_count": null,
   "metadata": {
    "id": "bSzuEejajmsq"
   },
   "outputs": [],
   "source": [
    "parser = argparse.ArgumentParser(description=\"model segmentation pipeline\")\n",
    "args = parser.parse_args([])\n",
    "args.device = 'cuda'\n",
    "args.in_channels = 1\n",
    "args.out_channels = 2\n",
    "args.roi_x, args.roi_y, args.roi_z = [96, 96, 96]\n",
    "net = network('dense_vox_net', args)\n",
    "inp = torch.rand((1, 1, 96, 96, 96)).to(args.device)\n",
    "summary(net, inp)"
   ]
  },
  {
   "cell_type": "markdown",
   "metadata": {
    "id": "fBdlQzFvr-lD"
   },
   "source": [
    "## EffcientSegNet"
   ]
  },
  {
   "cell_type": "code",
   "execution_count": null,
   "metadata": {
    "id": "yjf-ldr3r6OS"
   },
   "outputs": [],
   "source": [
    "parser = argparse.ArgumentParser(description=\"model segmentation pipeline\")\n",
    "args = parser.parse_args([])\n",
    "args.device = 'cuda'\n",
    "args.in_channels = 1\n",
    "args.out_channels = 2\n",
    "args.roi_x, args.roi_y, args.roi_z = [96, 96, 96]\n",
    "net = network('efficient_segnet_x0_2', args)\n",
    "summary(net, (1, 96, 96, 96))"
   ]
  },
  {
   "cell_type": "markdown",
   "metadata": {
    "id": "RVUWNYPfr6kT"
   },
   "source": [
    "## UNETCNX"
   ]
  },
  {
   "cell_type": "code",
   "execution_count": null,
   "metadata": {
    "id": "TwvaFb-cbR3W"
   },
   "outputs": [],
   "source": [
    "parser = argparse.ArgumentParser(description=\"model segmentation pipeline\")\n",
    "args = parser.parse_args([])\n",
    "args.device = 'cuda'\n",
    "args.in_channels = 1\n",
    "args.out_channels = 2\n",
    "args.roi_x, args.roi_y, args.roi_z = [96, 96, 96]\n",
    "net = network('unetcnx_x0', args)\n",
    "model = SSLHead(args.in_channels, net).to(args.device)\n",
    "summary(model, (1, 96, 96, 96))"
   ]
  },
  {
   "cell_type": "code",
   "execution_count": null,
   "metadata": {
    "id": "cT41ua3Dpyoa"
   },
   "outputs": [],
   "source": [
    "parser = argparse.ArgumentParser(description=\"model segmentation pipeline\")\n",
    "args = parser.parse_args([])\n",
    "args.device = 'cuda'\n",
    "args.in_channels = 1\n",
    "args.out_channels = 2\n",
    "args.roi_x, args.roi_y, args.roi_z = [96, 96, 96]\n",
    "model = network('unetcnx_x1', args)\n",
    "summary(model, (1, 96, 96, 96))"
   ]
  }
 ],
 "metadata": {
  "accelerator": "GPU",
  "colab": {
   "collapsed_sections": [
    "fBdlQzFvr-lD"
   ],
   "provenance": []
  },
  "gpuClass": "standard",
  "kernelspec": {
   "display_name": "base",
   "language": "python",
   "name": "base"
  },
  "language_info": {
   "codemirror_mode": {
    "name": "ipython",
    "version": 3
   },
   "file_extension": ".py",
   "mimetype": "text/x-python",
   "name": "python",
   "nbconvert_exporter": "python",
   "pygments_lexer": "ipython3",
   "version": "3.9.12"
  }
 },
 "nbformat": 4,
 "nbformat_minor": 4
}
