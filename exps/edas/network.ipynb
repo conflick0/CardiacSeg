{
 "cells": [
  {
   "cell_type": "code",
   "execution_count": 1,
   "metadata": {
    "colab": {
     "base_uri": "https://localhost:8080/"
    },
    "executionInfo": {
     "elapsed": 682,
     "status": "ok",
     "timestamp": 1675665139001,
     "user": {
      "displayName": "28",
      "userId": "04211398539985590831"
     },
     "user_tz": -480
    },
    "id": "9pI2mwskp9f7",
    "outputId": "6a438c4d-1e63-4b82-d042-5241dbba2f71"
   },
   "outputs": [
    {
     "name": "stdout",
     "output_type": "stream",
     "text": [
      "Fri Apr  7 08:22:33 2023       \n",
      "+-----------------------------------------------------------------------------+\n",
      "| NVIDIA-SMI 515.48.07    Driver Version: 515.48.07    CUDA Version: 11.7     |\n",
      "|-------------------------------+----------------------+----------------------+\n",
      "| GPU  Name        Persistence-M| Bus-Id        Disp.A | Volatile Uncorr. ECC |\n",
      "| Fan  Temp  Perf  Pwr:Usage/Cap|         Memory-Usage | GPU-Util  Compute M. |\n",
      "|                               |                      |               MIG M. |\n",
      "|===============================+======================+======================|\n",
      "|   0  NVIDIA GeForce ...  Off  | 00000000:0D:00.0 Off |                  N/A |\n",
      "| 23%   30C    P2    49W / 250W |      0MiB / 11264MiB |      0%      Default |\n",
      "|                               |                      |                  N/A |\n",
      "+-------------------------------+----------------------+----------------------+\n",
      "                                                                               \n",
      "+-----------------------------------------------------------------------------+\n",
      "| Processes:                                                                  |\n",
      "|  GPU   GI   CI        PID   Type   Process name                  GPU Memory |\n",
      "|        ID   ID                                                   Usage      |\n",
      "|=============================================================================|\n",
      "|  No running processes found                                                 |\n",
      "+-----------------------------------------------------------------------------+\n"
     ]
    }
   ],
   "source": [
    "!nvidia-smi"
   ]
  },
  {
   "cell_type": "code",
   "execution_count": 2,
   "metadata": {
    "colab": {
     "base_uri": "https://localhost:8080/"
    },
    "executionInfo": {
     "elapsed": 81913,
     "status": "ok",
     "timestamp": 1675665220910,
     "user": {
      "displayName": "28",
      "userId": "04211398539985590831"
     },
     "user_tz": -480
    },
    "id": "RrwTYBXdp3E7",
    "outputId": "c9eb72b2-3726-4f4b-bebf-3c8e415e3a1d"
   },
   "outputs": [],
   "source": [
    "# # mount driver\n",
    "# from google.colab import drive\n",
    "# drive.mount('/content/drive')\n",
    "# %cd /content/drive/MyDrive/CardiacSeg/eda/Network\n",
    "#\n",
    "# #install dependents\n",
    "# !pip install -q \"monai-weekly[nibabel, tqdm, einops]\"\n",
    "# !python -c \"import matplotlib\" || pip install -q matplotlib\n",
    "# !pip install -q timm\n",
    "# !pip install -U -q openmim\n",
    "# !mim install -U -q mmcv-full\n",
    "# !pip install ml-collections\n",
    "# !pip install torchsummaryX\n",
    "# !pip install ray\n",
    "# %matplotlib inline"
   ]
  },
  {
   "cell_type": "code",
   "execution_count": 12,
   "metadata": {
    "colab": {
     "base_uri": "https://localhost:8080/"
    },
    "executionInfo": {
     "elapsed": 64087,
     "status": "ok",
     "timestamp": 1675666149682,
     "user": {
      "displayName": "28",
      "userId": "04211398539985590831"
     },
     "user_tz": -480
    },
    "id": "OFPs3KB4p4RL",
    "outputId": "5bd274b7-748f-46e8-ee0e-46317e8f4a9b"
   },
   "outputs": [
    {
     "name": "stdout",
     "output_type": "stream",
     "text": [
      "The autoreload extension is already loaded. To reload it, use:\n",
      "  %reload_ext autoreload\n"
     ]
    }
   ],
   "source": [
    "import sys\n",
    "\n",
    "from torchsummaryX import summary\n",
    "\n",
    "import torch\n",
    "\n",
    "# set package path\n",
    "sys.path.append(r'/nfs/Workspace/CardiacSeg')\n",
    "\n",
    "import argparse\n",
    "from networks.network import network\n",
    "from networks.networkx.blocks.cbam import CBAM\n",
    "from networks.ssl_head import SSLHead\n",
    "\n",
    "# sync python module\n",
    "%load_ext autoreload\n",
    "%autoreload 2"
   ]
  },
  {
   "cell_type": "code",
   "execution_count": 23,
   "metadata": {
    "colab": {
     "base_uri": "https://localhost:8080/",
     "height": 1000
    },
    "executionInfo": {
     "elapsed": 1409,
     "status": "ok",
     "timestamp": 1675653198391,
     "user": {
      "displayName": "29",
      "userId": "05747767364965554341"
     },
     "user_tz": -480
    },
    "id": "PA5zeoZCqqSS",
    "outputId": "0523d60e-603c-4eb5-d433-ced1f2468477"
   },
   "outputs": [
    {
     "name": "stdout",
     "output_type": "stream",
     "text": [
      "model: unetcst\n",
      "patch size: 4\n",
      "drop rate: 0.4\n",
      "depths: [3, 3, 9, 3]\n"
     ]
    },
    {
     "name": "stderr",
     "output_type": "stream",
     "text": [
      "The default value of numeric_only in DataFrame.sum is deprecated. In a future version, it will default to False. In addition, specifying 'numeric_only=None' is deprecated. Select only valid columns or specify the value of numeric_only to silence this warning.\n"
     ]
    },
    {
     "name": "stdout",
     "output_type": "stream",
     "text": [
      "=======================================================================================================================================\n",
      "                                                    Kernel Shape  \\\n",
      "Layer                                                              \n",
      "0_encoder0.layer.conv1.Conv3d_conv              [1, 24, 3, 3, 3]   \n",
      "1_encoder0.layer.InstanceNorm3d_norm1                          -   \n",
      "2_encoder0.layer.LeakyReLU_lrelu                               -   \n",
      "3_encoder0.layer.conv2.Conv3d_conv             [24, 24, 3, 3, 3]   \n",
      "4_encoder0.layer.InstanceNorm3d_norm2                          -   \n",
      "...                                                          ...   \n",
      "1365_decoder1.conv_block.InstanceNorm3d_norm2                  -   \n",
      "1366_decoder1.conv_block.conv3.Conv3d_conv     [48, 24, 1, 1, 1]   \n",
      "1367_decoder1.conv_block.InstanceNorm3d_norm3                  -   \n",
      "1368_decoder1.conv_block.LeakyReLU_lrelu                       -   \n",
      "1369_out.conv.Conv3d_conv                       [24, 2, 1, 1, 1]   \n",
      "\n",
      "                                                         Output Shape  \\\n",
      "Layer                                                                   \n",
      "0_encoder0.layer.conv1.Conv3d_conv             [1, 24, 128, 128, 128]   \n",
      "1_encoder0.layer.InstanceNorm3d_norm1          [1, 24, 128, 128, 128]   \n",
      "2_encoder0.layer.LeakyReLU_lrelu               [1, 24, 128, 128, 128]   \n",
      "3_encoder0.layer.conv2.Conv3d_conv             [1, 24, 128, 128, 128]   \n",
      "4_encoder0.layer.InstanceNorm3d_norm2          [1, 24, 128, 128, 128]   \n",
      "...                                                               ...   \n",
      "1365_decoder1.conv_block.InstanceNorm3d_norm2  [1, 24, 128, 128, 128]   \n",
      "1366_decoder1.conv_block.conv3.Conv3d_conv     [1, 24, 128, 128, 128]   \n",
      "1367_decoder1.conv_block.InstanceNorm3d_norm3  [1, 24, 128, 128, 128]   \n",
      "1368_decoder1.conv_block.LeakyReLU_lrelu       [1, 24, 128, 128, 128]   \n",
      "1369_out.conv.Conv3d_conv                       [1, 2, 128, 128, 128]   \n",
      "\n",
      "                                                Params      Mult-Adds  \n",
      "Layer                                                                  \n",
      "0_encoder0.layer.conv1.Conv3d_conv               648.0   1.358954496G  \n",
      "1_encoder0.layer.InstanceNorm3d_norm1                -              -  \n",
      "2_encoder0.layer.LeakyReLU_lrelu                     -              -  \n",
      "3_encoder0.layer.conv2.Conv3d_conv             15.552k  32.614907904G  \n",
      "4_encoder0.layer.InstanceNorm3d_norm2                -              -  \n",
      "...                                                ...            ...  \n",
      "1365_decoder1.conv_block.InstanceNorm3d_norm2        -              -  \n",
      "1366_decoder1.conv_block.conv3.Conv3d_conv      1.152k   2.415919104G  \n",
      "1367_decoder1.conv_block.InstanceNorm3d_norm3        -              -  \n",
      "1368_decoder1.conv_block.LeakyReLU_lrelu             -              -  \n",
      "1369_out.conv.Conv3d_conv                         50.0    100.663296M  \n",
      "\n",
      "[1370 rows x 4 columns]\n",
      "---------------------------------------------------------------------------------------------------------------------------------------\n",
      "                              Totals\n",
      "Total params              38.114582M\n",
      "Trainable params          38.114582M\n",
      "Non-trainable params             0.0\n",
      "Mult-Adds             308.518280928G\n",
      "=======================================================================================================================================\n"
     ]
    },
    {
     "data": {
      "text/html": [
       "<div>\n",
       "<style scoped>\n",
       "    .dataframe tbody tr th:only-of-type {\n",
       "        vertical-align: middle;\n",
       "    }\n",
       "\n",
       "    .dataframe tbody tr th {\n",
       "        vertical-align: top;\n",
       "    }\n",
       "\n",
       "    .dataframe thead th {\n",
       "        text-align: right;\n",
       "    }\n",
       "</style>\n",
       "<table border=\"1\" class=\"dataframe\">\n",
       "  <thead>\n",
       "    <tr style=\"text-align: right;\">\n",
       "      <th></th>\n",
       "      <th>Kernel Shape</th>\n",
       "      <th>Output Shape</th>\n",
       "      <th>Params</th>\n",
       "      <th>Mult-Adds</th>\n",
       "    </tr>\n",
       "    <tr>\n",
       "      <th>Layer</th>\n",
       "      <th></th>\n",
       "      <th></th>\n",
       "      <th></th>\n",
       "      <th></th>\n",
       "    </tr>\n",
       "  </thead>\n",
       "  <tbody>\n",
       "    <tr>\n",
       "      <th>0_encoder0.layer.conv1.Conv3d_conv</th>\n",
       "      <td>[1, 24, 3, 3, 3]</td>\n",
       "      <td>[1, 24, 128, 128, 128]</td>\n",
       "      <td>648.0</td>\n",
       "      <td>1.358954e+09</td>\n",
       "    </tr>\n",
       "    <tr>\n",
       "      <th>1_encoder0.layer.InstanceNorm3d_norm1</th>\n",
       "      <td>-</td>\n",
       "      <td>[1, 24, 128, 128, 128]</td>\n",
       "      <td>NaN</td>\n",
       "      <td>NaN</td>\n",
       "    </tr>\n",
       "    <tr>\n",
       "      <th>2_encoder0.layer.LeakyReLU_lrelu</th>\n",
       "      <td>-</td>\n",
       "      <td>[1, 24, 128, 128, 128]</td>\n",
       "      <td>NaN</td>\n",
       "      <td>NaN</td>\n",
       "    </tr>\n",
       "    <tr>\n",
       "      <th>3_encoder0.layer.conv2.Conv3d_conv</th>\n",
       "      <td>[24, 24, 3, 3, 3]</td>\n",
       "      <td>[1, 24, 128, 128, 128]</td>\n",
       "      <td>15552.0</td>\n",
       "      <td>3.261491e+10</td>\n",
       "    </tr>\n",
       "    <tr>\n",
       "      <th>4_encoder0.layer.InstanceNorm3d_norm2</th>\n",
       "      <td>-</td>\n",
       "      <td>[1, 24, 128, 128, 128]</td>\n",
       "      <td>NaN</td>\n",
       "      <td>NaN</td>\n",
       "    </tr>\n",
       "    <tr>\n",
       "      <th>...</th>\n",
       "      <td>...</td>\n",
       "      <td>...</td>\n",
       "      <td>...</td>\n",
       "      <td>...</td>\n",
       "    </tr>\n",
       "    <tr>\n",
       "      <th>1365_decoder1.conv_block.InstanceNorm3d_norm2</th>\n",
       "      <td>-</td>\n",
       "      <td>[1, 24, 128, 128, 128]</td>\n",
       "      <td>NaN</td>\n",
       "      <td>NaN</td>\n",
       "    </tr>\n",
       "    <tr>\n",
       "      <th>1366_decoder1.conv_block.conv3.Conv3d_conv</th>\n",
       "      <td>[48, 24, 1, 1, 1]</td>\n",
       "      <td>[1, 24, 128, 128, 128]</td>\n",
       "      <td>1152.0</td>\n",
       "      <td>2.415919e+09</td>\n",
       "    </tr>\n",
       "    <tr>\n",
       "      <th>1367_decoder1.conv_block.InstanceNorm3d_norm3</th>\n",
       "      <td>-</td>\n",
       "      <td>[1, 24, 128, 128, 128]</td>\n",
       "      <td>NaN</td>\n",
       "      <td>NaN</td>\n",
       "    </tr>\n",
       "    <tr>\n",
       "      <th>1368_decoder1.conv_block.LeakyReLU_lrelu</th>\n",
       "      <td>-</td>\n",
       "      <td>[1, 24, 128, 128, 128]</td>\n",
       "      <td>NaN</td>\n",
       "      <td>NaN</td>\n",
       "    </tr>\n",
       "    <tr>\n",
       "      <th>1369_out.conv.Conv3d_conv</th>\n",
       "      <td>[24, 2, 1, 1, 1]</td>\n",
       "      <td>[1, 2, 128, 128, 128]</td>\n",
       "      <td>50.0</td>\n",
       "      <td>1.006633e+08</td>\n",
       "    </tr>\n",
       "  </tbody>\n",
       "</table>\n",
       "<p>1370 rows × 4 columns</p>\n",
       "</div>"
      ],
      "text/plain": [
       "                                                    Kernel Shape  \\\n",
       "Layer                                                              \n",
       "0_encoder0.layer.conv1.Conv3d_conv              [1, 24, 3, 3, 3]   \n",
       "1_encoder0.layer.InstanceNorm3d_norm1                          -   \n",
       "2_encoder0.layer.LeakyReLU_lrelu                               -   \n",
       "3_encoder0.layer.conv2.Conv3d_conv             [24, 24, 3, 3, 3]   \n",
       "4_encoder0.layer.InstanceNorm3d_norm2                          -   \n",
       "...                                                          ...   \n",
       "1365_decoder1.conv_block.InstanceNorm3d_norm2                  -   \n",
       "1366_decoder1.conv_block.conv3.Conv3d_conv     [48, 24, 1, 1, 1]   \n",
       "1367_decoder1.conv_block.InstanceNorm3d_norm3                  -   \n",
       "1368_decoder1.conv_block.LeakyReLU_lrelu                       -   \n",
       "1369_out.conv.Conv3d_conv                       [24, 2, 1, 1, 1]   \n",
       "\n",
       "                                                         Output Shape  \\\n",
       "Layer                                                                   \n",
       "0_encoder0.layer.conv1.Conv3d_conv             [1, 24, 128, 128, 128]   \n",
       "1_encoder0.layer.InstanceNorm3d_norm1          [1, 24, 128, 128, 128]   \n",
       "2_encoder0.layer.LeakyReLU_lrelu               [1, 24, 128, 128, 128]   \n",
       "3_encoder0.layer.conv2.Conv3d_conv             [1, 24, 128, 128, 128]   \n",
       "4_encoder0.layer.InstanceNorm3d_norm2          [1, 24, 128, 128, 128]   \n",
       "...                                                               ...   \n",
       "1365_decoder1.conv_block.InstanceNorm3d_norm2  [1, 24, 128, 128, 128]   \n",
       "1366_decoder1.conv_block.conv3.Conv3d_conv     [1, 24, 128, 128, 128]   \n",
       "1367_decoder1.conv_block.InstanceNorm3d_norm3  [1, 24, 128, 128, 128]   \n",
       "1368_decoder1.conv_block.LeakyReLU_lrelu       [1, 24, 128, 128, 128]   \n",
       "1369_out.conv.Conv3d_conv                       [1, 2, 128, 128, 128]   \n",
       "\n",
       "                                                Params     Mult-Adds  \n",
       "Layer                                                                 \n",
       "0_encoder0.layer.conv1.Conv3d_conv               648.0  1.358954e+09  \n",
       "1_encoder0.layer.InstanceNorm3d_norm1              NaN           NaN  \n",
       "2_encoder0.layer.LeakyReLU_lrelu                   NaN           NaN  \n",
       "3_encoder0.layer.conv2.Conv3d_conv             15552.0  3.261491e+10  \n",
       "4_encoder0.layer.InstanceNorm3d_norm2              NaN           NaN  \n",
       "...                                                ...           ...  \n",
       "1365_decoder1.conv_block.InstanceNorm3d_norm2      NaN           NaN  \n",
       "1366_decoder1.conv_block.conv3.Conv3d_conv      1152.0  2.415919e+09  \n",
       "1367_decoder1.conv_block.InstanceNorm3d_norm3      NaN           NaN  \n",
       "1368_decoder1.conv_block.LeakyReLU_lrelu           NaN           NaN  \n",
       "1369_out.conv.Conv3d_conv                         50.0  1.006633e+08  \n",
       "\n",
       "[1370 rows x 4 columns]"
      ]
     },
     "execution_count": 23,
     "metadata": {},
     "output_type": "execute_result"
    }
   ],
   "source": [
    "parser = argparse.ArgumentParser(description=\"model segmentation pipeline\")\n",
    "args = parser.parse_args([])\n",
    "args.device = 'cuda'\n",
    "args.in_channels = 1\n",
    "args.out_channels = 2\n",
    "args.roi_x, args.roi_y, args.roi_z = [128, 128, 128]\n",
    "args.patch_size = 4\n",
    "args.drop_rate = 0.4\n",
    "args.depths = [3, 3, 9, 3]\n",
    "net = None\n",
    "del net\n",
    "net = network('unetcst', args)\n",
    "inp = None\n",
    "del inp\n",
    "inp = torch.rand((1, 1, 128, 128, 128)).to(args.device)\n",
    "summary(net, inp)"
   ]
  },
  {
   "cell_type": "code",
   "execution_count": null,
   "metadata": {
    "colab": {
     "base_uri": "https://localhost:8080/",
     "height": 1000
    },
    "executionInfo": {
     "elapsed": 12995,
     "status": "ok",
     "timestamp": 1675568261093,
     "user": {
      "displayName": "29",
      "userId": "05747767364965554341"
     },
     "user_tz": -480
    },
    "id": "fWcGMrptvdW9",
    "outputId": "fa9b2311-ce61-4e85-8542-bf1efe29f89a"
   },
   "outputs": [],
   "source": [
    "parser = argparse.ArgumentParser(description=\"model segmentation pipeline\")\n",
    "args = parser.parse_args([])\n",
    "args.device = 'cuda'\n",
    "args.in_channels = 1\n",
    "args.out_channels = 2\n",
    "args.roi_x, args.roi_y, args.roi_z = [128, 128, 128]\n",
    "net = None\n",
    "del net\n",
    "net = network('unetcnx_x2', args)\n",
    "inp = None\n",
    "del inp\n",
    "inp = torch.rand((1, 1, 128, 128, 128)).to(args.device)\n",
    "summary(net, inp)"
   ]
  },
  {
   "cell_type": "markdown",
   "metadata": {
    "id": "QSqXrrbnjmso"
   },
   "source": [
    "## DenseVoxNet"
   ]
  },
  {
   "cell_type": "code",
   "execution_count": null,
   "metadata": {
    "id": "bSzuEejajmsq"
   },
   "outputs": [],
   "source": [
    "parser = argparse.ArgumentParser(description=\"model segmentation pipeline\")\n",
    "args = parser.parse_args([])\n",
    "args.device = 'cuda'\n",
    "args.in_channels = 1\n",
    "args.out_channels = 2\n",
    "args.roi_x, args.roi_y, args.roi_z = [96, 96, 96]\n",
    "net = network('dense_vox_net', args)\n",
    "inp = torch.rand((1, 1, 96, 96, 96)).to(args.device)\n",
    "summary(net, inp)"
   ]
  },
  {
   "cell_type": "markdown",
   "metadata": {
    "id": "fBdlQzFvr-lD"
   },
   "source": [
    "## EffcientSegNet"
   ]
  },
  {
   "cell_type": "code",
   "execution_count": null,
   "metadata": {
    "id": "yjf-ldr3r6OS"
   },
   "outputs": [],
   "source": [
    "parser = argparse.ArgumentParser(description=\"model segmentation pipeline\")\n",
    "args = parser.parse_args([])\n",
    "args.device = 'cuda'\n",
    "args.in_channels = 1\n",
    "args.out_channels = 2\n",
    "args.roi_x, args.roi_y, args.roi_z = [96, 96, 96]\n",
    "net = network('efficient_segnet_x0_2', args)\n",
    "summary(net, (1, 96, 96, 96))"
   ]
  },
  {
   "cell_type": "markdown",
   "metadata": {
    "id": "RVUWNYPfr6kT"
   },
   "source": [
    "## UNETCNX"
   ]
  },
  {
   "cell_type": "code",
   "execution_count": null,
   "metadata": {
    "id": "TwvaFb-cbR3W"
   },
   "outputs": [],
   "source": [
    "parser = argparse.ArgumentParser(description=\"model segmentation pipeline\")\n",
    "args = parser.parse_args([])\n",
    "args.device = 'cuda'\n",
    "args.in_channels = 1\n",
    "args.out_channels = 2\n",
    "args.roi_x, args.roi_y, args.roi_z = [96, 96, 96]\n",
    "net = network('unetcnx_x0', args)\n",
    "model = SSLHead(args.in_channels, net).to(args.device)\n",
    "summary(model, (1, 96, 96, 96))"
   ]
  },
  {
   "cell_type": "code",
   "execution_count": null,
   "metadata": {
    "id": "cT41ua3Dpyoa"
   },
   "outputs": [],
   "source": [
    "parser = argparse.ArgumentParser(description=\"model segmentation pipeline\")\n",
    "args = parser.parse_args([])\n",
    "args.device = 'cuda'\n",
    "args.in_channels = 1\n",
    "args.out_channels = 2\n",
    "args.roi_x, args.roi_y, args.roi_z = [96, 96, 96]\n",
    "model = network('unetcnx_x1', args)\n",
    "summary(model, (1, 96, 96, 96))"
   ]
  }
 ],
 "metadata": {
  "accelerator": "GPU",
  "colab": {
   "collapsed_sections": [
    "fBdlQzFvr-lD"
   ],
   "provenance": []
  },
  "gpuClass": "standard",
  "kernelspec": {
   "display_name": "base",
   "language": "python",
   "name": "base"
  },
  "language_info": {
   "codemirror_mode": {
    "name": "ipython",
    "version": 3
   },
   "file_extension": ".py",
   "mimetype": "text/x-python",
   "name": "python",
   "nbconvert_exporter": "python",
   "pygments_lexer": "ipython3",
   "version": "3.9.12"
  }
 },
 "nbformat": 4,
 "nbformat_minor": 4
}
