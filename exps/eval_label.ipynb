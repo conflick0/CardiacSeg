{
 "cells": [
  {
   "cell_type": "code",
   "execution_count": 9,
   "id": "d70c36bf-b7d8-41ca-8d60-063f24c49879",
   "metadata": {},
   "outputs": [
    {
     "name": "stdout",
     "output_type": "stream",
     "text": [
      "Sun Jul  2 04:55:17 2023       \n",
      "+-----------------------------------------------------------------------------+\n",
      "| NVIDIA-SMI 470.141.03   Driver Version: 470.141.03   CUDA Version: 11.4     |\n",
      "|-------------------------------+----------------------+----------------------+\n",
      "| GPU  Name        Persistence-M| Bus-Id        Disp.A | Volatile Uncorr. ECC |\n",
      "| Fan  Temp  Perf  Pwr:Usage/Cap|         Memory-Usage | GPU-Util  Compute M. |\n",
      "|                               |                      |               MIG M. |\n",
      "|===============================+======================+======================|\n",
      "|   0  Tesla V100-SXM2...  On   | 00000000:0B:00.0 Off |                    0 |\n",
      "| N/A   31C    P0    43W / 163W |      0MiB / 32510MiB |      0%      Default |\n",
      "|                               |                      |                  N/A |\n",
      "+-------------------------------+----------------------+----------------------+\n",
      "                                                                               \n",
      "+-----------------------------------------------------------------------------+\n",
      "| Processes:                                                                  |\n",
      "|  GPU   GI   CI        PID   Type   Process name                  GPU Memory |\n",
      "|        ID   ID                                                   Usage      |\n",
      "|=============================================================================|\n",
      "|  No running processes found                                                 |\n",
      "+-----------------------------------------------------------------------------+\n"
     ]
    }
   ],
   "source": [
    "!nvidia-smi"
   ]
  },
  {
   "cell_type": "code",
   "execution_count": 10,
   "id": "834c965d-93ff-4e47-97d3-83b5dee9c3a8",
   "metadata": {},
   "outputs": [
    {
     "name": "stdout",
     "output_type": "stream",
     "text": [
      "The autoreload extension is already loaded. To reload it, use:\n",
      "  %reload_ext autoreload\n"
     ]
    }
   ],
   "source": [
    "%load_ext autoreload\n",
    "%autoreload 2"
   ]
  },
  {
   "cell_type": "code",
   "execution_count": 11,
   "id": "b9a2770b-334a-4830-b569-72cb78f8282f",
   "metadata": {},
   "outputs": [
    {
     "name": "stdout",
     "output_type": "stream",
     "text": [
      "/nfs/Workspace/CardiacSeg/dataset/chgh/block_06\n"
     ]
    }
   ],
   "source": [
    "workspace_dir = '/nfs/Workspace/CardiacSeg'\n",
    "\n",
    "data_dir = f'{workspace_dir}/dataset/chgh/block_06'\n",
    "\n",
    "# img_pth='/nfs/Workspace/CardiacSeg/dataset/chgh/block_06/pid_1000.nii.gz'\n",
    "# lbl_pth='/nfs/Workspace/CardiacSeg/dataset/chgh/block_06/pid_1000_gt.nii.gz'\n",
    "# pred_pth='/nfs/Workspace/CardiacSeg/dataset/chgh/block_06/pid_1000_unetcnx.nii.gz'\n",
    "\n",
    "print(data_dir)"
   ]
  },
  {
   "cell_type": "code",
   "execution_count": 12,
   "id": "6d0b0ae8-eb18-4412-b1af-a3f299ba03fb",
   "metadata": {},
   "outputs": [
    {
     "name": "stdout",
     "output_type": "stream",
     "text": [
      "cuda is available\n",
      "infer data: {'image': '/nfs/Workspace/CardiacSeg/dataset/chgh/block_06/pid_1000.nii.gz', 'label': '/nfs/Workspace/CardiacSeg/dataset/chgh/block_06/pid_1000_gt.nii.gz', 'pred': '/nfs/Workspace/CardiacSeg/dataset/chgh/block_06/pid_1000_pwsb.nii.gz'}\n",
      "monai.transforms.io.dictionary LoadImaged.__init__:image_only: Current default value of argument `image_only=False` has been deprecated since version 1.1. It will be changed to `image_only=True` in version 1.3.\n",
      "<class 'monai.transforms.utility.dictionary.AddChanneld'>: Class `AddChanneld` has been deprecated since version 0.8. It will be removed in version 1.3. please use MetaTensor data type and monai.transforms.EnsureChannelFirstd instead with `channel_dim='no_channel'`.\n",
      "monai.transforms.utility.dictionary EnsureChannelFirstd.__init__:meta_keys: Argument `meta_keys` has been deprecated since version 0.9. not needed if image is type `MetaTensor`.\n",
      "<class 'monai.transforms.utility.array.AddChannel'>: Class `AddChannel` has been deprecated since version 0.8. It will be removed in version 1.3. please use MetaTensor data type and monai.transforms.EnsureChannelFirst instead with `channel_dim='no_channel'`.\n",
      "pred name: pwsb\n",
      "dice: 0.813605\n",
      "hd95: 9.110434\n",
      "\n",
      "infer data: {'image': '/nfs/Workspace/CardiacSeg/dataset/chgh/block_06/pid_1000.nii.gz', 'label': '/nfs/Workspace/CardiacSeg/dataset/chgh/block_06/pid_1000_gt.nii.gz', 'pred': '/nfs/Workspace/CardiacSeg/dataset/chgh/block_06/pid_1000_t.nii.gz'}\n",
      "pred name: t\n",
      "dice: 0.776614\n",
      "hd95: 17.291616\n",
      "\n",
      "infer data: {'image': '/nfs/Workspace/CardiacSeg/dataset/chgh/block_06/pid_1000.nii.gz', 'label': '/nfs/Workspace/CardiacSeg/dataset/chgh/block_06/pid_1000_gt.nii.gz', 'pred': '/nfs/Workspace/CardiacSeg/dataset/chgh/block_06/pid_1000_ts.nii.gz'}\n",
      "pred name: ts\n",
      "dice: 0.7890429\n",
      "hd95: 18.681541\n",
      "\n",
      "infer data: {'image': '/nfs/Workspace/CardiacSeg/dataset/chgh/block_06/pid_1000.nii.gz', 'label': '/nfs/Workspace/CardiacSeg/dataset/chgh/block_06/pid_1000_gt.nii.gz', 'pred': '/nfs/Workspace/CardiacSeg/dataset/chgh/block_06/pid_1000_unetcnx-o-80.nii.gz'}\n",
      "pred name: unetcnx-o-80\n",
      "dice: 0.8860157\n",
      "hd95: 3.0\n",
      "\n",
      "infer data: {'image': '/nfs/Workspace/CardiacSeg/dataset/chgh/block_06/pid_1000.nii.gz', 'label': '/nfs/Workspace/CardiacSeg/dataset/chgh/block_06/pid_1000_gt.nii.gz', 'pred': '/nfs/Workspace/CardiacSeg/dataset/chgh/block_06/pid_1000_unetcnx.nii.gz'}\n",
      "pred name: unetcnx\n",
      "dice: 0.87309045\n",
      "hd95: 3.6055512\n",
      "\n"
     ]
    }
   ],
   "source": [
    "# training\n",
    "!PYTHONPATH={workspace_dir} /opt/conda/bin/python {workspace_dir}/expers/eval_label.py \\\n",
    "--out_channels=2 \\\n",
    "--a_min=-42 \\\n",
    "--a_max=423 \\\n",
    "--space_x=1.0 \\\n",
    "--space_y=1.0 \\\n",
    "--space_z=1.0 \\\n",
    "--data_name='chgh' \\\n",
    "--data_dir={data_dir}\n",
    "# --img_pth={img_pth} \\\n",
    "# --lbl_pth={lbl_pth} \\\n",
    "# --pred_pth={pred_pth} \\"
   ]
  }
 ],
 "metadata": {
  "kernelspec": {
   "display_name": "Python 3 (ipykernel)",
   "language": "python",
   "name": "python3"
  },
  "language_info": {
   "codemirror_mode": {
    "name": "ipython",
    "version": 3
   },
   "file_extension": ".py",
   "mimetype": "text/x-python",
   "name": "python",
   "nbconvert_exporter": "python",
   "pygments_lexer": "ipython3",
   "version": "3.8.10"
  }
 },
 "nbformat": 4,
 "nbformat_minor": 5
}
