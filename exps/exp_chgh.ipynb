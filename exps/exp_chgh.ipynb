{
 "cells": [
  {
   "cell_type": "code",
   "execution_count": 23,
   "metadata": {
    "id": "nmnP0OoaJ4pP"
   },
   "outputs": [
    {
     "name": "stdout",
     "output_type": "stream",
     "text": [
      "Sun Jul  2 08:58:26 2023       \n",
      "+-----------------------------------------------------------------------------+\n",
      "| NVIDIA-SMI 470.141.03   Driver Version: 470.141.03   CUDA Version: 11.4     |\n",
      "|-------------------------------+----------------------+----------------------+\n",
      "| GPU  Name        Persistence-M| Bus-Id        Disp.A | Volatile Uncorr. ECC |\n",
      "| Fan  Temp  Perf  Pwr:Usage/Cap|         Memory-Usage | GPU-Util  Compute M. |\n",
      "|                               |                      |               MIG M. |\n",
      "|===============================+======================+======================|\n",
      "|   0  Tesla V100-SXM2...  On   | 00000000:0B:00.0 Off |                    0 |\n",
      "| N/A   31C    P0    47W / 163W |   7720MiB / 32510MiB |      0%      Default |\n",
      "|                               |                      |                  N/A |\n",
      "+-------------------------------+----------------------+----------------------+\n",
      "                                                                               \n",
      "+-----------------------------------------------------------------------------+\n",
      "| Processes:                                                                  |\n",
      "|  GPU   GI   CI        PID   Type   Process name                  GPU Memory |\n",
      "|        ID   ID                                                   Usage      |\n",
      "|=============================================================================|\n",
      "+-----------------------------------------------------------------------------+\n"
     ]
    }
   ],
   "source": [
    "!nvidia-smi"
   ]
  },
  {
   "cell_type": "markdown",
   "metadata": {
    "id": "EaIVNeQDIdaB"
   },
   "source": [
    "## Setup environment"
   ]
  },
  {
   "cell_type": "code",
   "execution_count": 24,
   "metadata": {
    "colab": {
     "base_uri": "https://localhost:8080/"
    },
    "executionInfo": {
     "elapsed": 58587,
     "status": "ok",
     "timestamp": 1667727198633,
     "user": {
      "displayName": "22",
      "userId": "12730652554089239437"
     },
     "user_tz": -480
    },
    "id": "Oj2GFXrhLdJ9",
    "outputId": "6330e29a-38e7-43a1-d5a2-bddf86d9d07d"
   },
   "outputs": [
    {
     "name": "stdout",
     "output_type": "stream",
     "text": [
      "The autoreload extension is already loaded. To reload it, use:\n",
      "  %reload_ext autoreload\n"
     ]
    }
   ],
   "source": [
    "# sync python module\n",
    "%load_ext autoreload\n",
    "%autoreload 2"
   ]
  },
  {
   "cell_type": "markdown",
   "metadata": {
    "id": "wjHHXsxrY_GO"
   },
   "source": [
    "## Setup config"
   ]
  },
  {
   "cell_type": "code",
   "execution_count": 27,
   "metadata": {
    "id": "IWG1M4NMYniV"
   },
   "outputs": [
    {
     "name": "stdout",
     "output_type": "stream",
     "text": [
      "/nfs/Workspace/CardiacSeg/exps/exps/unetcnx_a1/chgh\n"
     ]
    }
   ],
   "source": [
    "import os\n",
    "\n",
    "workspace_dir = '/nfs/Workspace/CardiacSeg'\n",
    "model_name = 'unetcnx_a1'\n",
    "data_name = 'chgh'\n",
    "sub_data_dir_name = 'dataset_2'\n",
    "exp_name = 't_5'\n",
    "data_dict_file_name = 'exp_b7_9.json'\n",
    "\n",
    "tune_mode = 'train'\n",
    "\n",
    "# set exp dir\n",
    "root_exp_dir = os.path.join(\n",
    "    workspace_dir, \n",
    "    'exps',\n",
    "    'exps',\n",
    "    model_name,\n",
    "    data_name,\n",
    "    'tune_results'\n",
    ")\n",
    "\n",
    "# set data dir\n",
    "root_data_dir = os.path.join(\n",
    "    workspace_dir, \n",
    "    'dataset',\n",
    "    data_name\n",
    ")\n",
    "data_dir = os.path.join(root_data_dir, sub_data_dir_name)\n",
    "\n",
    "# data dict json path\n",
    "data_dicts_json = os.path.join(workspace_dir, 'exps', 'data_dicts', data_name, data_dict_file_name)\n",
    "\n",
    "# set model, log, eval dir\n",
    "model_dir = os.path.join('./', 'models')\n",
    "log_dir = os.path.join('./', 'logs')\n",
    "eval_dir = os.path.join('./', 'evals')\n",
    "\n",
    "# model path\n",
    "best_checkpoint = os.path.join(model_dir, 'best_model.pth')\n",
    "final_checkpoint = os.path.join(model_dir, 'final_model.pth')\n",
    "\n",
    "# mkdir root exp dir\n",
    "os.makedirs(root_exp_dir, exist_ok=True)\n",
    "\n",
    "# for pretrain\n",
    "pretrain_exp_name = 'exp_50'\n",
    "pretrain_data_name = 'image_cas'\n",
    "pretrain_model_dir = os.path.join(\n",
    "    workspace_dir,\n",
    "    'exps',\n",
    "    'exps',\n",
    "    model_name,\n",
    "    pretrain_data_name,\n",
    "    'pretrain',\n",
    "    pretrain_exp_name,\n",
    "    'models'\n",
    ")\n",
    "pretrain_checkpoint = os.path.join(pretrain_model_dir, 'model_bestValRMSE.pt')\n",
    "\n",
    "%cd {root_exp_dir}/../"
   ]
  },
  {
   "cell_type": "markdown",
   "metadata": {
    "id": "3dfeJTv8ZETs",
    "tags": []
   },
   "source": [
    "## Train UNETCNX"
   ]
  },
  {
   "cell_type": "code",
   "execution_count": 28,
   "metadata": {
    "colab": {
     "base_uri": "https://localhost:8080/"
    },
    "executionInfo": {
     "elapsed": 5212593,
     "status": "ok",
     "timestamp": 1667732466402,
     "user": {
      "displayName": "22",
      "userId": "12730652554089239437"
     },
     "user_tz": -480
    },
    "id": "Pc5UecWCYizV",
    "outputId": "92365bec-cd7e-4561-b607-43d9f3520dd9",
    "tags": []
   },
   "outputs": [
    {
     "name": "stdout",
     "output_type": "stream",
     "text": [
      "test mode\n",
      "resume tuner form /nfs/Workspace/CardiacSeg/exps/exps/unetcnx_a1/chgh/tune_results\n",
      "Passing in the experiment's `trainable` will be a required argument to `Tuner.restore` starting from version 2.5. Please specify the trainable to avoid this warning.\n",
      "run test mode ...\n",
      "cuda is available\n",
      "model: unetcnx_a1\n",
      "patch size: 4\n",
      "ker size: 7\n",
      "exp rate: 4\n",
      "feature sizes: [48, 96, 192, 384]\n",
      "depths: [3, 3, 9, 3]\n",
      "drop rate: 0.1\n",
      "use init weights: True\n",
      "is conv stem: False\n",
      "use init weights\n",
      "use deep sup\n",
      "loss: dice ce loss\n",
      "optimzer: AdamW\n",
      "{'lr': 0.0007, 'weight_decay': 0.0005}\n",
      "=> loaded checkpoint '/nfs/Workspace/CardiacSeg/exps/exps/unetcnx_a1/chgh/tune_results/t_5/main_d92fb_00000_0_exp=exp_t_5_2023-05-30_02-36-58/models/best_model.pth' (epoch 521) (bestacc 0.8913398385047913) (early stop count 0)\n",
      "load json from /nfs/Workspace/CardiacSeg/exps/data_dicts/chgh/exp_b7_9.json\n",
      "train files (9): ['pid_08', 'pid_27', 'pid_30', 'pid_52', 'pid_56', 'pid_57', 'pid_110', 'pid_1002', 'pid_1003']\n",
      "val files (3): ['pid_08_1', 'pid_107', 'pid_108']\n",
      "test files (3): ['pid_02', 'pid_106', 'pid_1000']\n",
      "infer data: {'image': '/nfs/Workspace/CardiacSeg/dataset/chgh/dataset_2/pid_02/pid_02.nii.gz', 'label': '/nfs/Workspace/CardiacSeg/dataset/chgh/dataset_2/pid_02/pid_02_gt.nii.gz'}\n",
      "monai.transforms.io.dictionary LoadImaged.__init__:image_only: Current default value of argument `image_only=False` has been deprecated since version 1.1. It will be changed to `image_only=True` in version 1.3.\n",
      "<class 'monai.transforms.utility.dictionary.AddChanneld'>: Class `AddChanneld` has been deprecated since version 0.8. It will be removed in version 1.3. please use MetaTensor data type and monai.transforms.EnsureChannelFirstd instead with `channel_dim='no_channel'`.\n",
      "monai.transforms.utility.dictionary EnsureChannelFirstd.__init__:meta_keys: Argument `meta_keys` has been deprecated since version 0.9. not needed if image is type `MetaTensor`.\n",
      "infer time: 6.773667812347412 sec\n",
      "use post process infer\n",
      "<class 'monai.transforms.utility.array.AddChannel'>: Class `AddChannel` has been deprecated since version 0.8. It will be removed in version 1.3. please use MetaTensor data type and monai.transforms.EnsureChannelFirst instead with `channel_dim='no_channel'`.\n",
      "infer test time aug:\n",
      "dice: 0.90075624\n",
      "hd95: 4.2426405\n",
      "infer test original:\n",
      "dice: 0.8919056\n",
      "hd95: 9.219544\n",
      "infer data: {'image': '/nfs/Workspace/CardiacSeg/dataset/chgh/dataset_2/pid_106/pid_106.nii.gz', 'label': '/nfs/Workspace/CardiacSeg/dataset/chgh/dataset_2/pid_106/pid_106_gt.nii.gz'}\n",
      "infer time: 5.310731649398804 sec\n",
      "use post process infer\n",
      "infer test time aug:\n",
      "dice: 0.88427883\n",
      "hd95: 4.0\n",
      "infer test original:\n",
      "dice: 0.8797494\n",
      "hd95: 7.8740077\n",
      "infer data: {'image': '/nfs/Workspace/CardiacSeg/dataset/chgh/dataset_2/pid_1000/pid_1000.nii.gz', 'label': '/nfs/Workspace/CardiacSeg/dataset/chgh/dataset_2/pid_1000/pid_1000_gt.nii.gz'}\n",
      "infer time: 5.338151931762695 sec\n",
      "use post process infer\n",
      "infer test time aug:\n",
      "dice: 0.9133265\n",
      "hd95: 4.1231055\n",
      "infer test original:\n",
      "dice: 0.8970723\n",
      "hd95: 9.219544\n",
      "\n",
      "eval result:\n",
      "avg tt dice: 0.8994539\n",
      "avg tt hd95: 4.1219153\n",
      "avg inf dice: 0.8895758\n",
      "avg inf hd95: 8.771031\n",
      "avg inf time: 5.807517131169637\n",
      "  patientId  tt_diceC  tt_hd95C  inf_diceC  inf_hd95C  inf_time\n",
      "0    pid_02  0.900756  4.242640   0.891906   9.219544  6.773668\n",
      "1   pid_106  0.884279  4.000000   0.879749   7.874008  5.310732\n",
      "2  pid_1000  0.913327  4.123106   0.897072   9.219544  5.338152\n",
      "Session not detected. You should not be calling `report` outside `tuner.fit()` or while using the class API. \n",
      "  File \"/nfs/Workspace/CardiacSeg/expers/tune.py\", line 460, in <module>\n",
      "    main_worker(args)\n",
      "  File \"/nfs/Workspace/CardiacSeg/expers/tune.py\", line 330, in main_worker\n",
      "    tune.report(\n",
      "\n",
      "\u001b[0m"
     ]
    }
   ],
   "source": [
    "# training\n",
    "!PYTHONPATH={workspace_dir} /opt/conda/bin/python {workspace_dir}/expers/tune.py \\\n",
    "--tune_mode={tune_mode} \\\n",
    "--exp_name={exp_name} \\\n",
    "--data_name={data_name} \\\n",
    "--data_dir={data_dir} \\\n",
    "--root_exp_dir={root_exp_dir} \\\n",
    "--model_name={model_name}\\\n",
    "--model_dir={model_dir} \\\n",
    "--log_dir={log_dir} \\\n",
    "--eval_dir={eval_dir} \\\n",
    "--start_epoch=0 \\\n",
    "--val_every=20 \\\n",
    "--max_early_stop_count=20 \\\n",
    "--max_epoch=8000  \\\n",
    "--data_dicts_json={data_dicts_json} \\\n",
    "--pin_memory \\\n",
    "--out_channels=2 \\\n",
    "--patch_size=4 \\\n",
    "--feature_size=48 \\\n",
    "--drop_rate=0.1 \\\n",
    "--depths 3 3 9 3 \\\n",
    "--kernel_size 7 \\\n",
    "--exp_rate 4 \\\n",
    "--norm_name='layer' \\\n",
    "--a_min=-42 \\\n",
    "--a_max=423 \\\n",
    "--space_x=0.7 \\\n",
    "--space_y=0.7 \\\n",
    "--space_z=1.0 \\\n",
    "--roi_x=128 \\\n",
    "--roi_y=128 \\\n",
    "--roi_z=128 \\\n",
    "--optim='AdamW' \\\n",
    "--lr=7e-4 \\\n",
    "--weight_decay=5e-4 \\\n",
    "--checkpoint={final_checkpoint} \\\n",
    "--use_init_weights \\\n",
    "--infer_post_process \\\n",
    "--deep_sup \\\n",
    "# --resume_tuner \\\n",
    "# --test_mode \\\n",
    "# --save_eval_csv \\"
   ]
  },
  {
   "cell_type": "markdown",
   "metadata": {},
   "source": [
    "## Train other models"
   ]
  },
  {
   "cell_type": "code",
   "execution_count": 15,
   "metadata": {},
   "outputs": [
    {
     "name": "stdout",
     "output_type": "stream",
     "text": [
      "resume tuner form /nfs/Workspace/CardiacSeg/exps/exps/swinunetr/chgh/tune_results\n",
      "Passing in the experiment's `trainable` will be a required argument to `Tuner.restore` starting from version 2.5. Please specify the trainable to avoid this warning.\n",
      "2023-07-02 08:04:28,844\tINFO worker.py:1625 -- Started a local Ray instance.\n",
      "2023-07-02 08:04:29,645\tINFO tune.py:218 -- Initializing Ray automatically. For cluster usage or custom Ray initialization, call `ray.init(...)` before `Tuner(...)`.\n",
      "The `local_dir` argument of `Experiment is deprecated. Use `storage_path` or set the `TUNE_RESULT_DIR` environment variable instead.\n",
      "2023-07-02 08:04:29,660\tINFO tensorboardx.py:172 -- pip install \"ray[tune]\" to see TensorBoard files.\n",
      "2023-07-02 08:04:29,661\tWARNING callback.py:142 -- The TensorboardX logger cannot be instantiated because either TensorboardX or one of it's dependencies is not installed. Please make sure you have the latest version of TensorboardX installed: `pip install -U tensorboardx`\n",
      "2023-07-02 08:04:29,665\tINFO experiment_state.py:392 -- A local experiment checkpoint was found and will be used to restore the previous experiment state.\n",
      "2023-07-02 08:04:29,666\tWARNING trial_runner.py:382 -- Attempting to resume experiment from /nfs/Workspace/CardiacSeg/exps/exps/swinunetr/chgh/tune_results/t_4. This will ignore any new changes to the specification.\n",
      "2023-07-02 08:04:29,666\tINFO trial_runner.py:386 -- Using the newest experiment state file found within the experiment directory: experiment_state-2023-04-10_06-53-58.json\n",
      "== Status ==\n",
      "Current time: 2023-07-02 08:04:29 (running for 00:00:00.07)\n",
      "Using FIFO scheduling algorithm.\n",
      "Logical resource usage: 0/4 CPUs, 0/1 GPUs (0.0/1.0 accelerator_type:V100)\n",
      "Result logdir: /nfs/Workspace/CardiacSeg/exps/exps/swinunetr/chgh/tune_results/t_4\n",
      "Number of trials: 1/1 (1 TERMINATED)\n",
      "+------------------+------------+-----------------------+---------------------+-----------+-----------+------------+------------+---------------+\n",
      "| Trial name       | status     | loc                   | exp                 |   tt_dice |   tt_hd95 |   inf_dice |   inf_hd95 |   val_bst_acc |\n",
      "|------------------+------------+-----------------------+---------------------+-----------+-----------+------------+------------+---------------|\n",
      "| main_634c8_00000 | TERMINATED | 10.32.221.157:3440751 | {'exp': 'exp_b7_9'} |  0.888225 |   4.93784 |   0.880507 |    10.5395 |      0.889144 |\n",
      "+------------------+------------+-----------------------+---------------------+-----------+-----------+------------+------------+---------------+\n",
      "\n",
      "\n",
      "2023-07-02 08:04:29,743\tINFO tune.py:945 -- Total run time: 0.10 seconds (0.00 seconds for the tuning loop).\n",
      "\u001b[0m"
     ]
    }
   ],
   "source": [
    "# training\n",
    "!PYTHONPATH={workspace_dir} /opt/conda/bin/python {workspace_dir}/expers/tune.py \\\n",
    "--tune_mode={tune_mode} \\\n",
    "--exp_name={exp_name} \\\n",
    "--data_name={data_name} \\\n",
    "--data_dir={data_dir} \\\n",
    "--root_exp_dir={root_exp_dir} \\\n",
    "--model_name={model_name}\\\n",
    "--model_dir={model_dir} \\\n",
    "--log_dir={log_dir} \\\n",
    "--eval_dir={eval_dir} \\\n",
    "--start_epoch=0 \\\n",
    "--val_every=20 \\\n",
    "--max_early_stop_count=20 \\\n",
    "--max_epoch=8000  \\\n",
    "--data_dicts_json={data_dicts_json} \\\n",
    "--pin_memory \\\n",
    "--out_channels=2 \\\n",
    "--patch_size=4 \\\n",
    "--feature_size=48 \\\n",
    "--drop_rate=0.1 \\\n",
    "--depths 3 3 9 3 \\\n",
    "--kernel_size 7 \\\n",
    "--exp_rate 4 \\\n",
    "--norm_name='layer' \\\n",
    "--a_min=-42 \\\n",
    "--a_max=423 \\\n",
    "--space_x=0.7 \\\n",
    "--space_y=0.7 \\\n",
    "--space_z=1.0 \\\n",
    "--roi_x=128 \\\n",
    "--roi_y=128 \\\n",
    "--roi_z=128 \\\n",
    "--optim='AdamW' \\\n",
    "--lr=5e-4 \\\n",
    "--weight_decay=5e-4 \\\n",
    "--checkpoint={final_checkpoint} \\\n",
    "--use_init_weights \\\n",
    "--infer_post_process \\\n",
    "# --resume_tuner \\\n",
    "# --save_eval_csv \\\n",
    "# --test_mode \\"
   ]
  },
  {
   "cell_type": "markdown",
   "metadata": {
    "id": "UmzrquOuZKk7"
   },
   "source": [
    "## Analysis"
   ]
  },
  {
   "cell_type": "code",
   "execution_count": 42,
   "metadata": {},
   "outputs": [
    {
     "name": "stdout",
     "output_type": "stream",
     "text": [
      "Loading results from /nfs/Workspace/CardiacSeg/exps/exps/unetcnx_a1/chgh/tune_results/exp_b7_9_ds1_fh_tn1...\n",
      "/opt/conda/lib/python3.9/site-packages/ray/tune/tuner.py:255: UserWarning: Passing in the experiment's `trainable` will be a required argument to `Tuner.restore` starting from version 2.5. Please specify the trainable to avoid this warning.\n",
      "  warnings.warn(warning_message)\n",
      "2023-05-28 09:29:00,909 - No `self.trials`. Drawing logdirs from checkpoint file. This may result in some information that is out of sync, as checkpointing is periodic.\n",
      "Trial 6fc08_00000:  {'optim': {'lr': 0.0005, 'weight_decay': 0.0003}} 0.8928633 0.88013774\n",
      "Trial 6fc08_00001:  {'optim': {'lr': 0.0005, 'weight_decay': 0.0007}} 0.8774688 0.8682186\n",
      "\n",
      "Best trial 6fc08_00000: \n",
      "config: {'optim': {'lr': 0.0005, 'weight_decay': 0.0003}}\n",
      "tt_dice: 0.8928633\n",
      "tt_hd95: 4.149112902449147\n",
      "inf_dice: 0.88013774\n",
      "inf_hd95: 8.449605779201455\n",
      "best log dir: /nfs/Workspace/CardiacSeg/exps/exps/unetcnx_a1/chgh/tune_results/exp_b7_9_ds1_fh_tn1/main_6fc08_00000_0_optim=lr_0_0005_weight_decay_0_0003_2023-05-27_14-19-05\n",
      "final early stop count: 20\n",
      "final epoch: 1080\n",
      "best val dice: 0.8920990824699402\n",
      "\u001b[0m"
     ]
    }
   ],
   "source": [
    "!PYTHONPATH=/nfs/Workspace/CardiacSeg /opt/conda/bin/python /nfs/Workspace/CardiacSeg/expers/tune_anal.py \\\n",
    "--exp_name={exp_name} \\\n",
    "--local_dir={root_exp_dir}"
   ]
  }
 ],
 "metadata": {
  "colab": {
   "collapsed_sections": [],
   "provenance": []
  },
  "gpuClass": "standard",
  "kernelspec": {
   "display_name": "base",
   "language": "python",
   "name": "base"
  },
  "language_info": {
   "codemirror_mode": {
    "name": "ipython",
    "version": 3
   },
   "file_extension": ".py",
   "mimetype": "text/x-python",
   "name": "python",
   "nbconvert_exporter": "python",
   "pygments_lexer": "ipython3",
   "version": "3.9.12"
  }
 },
 "nbformat": 4,
 "nbformat_minor": 4
}
