{
 "cells": [
  {
   "cell_type": "code",
   "execution_count": 1,
   "metadata": {
    "id": "nmnP0OoaJ4pP"
   },
   "outputs": [
    {
     "name": "stdout",
     "output_type": "stream",
     "text": [
      "Mon Jul  3 09:14:27 2023       \n",
      "+-----------------------------------------------------------------------------+\n",
      "| NVIDIA-SMI 515.48.07    Driver Version: 515.48.07    CUDA Version: 11.7     |\n",
      "|-------------------------------+----------------------+----------------------+\n",
      "| GPU  Name        Persistence-M| Bus-Id        Disp.A | Volatile Uncorr. ECC |\n",
      "| Fan  Temp  Perf  Pwr:Usage/Cap|         Memory-Usage | GPU-Util  Compute M. |\n",
      "|                               |                      |               MIG M. |\n",
      "|===============================+======================+======================|\n",
      "|   0  NVIDIA GeForce ...  Off  | 00000000:06:00.0 Off |                  N/A |\n",
      "| 23%   31C    P8     8W / 250W |      0MiB / 11264MiB |      0%      Default |\n",
      "|                               |                      |                  N/A |\n",
      "+-------------------------------+----------------------+----------------------+\n",
      "                                                                               \n",
      "+-----------------------------------------------------------------------------+\n",
      "| Processes:                                                                  |\n",
      "|  GPU   GI   CI        PID   Type   Process name                  GPU Memory |\n",
      "|        ID   ID                                                   Usage      |\n",
      "|=============================================================================|\n",
      "|  No running processes found                                                 |\n",
      "+-----------------------------------------------------------------------------+\n"
     ]
    }
   ],
   "source": [
    "!nvidia-smi"
   ]
  },
  {
   "cell_type": "markdown",
   "metadata": {
    "id": "EaIVNeQDIdaB"
   },
   "source": [
    "## Setup environment"
   ]
  },
  {
   "cell_type": "code",
   "execution_count": 2,
   "metadata": {
    "colab": {
     "base_uri": "https://localhost:8080/"
    },
    "executionInfo": {
     "elapsed": 58587,
     "status": "ok",
     "timestamp": 1667727198633,
     "user": {
      "displayName": "22",
      "userId": "12730652554089239437"
     },
     "user_tz": -480
    },
    "id": "Oj2GFXrhLdJ9",
    "outputId": "6330e29a-38e7-43a1-d5a2-bddf86d9d07d"
   },
   "outputs": [],
   "source": [
    "# sync python module\n",
    "%load_ext autoreload\n",
    "%autoreload 2"
   ]
  },
  {
   "cell_type": "markdown",
   "metadata": {
    "id": "wjHHXsxrY_GO"
   },
   "source": [
    "## Setup config"
   ]
  },
  {
   "cell_type": "code",
   "execution_count": 9,
   "metadata": {
    "id": "IWG1M4NMYniV"
   },
   "outputs": [
    {
     "name": "stdout",
     "output_type": "stream",
     "text": [
      "/nfs/Workspace/CardiacSeg/exps/exps/unet3d/chgh\n"
     ]
    }
   ],
   "source": [
    "import os\n",
    "\n",
    "workspace_dir = '/nfs/Workspace/CardiacSeg'\n",
    "model_name = 'unetcnx_a1'\n",
    "data_name = 'chgh'\n",
    "sub_data_dir_name = 'dataset_2'\n",
    "exp_name = 't_5'\n",
    "data_dict_file_name = 'exp_b7_9.json'\n",
    "\n",
    "tune_mode = 'train'\n",
    "\n",
    "# set exp dir\n",
    "root_exp_dir = os.path.join(\n",
    "    workspace_dir, \n",
    "    'exps',\n",
    "    'exps',\n",
    "    model_name,\n",
    "    data_name,\n",
    "    'tune_results'\n",
    ")\n",
    "\n",
    "# set data dir\n",
    "root_data_dir = os.path.join(\n",
    "    workspace_dir, \n",
    "    'dataset',\n",
    "    data_name\n",
    ")\n",
    "data_dir = os.path.join(root_data_dir, sub_data_dir_name)\n",
    "\n",
    "# data dict json path\n",
    "data_dicts_json = os.path.join(workspace_dir, 'exps', 'data_dicts', data_name, data_dict_file_name)\n",
    "\n",
    "# set model, log, eval dir\n",
    "model_dir = os.path.join('./', 'models')\n",
    "log_dir = os.path.join('./', 'logs')\n",
    "eval_dir = os.path.join('./', 'evals')\n",
    "\n",
    "# model path\n",
    "best_checkpoint = os.path.join(model_dir, 'best_model.pth')\n",
    "final_checkpoint = os.path.join(model_dir, 'final_model.pth')\n",
    "\n",
    "# mkdir root exp dir\n",
    "os.makedirs(root_exp_dir, exist_ok=True)\n",
    "\n",
    "# for pretrain\n",
    "pretrain_exp_name = 'exp_50'\n",
    "pretrain_data_name = 'image_cas'\n",
    "pretrain_model_dir = os.path.join(\n",
    "    workspace_dir,\n",
    "    'exps',\n",
    "    'exps',\n",
    "    model_name,\n",
    "    pretrain_data_name,\n",
    "    'pretrain',\n",
    "    pretrain_exp_name,\n",
    "    'models'\n",
    ")\n",
    "pretrain_checkpoint = os.path.join(pretrain_model_dir, 'model_bestValRMSE.pt')\n",
    "\n",
    "%cd {root_exp_dir}/../"
   ]
  },
  {
   "cell_type": "markdown",
   "metadata": {
    "id": "3dfeJTv8ZETs",
    "tags": []
   },
   "source": [
    "## Train UNETCNX"
   ]
  },
  {
   "cell_type": "code",
   "execution_count": 4,
   "metadata": {
    "colab": {
     "base_uri": "https://localhost:8080/"
    },
    "executionInfo": {
     "elapsed": 5212593,
     "status": "ok",
     "timestamp": 1667732466402,
     "user": {
      "displayName": "22",
      "userId": "12730652554089239437"
     },
     "user_tz": -480
    },
    "id": "Pc5UecWCYizV",
    "outputId": "92365bec-cd7e-4561-b607-43d9f3520dd9",
    "tags": []
   },
   "outputs": [
    {
     "name": "stdout",
     "output_type": "stream",
     "text": [
      "resume tuner form /nfs/Workspace/CardiacSeg/exps/exps/unetcnx_a1/chgh/tune_results\n",
      "Passing in the experiment's `trainable` will be a required argument to `Tuner.restore` starting from version 2.5. Please specify the trainable to avoid this warning.\n",
      "2023-07-03 09:14:48,600\tWARNING utils.py:625 -- Ray currently does not support initializing Raywith fractional cpus. Your num_cpus will be truncated from 1.6 to 1.\n",
      "2023-07-03 09:14:48,667\tINFO worker.py:1625 -- Started a local Ray instance.\n",
      "2023-07-03 09:14:49,720\tINFO tune.py:218 -- Initializing Ray automatically. For cluster usage or custom Ray initialization, call `ray.init(...)` before `Tuner(...)`.\n",
      "The `local_dir` argument of `Experiment is deprecated. Use `storage_path` or set the `TUNE_RESULT_DIR` environment variable instead.\n",
      "2023-07-03 09:14:49,738\tINFO tensorboardx.py:172 -- pip install \"ray[tune]\" to see TensorBoard files.\n",
      "2023-07-03 09:14:49,738\tWARNING callback.py:142 -- The TensorboardX logger cannot be instantiated because either TensorboardX or one of it's dependencies is not installed. Please make sure you have the latest version of TensorboardX installed: `pip install -U tensorboardx`\n",
      "2023-07-03 09:14:49,743\tINFO experiment_state.py:392 -- A local experiment checkpoint was found and will be used to restore the previous experiment state.\n",
      "2023-07-03 09:14:49,743\tWARNING trial_runner.py:382 -- Attempting to resume experiment from /nfs/Workspace/CardiacSeg/exps/exps/unetcnx_a1/chgh/tune_results/t_5. This will ignore any new changes to the specification.\n",
      "2023-07-03 09:14:49,744\tINFO trial_runner.py:386 -- Using the newest experiment state file found within the experiment directory: experiment_state-2023-05-30_15-33-09.json\n",
      "== Status ==\n",
      "Current time: 2023-07-03 09:14:49 (running for 00:00:00.06)\n",
      "Using FIFO scheduling algorithm.\n",
      "Logical resource usage: 0/1 CPUs, 0/1 GPUs (0.0/1.0 accelerator_type:G)\n",
      "Result logdir: /nfs/Workspace/CardiacSeg/exps/exps/unetcnx_a1/chgh/tune_results/t_5\n",
      "Number of trials: 1/1 (1 TERMINATED)\n",
      "+------------------+------------+-----------------------+----------------+-----------+-----------+------------+------------+---------------+------------+\n",
      "| Trial name       | status     | loc                   | exp            |   tt_dice |   tt_hd95 |   inf_dice |   inf_hd95 |   val_bst_acc |   inf_time |\n",
      "|------------------+------------+-----------------------+----------------+-----------+-----------+------------+------------+---------------+------------|\n",
      "| main_d92fb_00000 | TERMINATED | 10.32.221.131:1936712 | {'exp': 't_5'} |  0.898808 |   4.41421 |   0.888916 |    9.57478 |       0.89134 |    7.65195 |\n",
      "+------------------+------------+-----------------------+----------------+-----------+-----------+------------+------------+---------------+------------+\n",
      "\n",
      "\n",
      "2023-07-03 09:14:49,856\tINFO tune.py:945 -- Total run time: 0.14 seconds (0.00 seconds for the tuning loop).\n",
      "\u001b[0m"
     ]
    }
   ],
   "source": [
    "# training\n",
    "!PYTHONPATH={workspace_dir} /opt/conda/bin/python {workspace_dir}/expers/tune.py \\\n",
    "--tune_mode={tune_mode} \\\n",
    "--exp_name={exp_name} \\\n",
    "--data_name={data_name} \\\n",
    "--data_dir={data_dir} \\\n",
    "--root_exp_dir={root_exp_dir} \\\n",
    "--model_name={model_name}\\\n",
    "--model_dir={model_dir} \\\n",
    "--log_dir={log_dir} \\\n",
    "--eval_dir={eval_dir} \\\n",
    "--start_epoch=0 \\\n",
    "--val_every=20 \\\n",
    "--max_early_stop_count=20 \\\n",
    "--max_epoch=8000  \\\n",
    "--data_dicts_json={data_dicts_json} \\\n",
    "--pin_memory \\\n",
    "--out_channels=2 \\\n",
    "--patch_size=4 \\\n",
    "--feature_size=48 \\\n",
    "--drop_rate=0.1 \\\n",
    "--depths 3 3 9 3 \\\n",
    "--kernel_size 7 \\\n",
    "--exp_rate 4 \\\n",
    "--norm_name='layer' \\\n",
    "--a_min=-42 \\\n",
    "--a_max=423 \\\n",
    "--space_x=0.7 \\\n",
    "--space_y=0.7 \\\n",
    "--space_z=1.0 \\\n",
    "--roi_x=128 \\\n",
    "--roi_y=128 \\\n",
    "--roi_z=128 \\\n",
    "--optim='AdamW' \\\n",
    "--lr=7e-4 \\\n",
    "--weight_decay=5e-4 \\\n",
    "--checkpoint={final_checkpoint} \\\n",
    "--use_init_weights \\\n",
    "--infer_post_process \\\n",
    "--deep_sup \\\n",
    "# --resume_tuner \\\n",
    "# --test_mode \\\n",
    "# --save_eval_csv \\"
   ]
  },
  {
   "cell_type": "markdown",
   "metadata": {},
   "source": [
    "## Train other models"
   ]
  },
  {
   "cell_type": "code",
   "execution_count": 15,
   "metadata": {},
   "outputs": [
    {
     "name": "stdout",
     "output_type": "stream",
     "text": [
      "resume tuner form /nfs/Workspace/CardiacSeg/exps/exps/swinunetr/chgh/tune_results\n",
      "Passing in the experiment's `trainable` will be a required argument to `Tuner.restore` starting from version 2.5. Please specify the trainable to avoid this warning.\n",
      "2023-07-02 08:04:28,844\tINFO worker.py:1625 -- Started a local Ray instance.\n",
      "2023-07-02 08:04:29,645\tINFO tune.py:218 -- Initializing Ray automatically. For cluster usage or custom Ray initialization, call `ray.init(...)` before `Tuner(...)`.\n",
      "The `local_dir` argument of `Experiment is deprecated. Use `storage_path` or set the `TUNE_RESULT_DIR` environment variable instead.\n",
      "2023-07-02 08:04:29,660\tINFO tensorboardx.py:172 -- pip install \"ray[tune]\" to see TensorBoard files.\n",
      "2023-07-02 08:04:29,661\tWARNING callback.py:142 -- The TensorboardX logger cannot be instantiated because either TensorboardX or one of it's dependencies is not installed. Please make sure you have the latest version of TensorboardX installed: `pip install -U tensorboardx`\n",
      "2023-07-02 08:04:29,665\tINFO experiment_state.py:392 -- A local experiment checkpoint was found and will be used to restore the previous experiment state.\n",
      "2023-07-02 08:04:29,666\tWARNING trial_runner.py:382 -- Attempting to resume experiment from /nfs/Workspace/CardiacSeg/exps/exps/swinunetr/chgh/tune_results/t_4. This will ignore any new changes to the specification.\n",
      "2023-07-02 08:04:29,666\tINFO trial_runner.py:386 -- Using the newest experiment state file found within the experiment directory: experiment_state-2023-04-10_06-53-58.json\n",
      "== Status ==\n",
      "Current time: 2023-07-02 08:04:29 (running for 00:00:00.07)\n",
      "Using FIFO scheduling algorithm.\n",
      "Logical resource usage: 0/4 CPUs, 0/1 GPUs (0.0/1.0 accelerator_type:V100)\n",
      "Result logdir: /nfs/Workspace/CardiacSeg/exps/exps/swinunetr/chgh/tune_results/t_4\n",
      "Number of trials: 1/1 (1 TERMINATED)\n",
      "+------------------+------------+-----------------------+---------------------+-----------+-----------+------------+------------+---------------+\n",
      "| Trial name       | status     | loc                   | exp                 |   tt_dice |   tt_hd95 |   inf_dice |   inf_hd95 |   val_bst_acc |\n",
      "|------------------+------------+-----------------------+---------------------+-----------+-----------+------------+------------+---------------|\n",
      "| main_634c8_00000 | TERMINATED | 10.32.221.157:3440751 | {'exp': 'exp_b7_9'} |  0.888225 |   4.93784 |   0.880507 |    10.5395 |      0.889144 |\n",
      "+------------------+------------+-----------------------+---------------------+-----------+-----------+------------+------------+---------------+\n",
      "\n",
      "\n",
      "2023-07-02 08:04:29,743\tINFO tune.py:945 -- Total run time: 0.10 seconds (0.00 seconds for the tuning loop).\n",
      "\u001b[0m"
     ]
    }
   ],
   "source": [
    "# training\n",
    "!PYTHONPATH={workspace_dir} /opt/conda/bin/python {workspace_dir}/expers/tune.py \\\n",
    "--tune_mode={tune_mode} \\\n",
    "--exp_name={exp_name} \\\n",
    "--data_name={data_name} \\\n",
    "--data_dir={data_dir} \\\n",
    "--root_exp_dir={root_exp_dir} \\\n",
    "--model_name={model_name}\\\n",
    "--model_dir={model_dir} \\\n",
    "--log_dir={log_dir} \\\n",
    "--eval_dir={eval_dir} \\\n",
    "--start_epoch=0 \\\n",
    "--val_every=20 \\\n",
    "--max_early_stop_count=20 \\\n",
    "--max_epoch=8000  \\\n",
    "--data_dicts_json={data_dicts_json} \\\n",
    "--pin_memory \\\n",
    "--out_channels=2 \\\n",
    "--patch_size=4 \\\n",
    "--feature_size=48 \\\n",
    "--drop_rate=0.1 \\\n",
    "--depths 3 3 9 3 \\\n",
    "--kernel_size 7 \\\n",
    "--exp_rate 4 \\\n",
    "--norm_name='layer' \\\n",
    "--a_min=-42 \\\n",
    "--a_max=423 \\\n",
    "--space_x=0.7 \\\n",
    "--space_y=0.7 \\\n",
    "--space_z=1.0 \\\n",
    "--roi_x=128 \\\n",
    "--roi_y=128 \\\n",
    "--roi_z=128 \\\n",
    "--optim='AdamW' \\\n",
    "--lr=5e-4 \\\n",
    "--weight_decay=5e-4 \\\n",
    "--checkpoint={final_checkpoint} \\\n",
    "--use_init_weights \\\n",
    "--infer_post_process \\\n",
    "# --resume_tuner \\\n",
    "# --save_eval_csv \\\n",
    "# --test_mode \\"
   ]
  },
  {
   "cell_type": "markdown",
   "metadata": {
    "id": "UmzrquOuZKk7"
   },
   "source": [
    "## Analysis"
   ]
  },
  {
   "cell_type": "code",
   "execution_count": 42,
   "metadata": {},
   "outputs": [
    {
     "name": "stdout",
     "output_type": "stream",
     "text": [
      "Loading results from /nfs/Workspace/CardiacSeg/exps/exps/unetcnx_a1/chgh/tune_results/exp_b7_9_ds1_fh_tn1...\n",
      "/opt/conda/lib/python3.9/site-packages/ray/tune/tuner.py:255: UserWarning: Passing in the experiment's `trainable` will be a required argument to `Tuner.restore` starting from version 2.5. Please specify the trainable to avoid this warning.\n",
      "  warnings.warn(warning_message)\n",
      "2023-05-28 09:29:00,909 - No `self.trials`. Drawing logdirs from checkpoint file. This may result in some information that is out of sync, as checkpointing is periodic.\n",
      "Trial 6fc08_00000:  {'optim': {'lr': 0.0005, 'weight_decay': 0.0003}} 0.8928633 0.88013774\n",
      "Trial 6fc08_00001:  {'optim': {'lr': 0.0005, 'weight_decay': 0.0007}} 0.8774688 0.8682186\n",
      "\n",
      "Best trial 6fc08_00000: \n",
      "config: {'optim': {'lr': 0.0005, 'weight_decay': 0.0003}}\n",
      "tt_dice: 0.8928633\n",
      "tt_hd95: 4.149112902449147\n",
      "inf_dice: 0.88013774\n",
      "inf_hd95: 8.449605779201455\n",
      "best log dir: /nfs/Workspace/CardiacSeg/exps/exps/unetcnx_a1/chgh/tune_results/exp_b7_9_ds1_fh_tn1/main_6fc08_00000_0_optim=lr_0_0005_weight_decay_0_0003_2023-05-27_14-19-05\n",
      "final early stop count: 20\n",
      "final epoch: 1080\n",
      "best val dice: 0.8920990824699402\n",
      "\u001b[0m"
     ]
    }
   ],
   "source": [
    "!PYTHONPATH=/nfs/Workspace/CardiacSeg /opt/conda/bin/python /nfs/Workspace/CardiacSeg/expers/tune_anal.py \\\n",
    "--exp_name={exp_name} \\\n",
    "--local_dir={root_exp_dir}"
   ]
  }
 ],
 "metadata": {
  "colab": {
   "collapsed_sections": [],
   "provenance": []
  },
  "gpuClass": "standard",
  "kernelspec": {
   "display_name": "base",
   "language": "python",
   "name": "base"
  },
  "language_info": {
   "codemirror_mode": {
    "name": "ipython",
    "version": 3
   },
   "file_extension": ".py",
   "mimetype": "text/x-python",
   "name": "python",
   "nbconvert_exporter": "python",
   "pygments_lexer": "ipython3",
   "version": "3.9.12"
  }
 },
 "nbformat": 4,
 "nbformat_minor": 4
}
