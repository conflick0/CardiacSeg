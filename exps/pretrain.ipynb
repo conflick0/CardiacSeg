{
 "cells": [
  {
   "cell_type": "code",
   "execution_count": 12,
   "metadata": {
    "colab": {
     "base_uri": "https://localhost:8080/"
    },
    "executionInfo": {
     "elapsed": 74617,
     "status": "ok",
     "timestamp": 1670984109007,
     "user": {
      "displayName": "28",
      "userId": "04211398539985590831"
     },
     "user_tz": -480
    },
    "id": "HfBsNHQp62I7",
    "outputId": "dd64ebdd-d430-4b96-9c69-ade3253f0903"
   },
   "outputs": [],
   "source": [
    "# sync python module\n",
    "%load_ext autoreload\n",
    "%autoreload 2"
   ]
  },
  {
   "cell_type": "markdown",
   "metadata": {
    "id": "uPwewTXGy8dq",
    "tags": []
   },
   "source": [
    "## Gen pretrain data dict json"
   ]
  },
  {
   "cell_type": "code",
   "execution_count": 44,
   "metadata": {
    "colab": {
     "base_uri": "https://localhost:8080/"
    },
    "executionInfo": {
     "elapsed": 5,
     "status": "ok",
     "timestamp": 1669639038445,
     "user": {
      "displayName": "20",
      "userId": "00260548354071665304"
     },
     "user_tz": -480
    },
    "id": "SU6Hqrsdy0vE",
    "outputId": "c7a30613-8d7d-4cfa-f0f9-b30e70d57aa3"
   },
   "outputs": [
    {
     "name": "stdout",
     "output_type": "stream",
     "text": [
      "save json to /nfs/Workspace/CardiacSeg/dataset/chgh/data_dicts/exp_2_2_pretrain.json\n"
     ]
    },
    {
     "data": {
      "text/plain": [
       "{'train': [{'image': 'pid_05/pid_05.nii.gz',\n",
       "   'label': 'pid_05/pid_05_gt.nii.gz'},\n",
       "  {'image': 'pid_06/pid_06.nii.gz', 'label': 'pid_06/pid_06_gt.nii.gz'},\n",
       "  {'image': 'pid_07/pid_07.nii.gz', 'label': 'pid_07/pid_07_gt.nii.gz'},\n",
       "  {'image': 'pid_08/pid_08.nii.gz', 'label': 'pid_08/pid_08_gt.nii.gz'},\n",
       "  {'image': 'pid_21/pid_21.nii.gz', 'label': 'pid_21/pid_21_gt.nii.gz'},\n",
       "  {'image': 'pid_23/pid_23.nii.gz', 'label': 'pid_23/pid_23_gt.nii.gz'},\n",
       "  {'image': 'pid_24/pid_24.nii.gz', 'label': 'pid_24/pid_24_gt.nii.gz'},\n",
       "  {'image': 'pid_27/pid_27.nii.gz', 'label': 'pid_27/pid_27_gt.nii.gz'},\n",
       "  {'image': 'pid_30/pid_30.nii.gz', 'label': 'pid_30/pid_30_gt.nii.gz'},\n",
       "  {'image': 'pid_34/pid_34.nii.gz', 'label': 'pid_34/pid_34_gt.nii.gz'},\n",
       "  {'image': 'pid_57/pid_57.nii.gz', 'label': 'pid_57/pid_57_gt.nii.gz'},\n",
       "  {'image': 'pid_1002/pid_1002.nii.gz',\n",
       "   'label': 'pid_1002/pid_1002_gt.nii.gz'},\n",
       "  {'image': 'pid_1003/pid_1003.nii.gz',\n",
       "   'label': 'pid_1003/pid_1003_gt.nii.gz'}],\n",
       " 'val': [{'image': 'pid_107/pid_107.nii.gz',\n",
       "   'label': 'pid_107/pid_107_gt.nii.gz'},\n",
       "  {'image': 'pid_108/pid_108.nii.gz', 'label': 'pid_108/pid_108_gt.nii.gz'},\n",
       "  {'image': 'pid_110/pid_110.nii.gz', 'label': 'pid_110/pid_110_gt.nii.gz'}],\n",
       " 'test': [{'image': 'pid_107/pid_107.nii.gz',\n",
       "   'label': 'pid_107/pid_107_gt.nii.gz'},\n",
       "  {'image': 'pid_108/pid_108.nii.gz', 'label': 'pid_108/pid_108_gt.nii.gz'},\n",
       "  {'image': 'pid_110/pid_110.nii.gz', 'label': 'pid_110/pid_110_gt.nii.gz'}]}"
      ]
     },
     "execution_count": 44,
     "metadata": {},
     "output_type": "execute_result"
    }
   ],
   "source": [
    "workspace_dir = '/nfs/Workspace/CardiacSeg'\n",
    "import sys\n",
    "\n",
    "# set package path\n",
    "sys.path.append(workspace_dir)\n",
    "\n",
    "from datasets.chgh_dataset import get_data_dicts\n",
    "from data_utils.io import save_json\n",
    "from expers.preprocess import get_rel_data_dicts\n",
    "\n",
    "exp_name = 'exp_2_2'\n",
    "root_data_dir = os.path.join(workspace_dir, 'dataset', 'chgh')\n",
    "data_dir = os.path.join(root_data_dir, 'dataset_2')\n",
    "data_dicts_json = os.path.join(root_data_dir, 'data_dicts', f'{exp_name}_pretrain.json')\n",
    "\n",
    "data_dicts = get_rel_data_dicts(get_data_dicts(data_dir))\n",
    "data_dicts.pop(11)\n",
    "data_dicts.pop(-3)\n",
    "data_dicts[-5:-2]\n",
    "\n",
    "# data_dicts\n",
    "\n",
    "tr_data_dicts = [*data_dicts[:-5], *data_dicts[-2:]]\n",
    "val_data_dicts = data_dicts[-5:-2]\n",
    "tt_data_dicts = data_dicts[-5:-2]\n",
    "\n",
    "out_data_dict = {\n",
    "    'train':tr_data_dicts,\n",
    "    'val':val_data_dicts,\n",
    "    'test':tt_data_dicts\n",
    "}\n",
    "\n",
    "save_json(out_data_dict, data_dicts_json)\n",
    "out_data_dict"
   ]
  },
  {
   "cell_type": "markdown",
   "metadata": {
    "id": "th4_0JZYLCfy"
   },
   "source": [
    "## Pretrain"
   ]
  },
  {
   "cell_type": "code",
   "execution_count": 51,
   "metadata": {
    "executionInfo": {
     "elapsed": 28,
     "status": "ok",
     "timestamp": 1670984122741,
     "user": {
      "displayName": "28",
      "userId": "04211398539985590831"
     },
     "user_tz": -480
    },
    "id": "nyOo-W92PiRi"
   },
   "outputs": [
    {
     "name": "stdout",
     "output_type": "stream",
     "text": [
      "/nfs/Workspace/CardiacSeg/exps/exps/unetcnx_x3_2_2/chgh/pretrain/exp_1\n"
     ]
    }
   ],
   "source": [
    "workspace_dir = '/nfs/Workspace/CardiacSeg'\n",
    "\n",
    "exp_name = 'exp_1'\n",
    "model_name = 'unetcnx_x3_2_2'\n",
    "data_name = 'chgh'\n",
    "\n",
    "root_data_dir = os.path.join(workspace_dir, 'dataset', data_name)\n",
    "data_dir = os.path.join(root_data_dir, 'dataset_2')\n",
    "data_dicts_json = os.path.join(root_data_dir, 'data_dicts', f'exp_2_2_pretrain.json')\n",
    "\n",
    "root_dir = os.path.join(\n",
    "    workspace_dir,\n",
    "    'exps',\n",
    "    'exps',\n",
    "    model_name,\n",
    "    data_name,\n",
    "    'pretrain',\n",
    "    exp_name\n",
    ")\n",
    "model_dir = os.path.join(root_dir, 'models', 'pretrain', exp_name)\n",
    "log_dir = os.path.join(root_dir, 'logs', 'pretrain', exp_name)\n",
    "\n",
    "os.makedirs(root_dir, exist_ok=True)\n",
    "\n",
    "best_model_path = os.path.join(model_dir, 'model_bestValRMSE.pt')\n",
    "final_model_path = os.path.join(model_dir, 'model_final.pt')\n",
    "\n",
    "%cd {root_dir}"
   ]
  },
  {
   "cell_type": "code",
   "execution_count": 58,
   "metadata": {
    "colab": {
     "base_uri": "https://localhost:8080/"
    },
    "executionInfo": {
     "elapsed": 26663130,
     "status": "ok",
     "timestamp": 1671010785845,
     "user": {
      "displayName": "28",
      "userId": "04211398539985590831"
     },
     "user_tz": -480
    },
    "id": "iZvqEQoDLKbx",
    "outputId": "19c0cc2e-c832-4603-ba95-398190eb2b74"
   },
   "outputs": [
    {
     "name": "stdout",
     "output_type": "stream",
     "text": [
      "/opt/conda/lib/python3.9/site-packages/mmcv/__init__.py:20: UserWarning: On January 1, 2023, MMCV will release v2.0.0, in which it will remove components related to the training process and add a data transformation module. In addition, it will rename the package names mmcv to mmcv-lite and mmcv-full to mmcv. See https://github.com/open-mmlab/mmcv/blob/master/docs/en/compatibility.md for more details.\n",
      "  warnings.warn(\n",
      "cuda is available\n",
      "Training with a single process on 1 GPUs.\n",
      "model: unetcnx_x3_2_2\n",
      "use warmup cosine schedule\n",
      "load data dict jsons: ['/nfs/Workspace/CardiacSeg/dataset/chgh/data_dicts/exp_2_2_pretrain.json']\n",
      "load json from /nfs/Workspace/CardiacSeg/dataset/chgh/data_dicts/exp_2_2_pretrain.json\n",
      "train files (13): ['pid_05', 'pid_06', 'pid_07', 'pid_08', 'pid_21', 'pid_23', 'pid_24', 'pid_27', 'pid_30', 'pid_34', 'pid_57', 'pid_1002', 'pid_1003']\n",
      "val files (3): ['pid_107', 'pid_108', 'pid_110']\n",
      "test files (3): ['pid_107', 'pid_108', 'pid_110']\n",
      "Dataset 1 ['/nfs/Workspace/CardiacSeg/dataset/chgh/dataset_2']: number of tr data: 13\n",
      "Dataset 1 ['/nfs/Workspace/CardiacSeg/dataset/chgh/dataset_2']: number of val data: 3\n",
      "Dataset all training: number of data: 13\n",
      "Dataset all validation: number of data: 3\n",
      "/opt/conda/lib/python3.9/site-packages/monai/utils/deprecate_utils.py:321: FutureWarning: monai.transforms.io.dictionary LoadImaged.__init__:image_only: Current default value of argument `image_only=False` has been deprecated since version 1.1. It will be changed to `image_only=True` in version 1.3.\n",
      "  warn_deprecated(argname, msg, warning_category)\n",
      "/opt/conda/lib/python3.9/site-packages/monai/utils/deprecate_utils.py:111: FutureWarning: <class 'monai.transforms.utility.array.AddChannel'>: Class `AddChannel` has been deprecated since version 0.8. please use MetaTensor data type and monai.transforms.EnsureChannelFirst instead.\n",
      "  warn_deprecated(obj, msg, warning_category)\n",
      "Using generic dataset\n",
      "torch.Size([2, 1, 64, 64, 64])\n",
      "torch.Size([2, 1, 64, 64, 64])\n",
      "/opt/conda/lib/python3.9/site-packages/torch/_tensor.py:1121: UserWarning: Using a target size (torch.Size([4, 1, 128, 128, 128])) that is different to the input size (torch.Size([4, 1, 64, 64, 64])). This will likely lead to incorrect results due to broadcasting. Please ensure they have the same size.\n",
      "  ret = func(*args, **kwargs)\n",
      "Traceback (most recent call last):\n",
      "  File \"/nfs/Workspace/CardiacSeg/expers/pretrain/train.py\", line 346, in <module>\n",
      "    main()\n",
      "  File \"/nfs/Workspace/CardiacSeg/expers/pretrain/train.py\", line 342, in main\n",
      "    global_step, best_val = train(args, global_step, train_loader, best_val, scaler)\n",
      "  File \"/nfs/Workspace/CardiacSeg/expers/pretrain/train.py\", line 65, in train\n",
      "    loss, losses_tasks = loss_function(rot_p, rots, contrastive1_p, contrastive2_p, imgs_recon, imgs)\n",
      "  File \"/nfs/Workspace/CardiacSeg/expers/pretrain/loss.py\", line 50, in __call__\n",
      "    recon_loss = self.alpha3 * self.recon_loss(output_recons, target_recons)\n",
      "  File \"/opt/conda/lib/python3.9/site-packages/torch/nn/modules/module.py\", line 1130, in _call_impl\n",
      "    return forward_call(*input, **kwargs)\n",
      "  File \"/opt/conda/lib/python3.9/site-packages/torch/nn/modules/loss.py\", line 96, in forward\n",
      "    return F.l1_loss(input, target, reduction=self.reduction)\n",
      "  File \"/opt/conda/lib/python3.9/site-packages/torch/nn/functional.py\", line 3235, in l1_loss\n",
      "    return handle_torch_function(\n",
      "  File \"/opt/conda/lib/python3.9/site-packages/torch/overrides.py\", line 1498, in handle_torch_function\n",
      "    result = torch_func_method(public_api, types, args, kwargs)\n",
      "  File \"/opt/conda/lib/python3.9/site-packages/monai/data/meta_tensor.py\", line 276, in __torch_function__\n",
      "    ret = super().__torch_function__(func, types, args, kwargs)\n",
      "  File \"/opt/conda/lib/python3.9/site-packages/torch/_tensor.py\", line 1121, in __torch_function__\n",
      "    ret = func(*args, **kwargs)\n",
      "  File \"/opt/conda/lib/python3.9/site-packages/torch/nn/functional.py\", line 3248, in l1_loss\n",
      "    expanded_input, expanded_target = torch.broadcast_tensors(input, target)\n",
      "  File \"/opt/conda/lib/python3.9/site-packages/torch/functional.py\", line 73, in broadcast_tensors\n",
      "    return _VF.broadcast_tensors(tensors)  # type: ignore[attr-defined]\n",
      "RuntimeError: The size of tensor a (64) must match the size of tensor b (128) at non-singleton dimension 4\n"
     ]
    }
   ],
   "source": [
    "!PYTHONPATH={workspace_dir} /opt/conda/bin/python {workspace_dir}/expers/pretrain/train.py\\\n",
    "--use_checkpoint \\\n",
    "--batch_size=1 \\\n",
    "--num_steps=100000 \\\n",
    "--lrdecay \\\n",
    "--eval_num=100 \\\n",
    "--max_early_stop_count=60 \\\n",
    "--model_name={model_name} \\\n",
    "--logdir={log_dir} \\\n",
    "--model_dir={model_dir} \\\n",
    "--data_dirs={data_dir} \\\n",
    "--data_dicts_jsons={data_dicts_json} \\\n",
    "--resume={final_model_path}\n",
    "# --lr=<Lr> \n",
    "# --roi_x=<Roi_x> \\\n",
    "# --roi_y=<Roi_y> \\\n",
    "# --roi_z=<Roi_z> \\"
   ]
  }
 ],
 "metadata": {
  "accelerator": "GPU",
  "colab": {
   "collapsed_sections": [
    "uPwewTXGy8dq",
    "bXAggojBs9u0"
   ],
   "provenance": []
  },
  "gpuClass": "standard",
  "kernelspec": {
   "display_name": "base",
   "language": "python",
   "name": "base"
  },
  "language_info": {
   "codemirror_mode": {
    "name": "ipython",
    "version": 3
   },
   "file_extension": ".py",
   "mimetype": "text/x-python",
   "name": "python",
   "nbconvert_exporter": "python",
   "pygments_lexer": "ipython3",
   "version": "3.9.12"
  }
 },
 "nbformat": 4,
 "nbformat_minor": 4
}
