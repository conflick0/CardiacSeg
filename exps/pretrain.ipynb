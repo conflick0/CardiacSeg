{
 "cells": [
  {
   "cell_type": "code",
   "execution_count": 21,
   "metadata": {},
   "outputs": [
    {
     "name": "stdout",
     "output_type": "stream",
     "text": [
      "Thu Mar 30 09:53:52 2023       \n",
      "+-----------------------------------------------------------------------------+\n",
      "| NVIDIA-SMI 470.141.03   Driver Version: 470.141.03   CUDA Version: 11.4     |\n",
      "|-------------------------------+----------------------+----------------------+\n",
      "| GPU  Name        Persistence-M| Bus-Id        Disp.A | Volatile Uncorr. ECC |\n",
      "| Fan  Temp  Perf  Pwr:Usage/Cap|         Memory-Usage | GPU-Util  Compute M. |\n",
      "|                               |                      |               MIG M. |\n",
      "|===============================+======================+======================|\n",
      "|   0  Tesla V100-SXM2...  On   | 00000000:8A:00.0 Off |                    0 |\n",
      "| N/A   30C    P0    44W / 300W |      0MiB / 32510MiB |      0%      Default |\n",
      "|                               |                      |                  N/A |\n",
      "+-------------------------------+----------------------+----------------------+\n",
      "                                                                               \n",
      "+-----------------------------------------------------------------------------+\n",
      "| Processes:                                                                  |\n",
      "|  GPU   GI   CI        PID   Type   Process name                  GPU Memory |\n",
      "|        ID   ID                                                   Usage      |\n",
      "|=============================================================================|\n",
      "|  No running processes found                                                 |\n",
      "+-----------------------------------------------------------------------------+\n"
     ]
    }
   ],
   "source": [
    "!nvidia-smi"
   ]
  },
  {
   "cell_type": "code",
   "execution_count": 22,
   "metadata": {
    "colab": {
     "base_uri": "https://localhost:8080/"
    },
    "executionInfo": {
     "elapsed": 74617,
     "status": "ok",
     "timestamp": 1670984109007,
     "user": {
      "displayName": "28",
      "userId": "04211398539985590831"
     },
     "user_tz": -480
    },
    "id": "HfBsNHQp62I7",
    "outputId": "dd64ebdd-d430-4b96-9c69-ade3253f0903"
   },
   "outputs": [
    {
     "name": "stdout",
     "output_type": "stream",
     "text": [
      "The autoreload extension is already loaded. To reload it, use:\n",
      "  %reload_ext autoreload\n"
     ]
    }
   ],
   "source": [
    "# sync python module\n",
    "%load_ext autoreload\n",
    "%autoreload 2"
   ]
  },
  {
   "cell_type": "markdown",
   "metadata": {
    "id": "uPwewTXGy8dq",
    "tags": []
   },
   "source": [
    "## Gen pretrain data dict json"
   ]
  },
  {
   "cell_type": "code",
   "execution_count": 28,
   "metadata": {
    "colab": {
     "base_uri": "https://localhost:8080/"
    },
    "executionInfo": {
     "elapsed": 5,
     "status": "ok",
     "timestamp": 1669639038445,
     "user": {
      "displayName": "20",
      "userId": "00260548354071665304"
     },
     "user_tz": -480
    },
    "id": "SU6Hqrsdy0vE",
    "outputId": "c7a30613-8d7d-4cfa-f0f9-b30e70d57aa3"
   },
   "outputs": [
    {
     "name": "stdout",
     "output_type": "stream",
     "text": [
      "save json to /nfs/Workspace/CardiacSeg/exps/data_dicts/image_cas/exp_50.json\n"
     ]
    },
    {
     "data": {
      "text/plain": [
       "{'train': [{'image': '10016975/img.nii.gz', 'label': '10016975/label.nii.gz'},\n",
       "  {'image': '10017784/img.nii.gz', 'label': '10017784/label.nii.gz'},\n",
       "  {'image': '10018985/img.nii.gz', 'label': '10018985/label.nii.gz'},\n",
       "  {'image': '10027729/img.nii.gz', 'label': '10027729/label.nii.gz'},\n",
       "  {'image': '10029129/img.nii.gz', 'label': '10029129/label.nii.gz'},\n",
       "  {'image': '10032743/img.nii.gz', 'label': '10032743/label.nii.gz'},\n",
       "  {'image': '10033946/img.nii.gz', 'label': '10033946/label.nii.gz'},\n",
       "  {'image': '10039455/img.nii.gz', 'label': '10039455/label.nii.gz'},\n",
       "  {'image': '10043087/img.nii.gz', 'label': '10043087/label.nii.gz'},\n",
       "  {'image': '10048510/img.nii.gz', 'label': '10048510/label.nii.gz'},\n",
       "  {'image': '10050634/img.nii.gz', 'label': '10050634/label.nii.gz'},\n",
       "  {'image': '10054193/img.nii.gz', 'label': '10054193/label.nii.gz'},\n",
       "  {'image': '10054710/img.nii.gz', 'label': '10054710/label.nii.gz'},\n",
       "  {'image': '10055172/img.nii.gz', 'label': '10055172/label.nii.gz'},\n",
       "  {'image': '10060298/img.nii.gz', 'label': '10060298/label.nii.gz'},\n",
       "  {'image': '10062792/img.nii.gz', 'label': '10062792/label.nii.gz'},\n",
       "  {'image': '10064059/img.nii.gz', 'label': '10064059/label.nii.gz'},\n",
       "  {'image': '10064282/img.nii.gz', 'label': '10064282/label.nii.gz'},\n",
       "  {'image': '10064966/img.nii.gz', 'label': '10064966/label.nii.gz'},\n",
       "  {'image': '10090344/img.nii.gz', 'label': '10090344/label.nii.gz'},\n",
       "  {'image': '10095371/img.nii.gz', 'label': '10095371/label.nii.gz'},\n",
       "  {'image': '10100390/img.nii.gz', 'label': '10100390/label.nii.gz'},\n",
       "  {'image': '10101006/img.nii.gz', 'label': '10101006/label.nii.gz'},\n",
       "  {'image': '10106129/img.nii.gz', 'label': '10106129/label.nii.gz'},\n",
       "  {'image': '10115848/img.nii.gz', 'label': '10115848/label.nii.gz'},\n",
       "  {'image': '10116102/img.nii.gz', 'label': '10116102/label.nii.gz'},\n",
       "  {'image': '10122003/img.nii.gz', 'label': '10122003/label.nii.gz'},\n",
       "  {'image': '10129396/img.nii.gz', 'label': '10129396/label.nii.gz'},\n",
       "  {'image': '10129913/img.nii.gz', 'label': '10129913/label.nii.gz'},\n",
       "  {'image': '10133032/img.nii.gz', 'label': '10133032/label.nii.gz'},\n",
       "  {'image': '10138731/img.nii.gz', 'label': '10138731/label.nii.gz'},\n",
       "  {'image': '10142530/img.nii.gz', 'label': '10142530/label.nii.gz'},\n",
       "  {'image': '10144166/img.nii.gz', 'label': '10144166/label.nii.gz'},\n",
       "  {'image': '10147188/img.nii.gz', 'label': '10147188/label.nii.gz'},\n",
       "  {'image': '10151662/img.nii.gz', 'label': '10151662/label.nii.gz'},\n",
       "  {'image': '10174451/img.nii.gz', 'label': '10174451/label.nii.gz'},\n",
       "  {'image': '10175464/img.nii.gz', 'label': '10175464/label.nii.gz'},\n",
       "  {'image': '10175956/img.nii.gz', 'label': '10175956/label.nii.gz'},\n",
       "  {'image': '10176460/img.nii.gz', 'label': '10176460/label.nii.gz'},\n",
       "  {'image': '10181338/img.nii.gz', 'label': '10181338/label.nii.gz'}],\n",
       " 'val': [{'image': '10182667/img.nii.gz', 'label': '10182667/label.nii.gz'},\n",
       "  {'image': '10184594/img.nii.gz', 'label': '10184594/label.nii.gz'},\n",
       "  {'image': '10185400/img.nii.gz', 'label': '10185400/label.nii.gz'},\n",
       "  {'image': '10198741/img.nii.gz', 'label': '10198741/label.nii.gz'},\n",
       "  {'image': '10200737/img.nii.gz', 'label': '10200737/label.nii.gz'},\n",
       "  {'image': '10203555/img.nii.gz', 'label': '10203555/label.nii.gz'},\n",
       "  {'image': '10210713/img.nii.gz', 'label': '10210713/label.nii.gz'},\n",
       "  {'image': '10211117/img.nii.gz', 'label': '10211117/label.nii.gz'},\n",
       "  {'image': '10224460/img.nii.gz', 'label': '10224460/label.nii.gz'},\n",
       "  {'image': '10234511/img.nii.gz', 'label': '10234511/label.nii.gz'}],\n",
       " 'test': [{'image': '10182667/img.nii.gz', 'label': '10182667/label.nii.gz'},\n",
       "  {'image': '10184594/img.nii.gz', 'label': '10184594/label.nii.gz'},\n",
       "  {'image': '10185400/img.nii.gz', 'label': '10185400/label.nii.gz'},\n",
       "  {'image': '10198741/img.nii.gz', 'label': '10198741/label.nii.gz'},\n",
       "  {'image': '10200737/img.nii.gz', 'label': '10200737/label.nii.gz'},\n",
       "  {'image': '10203555/img.nii.gz', 'label': '10203555/label.nii.gz'},\n",
       "  {'image': '10210713/img.nii.gz', 'label': '10210713/label.nii.gz'},\n",
       "  {'image': '10211117/img.nii.gz', 'label': '10211117/label.nii.gz'},\n",
       "  {'image': '10224460/img.nii.gz', 'label': '10224460/label.nii.gz'},\n",
       "  {'image': '10234511/img.nii.gz', 'label': '10234511/label.nii.gz'}]}"
      ]
     },
     "execution_count": 28,
     "metadata": {},
     "output_type": "execute_result"
    }
   ],
   "source": [
    "workspace_dir = '/nfs/Workspace/CardiacSeg'\n",
    "import sys\n",
    "import importlib\n",
    "\n",
    "# set package path\n",
    "sys.path.append(workspace_dir)\n",
    "\n",
    "from data_utils.io import save_json\n",
    "from expers.preprocess import get_rel_data_dicts\n",
    "\n",
    "root_data_dir = os.path.join(workspace_dir, 'dataset')\n",
    "data_name = 'image_cas'\n",
    "exp_name = 'exp_50'\n",
    "data_dir = os.path.join(root_data_dir, data_name)\n",
    "data_dicts_json = os.path.join(workspace_dir, 'exps', 'data_dicts', data_name, f'{exp_name}.json')\n",
    "\n",
    "\n",
    "dataset = importlib.import_module(f'datasets.{data_name}_dataset')\n",
    "get_data_dicts = getattr(dataset, 'get_data_dicts', None)\n",
    "\n",
    "data_dicts = get_rel_data_dicts(get_data_dicts(data_dir))\n",
    "\n",
    "# data_dicts\n",
    "tr_data_dicts = data_dicts[:-10]\n",
    "val_data_dicts = data_dicts[-10:]\n",
    "tt_data_dicts = data_dicts[-10:]\n",
    "\n",
    "out_data_dict = {\n",
    "    'train':tr_data_dicts,\n",
    "    'val':val_data_dicts,\n",
    "    'test':val_data_dicts\n",
    "}\n",
    "\n",
    "save_json(out_data_dict, data_dicts_json)\n",
    "out_data_dict"
   ]
  },
  {
   "cell_type": "markdown",
   "metadata": {
    "id": "th4_0JZYLCfy"
   },
   "source": [
    "## Pretrain"
   ]
  },
  {
   "cell_type": "code",
   "execution_count": 35,
   "metadata": {
    "executionInfo": {
     "elapsed": 28,
     "status": "ok",
     "timestamp": 1670984122741,
     "user": {
      "displayName": "28",
      "userId": "04211398539985590831"
     },
     "user_tz": -480
    },
    "id": "nyOo-W92PiRi"
   },
   "outputs": [
    {
     "name": "stdout",
     "output_type": "stream",
     "text": [
      "/nfs/Workspace/CardiacSeg/exps/exps/swinunetr/image_cas/pretrain/exp_50\n"
     ]
    }
   ],
   "source": [
    "import os\n",
    "\n",
    "workspace_dir = '/nfs/Workspace/CardiacSeg'\n",
    "\n",
    "exp_name = 'exp_50'\n",
    "model_name = 'swinunetr'\n",
    "data_name = 'image_cas'\n",
    "\n",
    "root_data_dir = os.path.join(workspace_dir, 'dataset')\n",
    "data_dir = os.path.join(root_data_dir, data_name)\n",
    "data_dicts_json = os.path.join(workspace_dir, 'exps', 'data_dicts', data_name, f'{exp_name}.json')\n",
    "\n",
    "root_dir = os.path.join(\n",
    "    workspace_dir,\n",
    "    'exps',\n",
    "    'exps',\n",
    "    model_name,\n",
    "    data_name,\n",
    "    'pretrain',\n",
    "    exp_name\n",
    ")\n",
    "model_dir = os.path.join(root_dir, 'models')\n",
    "log_dir = os.path.join(root_dir, 'logs')\n",
    "\n",
    "os.makedirs(root_dir, exist_ok=True)\n",
    "\n",
    "best_model_path = os.path.join(model_dir, 'model_bestValRMSE.pt')\n",
    "final_model_path = os.path.join(model_dir, 'model_final.pt')\n",
    "\n",
    "%cd {root_dir}"
   ]
  },
  {
   "cell_type": "code",
   "execution_count": 37,
   "metadata": {
    "colab": {
     "base_uri": "https://localhost:8080/"
    },
    "executionInfo": {
     "elapsed": 26663130,
     "status": "ok",
     "timestamp": 1671010785845,
     "user": {
      "displayName": "28",
      "userId": "04211398539985590831"
     },
     "user_tz": -480
    },
    "id": "iZvqEQoDLKbx",
    "outputId": "19c0cc2e-c832-4603-ba95-398190eb2b74"
   },
   "outputs": [
    {
     "name": "stdout",
     "output_type": "stream",
     "text": [
      "cuda is available\n",
      "Training with a single process on 1 GPUs.\n",
      "model: swinunetr\n",
      "use warmup cosine schedule\n",
      "load data dict jsons: ['/nfs/Workspace/CardiacSeg/exps/data_dicts/image_cas/exp_50.json']\n",
      "load json from /nfs/Workspace/CardiacSeg/exps/data_dicts/image_cas/exp_50.json\n",
      "train files (40): ['img', 'img', 'img', 'img', 'img', 'img', 'img', 'img', 'img', 'img', 'img', 'img', 'img', 'img', 'img', 'img', 'img', 'img', 'img', 'img', 'img', 'img', 'img', 'img', 'img', 'img', 'img', 'img', 'img', 'img', 'img', 'img', 'img', 'img', 'img', 'img', 'img', 'img', 'img', 'img']\n",
      "val files (10): ['img', 'img', 'img', 'img', 'img', 'img', 'img', 'img', 'img', 'img']\n",
      "test files (10): ['img', 'img', 'img', 'img', 'img', 'img', 'img', 'img', 'img', 'img']\n",
      "Dataset 1 ['/nfs/Workspace/CardiacSeg/dataset/image_cas']: number of tr data: 40\n",
      "Dataset 1 ['/nfs/Workspace/CardiacSeg/dataset/image_cas']: number of val data: 10\n",
      "Dataset all training: number of data: 40\n",
      "Dataset all validation: number of data: 10\n",
      "<class 'monai.transforms.utility.array.AddChannel'>: Class `AddChannel` has been deprecated since version 0.8. please use MetaTensor data type and monai.transforms.EnsureChannelFirst instead.\n",
      "Using generic dataset\n",
      "Step:0/100000, Loss:2.6742, Time:5.0809\n",
      "Step:1/100000, Loss:3.2694, Time:1.9139\n",
      "None of the inputs have requires_grad=True. Gradients will be None\n",
      "Validation step:0, Loss:2.9574, Loss Reconstruction:0.3958\n",
      "Validation step:1, Loss:3.0443, Loss Reconstruction:0.4307\n",
      "Validation step:2, Loss:2.9930, Loss Reconstruction:0.3629\n",
      "Validation step:3, Loss:2.4577, Loss Reconstruction:0.3943\n",
      "Validation step:4, Loss:2.5078, Loss Reconstruction:0.3472\n",
      "Validation step:5, Loss:3.4631, Loss Reconstruction:0.4147\n",
      "Validation step:6, Loss:2.5358, Loss Reconstruction:0.3747\n",
      "Validation step:7, Loss:2.5543, Loss Reconstruction:0.3502\n",
      "Validation step:8, Loss:2.5726, Loss Reconstruction:0.3364\n",
      "Validation step:9, Loss:3.0109, Loss Reconstruction:0.3628\n",
      "Best model was saved ! Best Recon. Val Loss: 0.3770, Recon. Val Loss: 0.3770\n",
      "Final model was saved ! Best Recon. Val Loss: 0.3770 Recon. Val Loss: 0.3770\n",
      "early stop count: 0\n",
      "Step:2/100000, Loss:2.8977, Time:1.9435\n",
      "Step:3/100000, Loss:2.7194, Time:1.9340\n",
      "^C\n",
      "Traceback (most recent call last):\n",
      "  File \"/nfs/Workspace/CardiacSeg/expers/pretrain/train.py\", line 358, in <module>\n",
      "    main()\n",
      "  File \"/nfs/Workspace/CardiacSeg/expers/pretrain/train.py\", line 354, in main\n",
      "    global_step, best_val = train(args, global_step, train_loader, best_val, scaler)\n",
      "  File \"/nfs/Workspace/CardiacSeg/expers/pretrain/train.py\", line 94, in train\n",
      "    val_loss, val_loss_recon, img_list = validation(args, test_loader)\n",
      "  File \"/nfs/Workspace/CardiacSeg/expers/pretrain/train.py\", line 152, in validation\n",
      "    for step, batch in enumerate(test_loader):\n",
      "  File \"/opt/conda/lib/python3.9/site-packages/torch/utils/data/dataloader.py\", line 681, in __next__\n",
      "    data = self._next_data()\n",
      "  File \"/opt/conda/lib/python3.9/site-packages/torch/utils/data/dataloader.py\", line 1359, in _next_data\n",
      "    idx, data = self._get_data()\n",
      "  File \"/opt/conda/lib/python3.9/site-packages/torch/utils/data/dataloader.py\", line 1325, in _get_data\n",
      "    success, data = self._try_get_data()\n",
      "  File \"/opt/conda/lib/python3.9/site-packages/torch/utils/data/dataloader.py\", line 1163, in _try_get_data\n",
      "    data = self._data_queue.get(timeout=timeout)\n",
      "  File \"/opt/conda/lib/python3.9/multiprocessing/queues.py\", line 113, in get\n",
      "    if not self._poll(timeout):\n",
      "  File \"/opt/conda/lib/python3.9/multiprocessing/connection.py\", line 262, in poll\n",
      "    return self._poll(timeout)\n",
      "  File \"/opt/conda/lib/python3.9/multiprocessing/connection.py\", line 429, in _poll\n",
      "    r = wait([self], timeout)\n",
      "  File \"/opt/conda/lib/python3.9/multiprocessing/connection.py\", line 936, in wait\n",
      "    ready = selector.select(timeout)\n",
      "  File \"/opt/conda/lib/python3.9/selectors.py\", line 416, in select\n",
      "    fd_event_list = self._selector.poll(timeout)\n",
      "KeyboardInterrupt\n"
     ]
    }
   ],
   "source": [
    "# note patch_size effect shape\n",
    "!PYTHONPATH={workspace_dir} /opt/conda/bin/python {workspace_dir}/expers/pretrain/train.py\\\n",
    "--use_checkpoint \\\n",
    "--patch_size=2 \\\n",
    "--batch_size=1 \\\n",
    "--num_steps=100000 \\\n",
    "--lrdecay \\\n",
    "--eval_num=2 \\\n",
    "--max_early_stop_count=60 \\\n",
    "--model_name={model_name} \\\n",
    "--logdir={log_dir} \\\n",
    "--model_dir={model_dir} \\\n",
    "--data_dirs={data_dir} \\\n",
    "--data_dicts_jsons={data_dicts_json} \\\n",
    "# --resume={final_model_path}\n",
    "# --lr=<Lr> \n",
    "# --roi_x=<Roi_x> \\\n",
    "# --roi_y=<Roi_y> \\\n",
    "# --roi_z=<Roi_z> \\"
   ]
  },
  {
   "cell_type": "code",
   "execution_count": 26,
   "metadata": {},
   "outputs": [
    {
     "name": "stdout",
     "output_type": "stream",
     "text": [
      "model: unetcnx_x3_2_2\n",
      "load model: /nfs/Workspace/CardiacSeg/exps/exps/unetcnx_x3_2_2/chgh/pretrain/exp_1/models/pretrain/exp_1/model_bestValRMSE.pt\n",
      "global step: 7100\n",
      "best val: 0.0615180271367232\n"
     ]
    }
   ],
   "source": [
    "import sys\n",
    "# set package path\n",
    "sys.path.append(workspace_dir)\n",
    "\n",
    "from networks.network import network\n",
    "from networks.ssl_head import SSLHead\n",
    "\n",
    "import torch\n",
    "\n",
    "class args:\n",
    "    in_channels=1\n",
    "    out_channels=2\n",
    "    device='cuda'\n",
    "\n",
    "net = network(model_name, args)\n",
    "\n",
    "model = SSLHead(\n",
    "  args.in_channels,\n",
    "  net, \n",
    "  dim=768\n",
    ").to(args.device)\n",
    "\n",
    "model_pth = best_model_path\n",
    "model_dict = torch.load(model_pth)\n",
    "model.load_state_dict(model_dict[\"state_dict\"])\n",
    "\n",
    "if \"global_step\" in model_dict:\n",
    "    global_step = model_dict[\"global_step\"]\n",
    "if \"early_stop_count\" in model_dict:\n",
    "    early_stop_count = model_dict[\"early_stop_count\"]\n",
    "if \"val_best\" in model_dict:\n",
    "    best_val = model_dict[\"val_best\"]\n",
    "    \n",
    "print('load model:', model_pth)\n",
    "print('global step:', global_step)\n",
    "print('best val:', best_val)"
   ]
  }
 ],
 "metadata": {
  "accelerator": "GPU",
  "colab": {
   "collapsed_sections": [
    "uPwewTXGy8dq",
    "bXAggojBs9u0"
   ],
   "provenance": []
  },
  "gpuClass": "standard",
  "kernelspec": {
   "display_name": "base",
   "language": "python",
   "name": "base"
  },
  "language_info": {
   "codemirror_mode": {
    "name": "ipython",
    "version": 3
   },
   "file_extension": ".py",
   "mimetype": "text/x-python",
   "name": "python",
   "nbconvert_exporter": "python",
   "pygments_lexer": "ipython3",
   "version": "3.9.12"
  }
 },
 "nbformat": 4,
 "nbformat_minor": 4
}
