{
 "cells": [
  {
   "cell_type": "code",
   "execution_count": 14,
   "metadata": {},
   "outputs": [
    {
     "name": "stdout",
     "output_type": "stream",
     "text": [
      "Sat Mar  4 02:03:52 2023       \n",
      "+-----------------------------------------------------------------------------+\n",
      "| NVIDIA-SMI 470.141.03   Driver Version: 470.141.03   CUDA Version: 11.4     |\n",
      "|-------------------------------+----------------------+----------------------+\n",
      "| GPU  Name        Persistence-M| Bus-Id        Disp.A | Volatile Uncorr. ECC |\n",
      "| Fan  Temp  Perf  Pwr:Usage/Cap|         Memory-Usage | GPU-Util  Compute M. |\n",
      "|                               |                      |               MIG M. |\n",
      "|===============================+======================+======================|\n",
      "|   0  Tesla V100-SXM2...  On   | 00000000:07:00.0 Off |                    0 |\n",
      "| N/A   30C    P0    46W / 163W |   3378MiB / 32510MiB |      0%      Default |\n",
      "|                               |                      |                  N/A |\n",
      "+-------------------------------+----------------------+----------------------+\n",
      "                                                                               \n",
      "+-----------------------------------------------------------------------------+\n",
      "| Processes:                                                                  |\n",
      "|  GPU   GI   CI        PID   Type   Process name                  GPU Memory |\n",
      "|        ID   ID                                                   Usage      |\n",
      "|=============================================================================|\n",
      "+-----------------------------------------------------------------------------+\n"
     ]
    }
   ],
   "source": [
    "!nvidia-smi"
   ]
  },
  {
   "cell_type": "code",
   "execution_count": 15,
   "metadata": {
    "colab": {
     "base_uri": "https://localhost:8080/"
    },
    "executionInfo": {
     "elapsed": 74617,
     "status": "ok",
     "timestamp": 1670984109007,
     "user": {
      "displayName": "28",
      "userId": "04211398539985590831"
     },
     "user_tz": -480
    },
    "id": "HfBsNHQp62I7",
    "outputId": "dd64ebdd-d430-4b96-9c69-ade3253f0903"
   },
   "outputs": [
    {
     "name": "stdout",
     "output_type": "stream",
     "text": [
      "The autoreload extension is already loaded. To reload it, use:\n",
      "  %reload_ext autoreload\n"
     ]
    }
   ],
   "source": [
    "# sync python module\n",
    "%load_ext autoreload\n",
    "%autoreload 2"
   ]
  },
  {
   "cell_type": "markdown",
   "metadata": {
    "id": "uPwewTXGy8dq",
    "jp-MarkdownHeadingCollapsed": true,
    "tags": []
   },
   "source": [
    "## Gen pretrain data dict json"
   ]
  },
  {
   "cell_type": "code",
   "execution_count": 44,
   "metadata": {
    "colab": {
     "base_uri": "https://localhost:8080/"
    },
    "executionInfo": {
     "elapsed": 5,
     "status": "ok",
     "timestamp": 1669639038445,
     "user": {
      "displayName": "20",
      "userId": "00260548354071665304"
     },
     "user_tz": -480
    },
    "id": "SU6Hqrsdy0vE",
    "outputId": "c7a30613-8d7d-4cfa-f0f9-b30e70d57aa3"
   },
   "outputs": [
    {
     "name": "stdout",
     "output_type": "stream",
     "text": [
      "save json to /nfs/Workspace/CardiacSeg/dataset/chgh/data_dicts/exp_2_2_pretrain.json\n"
     ]
    },
    {
     "data": {
      "text/plain": [
       "{'train': [{'image': 'pid_05/pid_05.nii.gz',\n",
       "   'label': 'pid_05/pid_05_gt.nii.gz'},\n",
       "  {'image': 'pid_06/pid_06.nii.gz', 'label': 'pid_06/pid_06_gt.nii.gz'},\n",
       "  {'image': 'pid_07/pid_07.nii.gz', 'label': 'pid_07/pid_07_gt.nii.gz'},\n",
       "  {'image': 'pid_08/pid_08.nii.gz', 'label': 'pid_08/pid_08_gt.nii.gz'},\n",
       "  {'image': 'pid_21/pid_21.nii.gz', 'label': 'pid_21/pid_21_gt.nii.gz'},\n",
       "  {'image': 'pid_23/pid_23.nii.gz', 'label': 'pid_23/pid_23_gt.nii.gz'},\n",
       "  {'image': 'pid_24/pid_24.nii.gz', 'label': 'pid_24/pid_24_gt.nii.gz'},\n",
       "  {'image': 'pid_27/pid_27.nii.gz', 'label': 'pid_27/pid_27_gt.nii.gz'},\n",
       "  {'image': 'pid_30/pid_30.nii.gz', 'label': 'pid_30/pid_30_gt.nii.gz'},\n",
       "  {'image': 'pid_34/pid_34.nii.gz', 'label': 'pid_34/pid_34_gt.nii.gz'},\n",
       "  {'image': 'pid_57/pid_57.nii.gz', 'label': 'pid_57/pid_57_gt.nii.gz'},\n",
       "  {'image': 'pid_1002/pid_1002.nii.gz',\n",
       "   'label': 'pid_1002/pid_1002_gt.nii.gz'},\n",
       "  {'image': 'pid_1003/pid_1003.nii.gz',\n",
       "   'label': 'pid_1003/pid_1003_gt.nii.gz'}],\n",
       " 'val': [{'image': 'pid_107/pid_107.nii.gz',\n",
       "   'label': 'pid_107/pid_107_gt.nii.gz'},\n",
       "  {'image': 'pid_108/pid_108.nii.gz', 'label': 'pid_108/pid_108_gt.nii.gz'},\n",
       "  {'image': 'pid_110/pid_110.nii.gz', 'label': 'pid_110/pid_110_gt.nii.gz'}],\n",
       " 'test': [{'image': 'pid_107/pid_107.nii.gz',\n",
       "   'label': 'pid_107/pid_107_gt.nii.gz'},\n",
       "  {'image': 'pid_108/pid_108.nii.gz', 'label': 'pid_108/pid_108_gt.nii.gz'},\n",
       "  {'image': 'pid_110/pid_110.nii.gz', 'label': 'pid_110/pid_110_gt.nii.gz'}]}"
      ]
     },
     "execution_count": 44,
     "metadata": {},
     "output_type": "execute_result"
    }
   ],
   "source": [
    "workspace_dir = '/nfs/Workspace/CardiacSeg'\n",
    "import sys\n",
    "\n",
    "# set package path\n",
    "sys.path.append(workspace_dir)\n",
    "\n",
    "from datasets.chgh_dataset import get_data_dicts\n",
    "from data_utils.io import save_json\n",
    "from expers.preprocess import get_rel_data_dicts\n",
    "\n",
    "exp_name = 'exp_2_2'\n",
    "root_data_dir = os.path.join(workspace_dir, 'dataset', 'chgh')\n",
    "data_dir = os.path.join(root_data_dir, 'dataset_2')\n",
    "data_dicts_json = os.path.join(root_data_dir, 'data_dicts', f'{exp_name}_pretrain.json')\n",
    "\n",
    "data_dicts = get_rel_data_dicts(get_data_dicts(data_dir))\n",
    "data_dicts.pop(11)\n",
    "data_dicts.pop(-3)\n",
    "data_dicts[-5:-2]\n",
    "\n",
    "# data_dicts\n",
    "\n",
    "tr_data_dicts = [*data_dicts[:-5], *data_dicts[-2:]]\n",
    "val_data_dicts = data_dicts[-5:-2]\n",
    "tt_data_dicts = data_dicts[-5:-2]\n",
    "\n",
    "out_data_dict = {\n",
    "    'train':tr_data_dicts,\n",
    "    'val':val_data_dicts,\n",
    "    'test':tt_data_dicts\n",
    "}\n",
    "\n",
    "save_json(out_data_dict, data_dicts_json)\n",
    "out_data_dict"
   ]
  },
  {
   "cell_type": "markdown",
   "metadata": {
    "id": "th4_0JZYLCfy"
   },
   "source": [
    "## Pretrain"
   ]
  },
  {
   "cell_type": "code",
   "execution_count": 28,
   "metadata": {
    "executionInfo": {
     "elapsed": 28,
     "status": "ok",
     "timestamp": 1670984122741,
     "user": {
      "displayName": "28",
      "userId": "04211398539985590831"
     },
     "user_tz": -480
    },
    "id": "nyOo-W92PiRi"
   },
   "outputs": [
    {
     "name": "stdout",
     "output_type": "stream",
     "text": [
      "/nfs/Workspace/CardiacSeg/exps/exps/unetcnx_x3_2_2/chgh/pretrain/exp_1\n"
     ]
    }
   ],
   "source": [
    "import os\n",
    "\n",
    "workspace_dir = '/nfs/Workspace/CardiacSeg'\n",
    "\n",
    "exp_name = 'exp_1'\n",
    "model_name = 'unetcnx_x3_2_2'\n",
    "data_name = 'chgh'\n",
    "\n",
    "root_data_dir = os.path.join(workspace_dir, 'dataset', data_name)\n",
    "data_dir = os.path.join(root_data_dir, 'dataset_2')\n",
    "data_dicts_json = os.path.join(root_data_dir, 'data_dicts', f'exp_2_2_pretrain.json')\n",
    "\n",
    "root_dir = os.path.join(\n",
    "    workspace_dir,\n",
    "    'exps',\n",
    "    'exps',\n",
    "    model_name,\n",
    "    data_name,\n",
    "    'pretrain',\n",
    "    exp_name\n",
    ")\n",
    "model_dir = os.path.join(root_dir, 'models')\n",
    "log_dir = os.path.join(root_dir, 'logs')\n",
    "\n",
    "os.makedirs(root_dir, exist_ok=True)\n",
    "\n",
    "best_model_path = os.path.join(model_dir, 'model_bestValRMSE.pt')\n",
    "final_model_path = os.path.join(model_dir, 'model_final.pt')\n",
    "\n",
    "%cd {root_dir}"
   ]
  },
  {
   "cell_type": "code",
   "execution_count": null,
   "metadata": {
    "colab": {
     "base_uri": "https://localhost:8080/"
    },
    "executionInfo": {
     "elapsed": 26663130,
     "status": "ok",
     "timestamp": 1671010785845,
     "user": {
      "displayName": "28",
      "userId": "04211398539985590831"
     },
     "user_tz": -480
    },
    "id": "iZvqEQoDLKbx",
    "outputId": "19c0cc2e-c832-4603-ba95-398190eb2b74"
   },
   "outputs": [],
   "source": [
    "!PYTHONPATH={workspace_dir} /opt/conda/bin/python {workspace_dir}/expers/pretrain/train.py\\\n",
    "--use_checkpoint \\\n",
    "--batch_size=1 \\\n",
    "--num_steps=100000 \\\n",
    "--lrdecay \\\n",
    "--eval_num=100 \\\n",
    "--max_early_stop_count=60 \\\n",
    "--model_name={model_name} \\\n",
    "--logdir={log_dir} \\\n",
    "--model_dir={model_dir} \\\n",
    "--data_dirs={data_dir} \\\n",
    "--data_dicts_jsons={data_dicts_json} \\\n",
    "--resume={final_model_path}\n",
    "# --lr=<Lr> \n",
    "# --roi_x=<Roi_x> \\\n",
    "# --roi_y=<Roi_y> \\\n",
    "# --roi_z=<Roi_z> \\"
   ]
  },
  {
   "cell_type": "code",
   "execution_count": 26,
   "metadata": {},
   "outputs": [
    {
     "name": "stdout",
     "output_type": "stream",
     "text": [
      "model: unetcnx_x3_2_2\n",
      "load model: /nfs/Workspace/CardiacSeg/exps/exps/unetcnx_x3_2_2/chgh/pretrain/exp_1/models/pretrain/exp_1/model_bestValRMSE.pt\n",
      "global step: 7100\n",
      "best val: 0.0615180271367232\n"
     ]
    }
   ],
   "source": [
    "import sys\n",
    "# set package path\n",
    "sys.path.append(workspace_dir)\n",
    "\n",
    "from networks.network import network\n",
    "from networks.ssl_head import SSLHead\n",
    "\n",
    "import torch\n",
    "\n",
    "class args:\n",
    "    in_channels=1\n",
    "    out_channels=2\n",
    "    device='cuda'\n",
    "\n",
    "net = network(model_name, args)\n",
    "\n",
    "model = SSLHead(\n",
    "  args.in_channels,\n",
    "  net, \n",
    "  dim=768\n",
    ").to(args.device)\n",
    "\n",
    "model_pth = best_model_path\n",
    "model_dict = torch.load(model_pth)\n",
    "model.load_state_dict(model_dict[\"state_dict\"])\n",
    "\n",
    "if \"global_step\" in model_dict:\n",
    "    global_step = model_dict[\"global_step\"]\n",
    "if \"early_stop_count\" in model_dict:\n",
    "    early_stop_count = model_dict[\"early_stop_count\"]\n",
    "if \"val_best\" in model_dict:\n",
    "    best_val = model_dict[\"val_best\"]\n",
    "    \n",
    "print('load model:', model_pth)\n",
    "print('global step:', global_step)\n",
    "print('best val:', best_val)"
   ]
  }
 ],
 "metadata": {
  "accelerator": "GPU",
  "colab": {
   "collapsed_sections": [
    "uPwewTXGy8dq",
    "bXAggojBs9u0"
   ],
   "provenance": []
  },
  "gpuClass": "standard",
  "kernelspec": {
   "display_name": "base",
   "language": "python",
   "name": "base"
  },
  "language_info": {
   "codemirror_mode": {
    "name": "ipython",
    "version": 3
   },
   "file_extension": ".py",
   "mimetype": "text/x-python",
   "name": "python",
   "nbconvert_exporter": "python",
   "pygments_lexer": "ipython3",
   "version": "3.9.12"
  }
 },
 "nbformat": 4,
 "nbformat_minor": 4
}
