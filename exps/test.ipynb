{
 "cells": [
  {
   "cell_type": "code",
   "execution_count": 1,
   "id": "970dbc19-33b1-4098-a189-2fe9092f79db",
   "metadata": {},
   "outputs": [
    {
     "name": "stdout",
     "output_type": "stream",
     "text": [
      "Fri May 26 14:07:39 2023       \n",
      "+-----------------------------------------------------------------------------+\n",
      "| NVIDIA-SMI 470.141.03   Driver Version: 470.141.03   CUDA Version: 11.4     |\n",
      "|-------------------------------+----------------------+----------------------+\n",
      "| GPU  Name        Persistence-M| Bus-Id        Disp.A | Volatile Uncorr. ECC |\n",
      "| Fan  Temp  Perf  Pwr:Usage/Cap|         Memory-Usage | GPU-Util  Compute M. |\n",
      "|                               |                      |               MIG M. |\n",
      "|===============================+======================+======================|\n",
      "|   0  Tesla V100-SXM2...  On   | 00000000:0A:00.0 Off |                    0 |\n",
      "| N/A   32C    P0    41W / 163W |      0MiB / 32510MiB |      0%      Default |\n",
      "|                               |                      |                  N/A |\n",
      "+-------------------------------+----------------------+----------------------+\n",
      "                                                                               \n",
      "+-----------------------------------------------------------------------------+\n",
      "| Processes:                                                                  |\n",
      "|  GPU   GI   CI        PID   Type   Process name                  GPU Memory |\n",
      "|        ID   ID                                                   Usage      |\n",
      "|=============================================================================|\n",
      "|  No running processes found                                                 |\n",
      "+-----------------------------------------------------------------------------+\n"
     ]
    }
   ],
   "source": [
    "!nvidia-smi"
   ]
  },
  {
   "cell_type": "code",
   "execution_count": 2,
   "id": "68b0c5ca-4774-4784-8931-2b98668d0587",
   "metadata": {},
   "outputs": [],
   "source": [
    "# sync python module\n",
    "%load_ext autoreload\n",
    "%autoreload 2"
   ]
  },
  {
   "cell_type": "code",
   "execution_count": 5,
   "id": "2622ea19-abcb-4990-ac0b-390f7232d644",
   "metadata": {},
   "outputs": [
    {
     "name": "stdout",
     "output_type": "stream",
     "text": [
      "/nfs/Workspace/CardiacSeg/exps/exps/swinunetr/chgh\n"
     ]
    }
   ],
   "source": [
    "!pwd"
   ]
  },
  {
   "cell_type": "code",
   "execution_count": 14,
   "id": "d2f3a9d9-60a4-48b8-ad66-ff31a628c374",
   "metadata": {},
   "outputs": [
    {
     "name": "stdout",
     "output_type": "stream",
     "text": [
      "/nfs/Workspace/CardiacSeg/exps/exps/cotr/chgh\n"
     ]
    }
   ],
   "source": [
    "import os\n",
    "\n",
    "workspace_dir = '/nfs/Workspace/CardiacSeg'\n",
    "model_name = 'cotr' #'unetcnx_a1'\n",
    "data_name = 'chgh'\n",
    "sub_data_dir_name = 'dataset_2'\n",
    "exp_name = 't_4' #'exp_b7_9_ds1_tn1'\n",
    "data_dict_file_name = 'exp_b7_9.json'\n",
    "\n",
    "tune_mode = 'test' #'lrschedule' #'train'\n",
    "\n",
    "\n",
    "root_exp_dir = os.path.join(\n",
    "    workspace_dir, \n",
    "    'exps',\n",
    "    'exps',\n",
    "    model_name,\n",
    "    data_name,\n",
    "    'tune_results'\n",
    ")\n",
    "\n",
    "root_data_dir = os.path.join(\n",
    "    workspace_dir, \n",
    "    'dataset',\n",
    "    data_name\n",
    ")\n",
    "\n",
    "data_dir = os.path.join(root_data_dir, sub_data_dir_name)\n",
    "data_dicts_json = os.path.join(workspace_dir, 'exps', 'data_dicts', data_name, data_dict_file_name)\n",
    "\n",
    "# unetcnx_a1\n",
    "# exp_dir = '/nfs/Workspace/CardiacSeg/exps/exps/unetcnx_a1/chgh/tune_results/exp_b7_9_ds1_tn1/main_5cbaa_00000_0_optim=lr_0_0007_weight_decay_0_0005_2023-05-17_05-19-13/'\n",
    "# unet3d\n",
    "# exp_dir = '/nfs/Workspace/CardiacSeg/exps/exps/unet3d/chgh/tune_results/t_4/main_4227b_00000_0_exp=exp_t_4_2023-04-02_15-44-31'\n",
    "# attn unet\n",
    "# exp_dir = '/nfs/Workspace/CardiacSeg/exps/exps/attention_unet/chgh/tune_results/t_4/main_88147_00000_0_exp=exp_t_4_2023-04-02_12-11-43'\n",
    "# cotr\n",
    "# exp_dir = '/nfs/Workspace/CardiacSeg/exps/exps/cotr/chgh/tune_results/t_4/main_0ef8c_00000_0_exp=exp_t_4_2023-04-02_10-06-38'\n",
    "# unetr\n",
    "# exp_dir = '/nfs/Workspace/CardiacSeg/exps/exps/unetr/chgh/tune_results/t_4/main_4c480_00000_0_exp=exp_t_4_2023-04-02_06-47-55'\n",
    "# swinunetr\n",
    "# exp_dir = '/nfs/Workspace/CardiacSeg/exps/exps/swinunetr/chgh/tune_results/t_4/main_634c8_00000_0_exp=exp_exp_b7_9_2023-03-27_02-09-21'\n",
    "\n",
    "model_dir = os.path.join(exp_dir, 'models')\n",
    "log_dir = os.path.join(exp_dir, 'logs')\n",
    "eval_dir = os.path.join(exp_dir, 'eda_evals')\n",
    "\n",
    "best_checkpoint = os.path.join(model_dir, 'best_model.pth')\n",
    "final_checkpoint = os.path.join(model_dir, 'final_model.pth')\n",
    "\n",
    "# test train data or val data for eda (train, val), default is test data\n",
    "# val dice value diff training, because infer not include bg\n",
    "eda_test_data = 'test' # val, test\n",
    "\n",
    "os.makedirs(root_exp_dir, exist_ok=True)\n",
    "\n",
    "%cd {root_exp_dir}/../"
   ]
  },
  {
   "cell_type": "code",
   "execution_count": 15,
   "id": "c5a70b51-fa23-4129-adb4-be9353bb7e20",
   "metadata": {},
   "outputs": [
    {
     "name": "stdout",
     "output_type": "stream",
     "text": [
      "cuda is available\n",
      "model: cotr\n",
      "nn.init.kaiming_normal is now deprecated in favor of nn.init.kaiming_normal_.\n",
      "  + Number of Backbone Params: 20.50(e6)\n",
      "  + Number of Transformer Params: 9.32(e6)\n",
      "optimzer: AdamW\n",
      "{'lr': 0.0005, 'weight_decay': 0.0005}\n",
      "=> loaded checkpoint '/nfs/Workspace/CardiacSeg/exps/exps/cotr/chgh/tune_results/t_4/main_0ef8c_00000_0_exp=exp_t_4_2023-04-02_10-06-38/models/best_model.pth' (epoch 301) (bestacc 0.8893863558769226) (early stop count 0)\n",
      "load json from /nfs/Workspace/CardiacSeg/exps/data_dicts/chgh/exp_b7_9.json\n",
      "train files (9): ['pid_08', 'pid_27', 'pid_30', 'pid_52', 'pid_56', 'pid_57', 'pid_110', 'pid_1002', 'pid_1003']\n",
      "val files (3): ['pid_08_1', 'pid_107', 'pid_108']\n",
      "test files (3): ['pid_02', 'pid_106', 'pid_1000']\n",
      "infer data: {'image': '/nfs/Workspace/CardiacSeg/dataset/chgh/dataset_2/pid_02/pid_02.nii.gz', 'label': '/nfs/Workspace/CardiacSeg/dataset/chgh/dataset_2/pid_02/pid_02_gt.nii.gz'}\n",
      "<class 'monai.transforms.utility.array.AddChannel'>: Class `AddChannel` has been deprecated since version 0.8. please use MetaTensor data type and monai.transforms.EnsureChannelFirst instead.\n",
      "__floordiv__ is deprecated, and its behavior will change in a future version of pytorch. It currently rounds toward 0 (like the 'trunc' function NOT 'floor'). This results in incorrect rounding for negative values. To keep the current behavior, use torch.div(a, b, rounding_mode='trunc'), or for actual floor division, use torch.div(a, b, rounding_mode='floor').\n",
      "__floordiv__ is deprecated, and its behavior will change in a future version of pytorch. It currently rounds toward 0 (like the 'trunc' function NOT 'floor'). This results in incorrect rounding for negative values. To keep the current behavior, use torch.div(a, b, rounding_mode='trunc'), or for actual floor division, use torch.div(a, b, rounding_mode='floor').\n",
      "__floordiv__ is deprecated, and its behavior will change in a future version of pytorch. It currently rounds toward 0 (like the 'trunc' function NOT 'floor'). This results in incorrect rounding for negative values. To keep the current behavior, use torch.div(a, b, rounding_mode='trunc'), or for actual floor division, use torch.div(a, b, rounding_mode='floor').\n",
      "torch.meshgrid: in an upcoming release, it will be required to pass the indexing argument. (Triggered internally at  ../aten/src/ATen/native/TensorShape.cpp:2894.)\n",
      "infer time: 4.958706855773926 sec\n",
      "use post process infer\n",
      "infer test time aug:\n",
      "dice: 0.8496079\n",
      "hd95: 7.810249675906654\n",
      "infer test original:\n",
      "dice: 0.8398066\n",
      "hd95: 17.4928556845359\n",
      "infer data: {'image': '/nfs/Workspace/CardiacSeg/dataset/chgh/dataset_2/pid_106/pid_106.nii.gz', 'label': '/nfs/Workspace/CardiacSeg/dataset/chgh/dataset_2/pid_106/pid_106_gt.nii.gz'}\n",
      "infer time: 3.271728992462158 sec\n",
      "use post process infer\n",
      "infer test time aug:\n",
      "dice: 0.8523642\n",
      "hd95: 4.69041575982343\n",
      "infer test original:\n",
      "dice: 0.84726226\n",
      "hd95: 9.219544457292887\n",
      "infer data: {'image': '/nfs/Workspace/CardiacSeg/dataset/chgh/dataset_2/pid_1000/pid_1000.nii.gz', 'label': '/nfs/Workspace/CardiacSeg/dataset/chgh/dataset_2/pid_1000/pid_1000_gt.nii.gz'}\n",
      "infer time: 3.3090591430664062 sec\n",
      "use post process infer\n",
      "infer test time aug:\n",
      "dice: 0.895911\n",
      "hd95: 4.242640687119285\n",
      "infer test original:\n",
      "dice: 0.8826902\n",
      "hd95: 9.055385138137417\n",
      "\n",
      "eval result:\n",
      "avg tt dice: 0.865961\n",
      "avg tt hd95: 5.58110204094979\n",
      "avg inf dice: 0.8565864\n",
      "avg inf hd95: 11.922595093322068\n",
      "  patientId  tt_diceC  tt_hd95C  inf_diceC  inf_hd95C\n",
      "0    pid_02  0.849608  7.810250   0.839807  17.492856\n",
      "1   pid_106  0.852364  4.690416   0.847262   9.219544\n",
      "2  pid_1000  0.895911  4.242641   0.882690   9.055385\n"
     ]
    }
   ],
   "source": [
    "!PYTHONPATH=/nfs/Workspace/CardiacSeg /opt/conda/bin/python /nfs/Workspace/CardiacSeg/expers/train.py \\\n",
    "--tune_mode={tune_mode} \\\n",
    "--exp_name={exp_name} \\\n",
    "--data_name={data_name} \\\n",
    "--data_dir={data_dir} \\\n",
    "--root_exp_dir={root_exp_dir} \\\n",
    "--model_name={model_name}\\\n",
    "--model_dir={model_dir} \\\n",
    "--log_dir={log_dir} \\\n",
    "--eval_dir={eval_dir} \\\n",
    "--start_epoch=0 \\\n",
    "--val_every=20 \\\n",
    "--max_early_stop_count=20 \\\n",
    "--max_epoch=8000  \\\n",
    "--data_dicts_json={data_dicts_json} \\\n",
    "--pin_memory \\\n",
    "--out_channels=2 \\\n",
    "--patch_size=4 \\\n",
    "--feature_size=48 \\\n",
    "--drop_rate=0.1 \\\n",
    "--depths 3 3 9 3 \\\n",
    "--kernel_size 7 \\\n",
    "--exp_rate 4 \\\n",
    "--norm_name='layer' \\\n",
    "--a_min=-42 \\\n",
    "--a_max=423 \\\n",
    "--space_x=0.7 \\\n",
    "--space_y=0.7 \\\n",
    "--space_z=1.0 \\\n",
    "--roi_x=128 \\\n",
    "--roi_y=128 \\\n",
    "--roi_z=128 \\\n",
    "--optim='AdamW' \\\n",
    "--lr=5e-4 \\\n",
    "--weight_decay=5e-4 \\\n",
    "--checkpoint={best_checkpoint} \\\n",
    "--use_init_weights \\\n",
    "--deep_sup \\\n",
    "--eda_test_data=eda_test_data \\\n",
    "--infer_post_process \\\n",
    "--test_mode"
   ]
  }
 ],
 "metadata": {
  "kernelspec": {
   "display_name": "Python 3 (ipykernel)",
   "language": "python",
   "name": "python3"
  },
  "language_info": {
   "codemirror_mode": {
    "name": "ipython",
    "version": 3
   },
   "file_extension": ".py",
   "mimetype": "text/x-python",
   "name": "python",
   "nbconvert_exporter": "python",
   "pygments_lexer": "ipython3",
   "version": "3.8.10"
  }
 },
 "nbformat": 4,
 "nbformat_minor": 5
}
