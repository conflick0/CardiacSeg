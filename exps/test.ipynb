{
 "cells": [
  {
   "cell_type": "code",
   "execution_count": null,
   "id": "970dbc19-33b1-4098-a189-2fe9092f79db",
   "metadata": {},
   "outputs": [],
   "source": [
    "!nvidia-smi"
   ]
  },
  {
   "cell_type": "code",
   "execution_count": null,
   "id": "68b0c5ca-4774-4784-8931-2b98668d0587",
   "metadata": {},
   "outputs": [],
   "source": [
    "# sync python module\n",
    "%load_ext autoreload\n",
    "%autoreload 2"
   ]
  },
  {
   "cell_type": "code",
   "execution_count": null,
   "id": "d2f3a9d9-60a4-48b8-ad66-ff31a628c374",
   "metadata": {},
   "outputs": [],
   "source": [
    "import os\n",
    "\n",
    "workspace_dir = '/nfs/Workspace/CardiacSeg'\n",
    "model_name = 'unetcnx_a1' #'unetcst_a9' #'unetcnx_x3_2_2' #'unetcnx_x0' #'unetcnx_x3_2_2' #'unetcnx_x3_2_2' #'unetcnx_x3_2_2' #'unetcnx_x0'\n",
    "data_name = 'chgh'\n",
    "sub_data_dir_name = 'dataset_2'\n",
    "exp_name = 'exp_b7_9_ds1_tn1' #'exp_b7_9_x3_2_2_a5_p1' #'t_3_f0' #'exp_b7_3_x3_2_2_10'#'exp_2_2_x3_2_2_tn2' #'exp_2_2_x3_2_2_tn1' #'t_1' #'exp_2_2_1_x0' #'exp_2_2_x0_t6'\n",
    "data_dict_file_name = 'exp_b7_9.json'\n",
    "\n",
    "tune_mode = 'test' #'lrschedule' #'train'\n",
    "\n",
    "root_data_dir = os.path.join(\n",
    "    workspace_dir, \n",
    "    'dataset',\n",
    "    data_name\n",
    ")\n",
    "\n",
    "data_dir = os.path.join(root_data_dir, sub_data_dir_name)\n",
    "data_dicts_json = os.path.join(workspace_dir, 'exps', 'data_dicts', data_name, data_dict_file_name)\n",
    "\n",
    "exp_dir = '/nfs/Workspace/CardiacSeg/exps/exps/unetcnx_a1/chgh/tune_results/exp_b7_9_ds1_tn1/main_5cbaa_00000_0_optim=lr_0_0007_weight_decay_0_0005_2023-05-17_05-19-13/'\n",
    "model_dir = os.path.join(exp_dir, 'models')\n",
    "log_dir = os.path.join(exp_dir, 'logs')\n",
    "eval_dir = os.path.join(exp_dir, 'eda_evals')\n",
    "\n",
    "best_checkpoint = os.path.join(model_dir, 'best_model.pth')\n",
    "final_checkpoint = os.path.join(model_dir, 'final_model.pth')\n",
    "\n",
    "# test train data or val data for eda (train, val), default is test data\n",
    "# val dice value diff training, because infer not include bg\n",
    "eda_test_data = 'val' # val, test\n",
    "\n",
    "os.makedirs(root_exp_dir, exist_ok=True)\n",
    "\n",
    "%cd {root_exp_dir}/../"
   ]
  },
  {
   "cell_type": "code",
   "execution_count": null,
   "id": "c5a70b51-fa23-4129-adb4-be9353bb7e20",
   "metadata": {},
   "outputs": [],
   "source": [
    "!PYTHONPATH=/nfs/Workspace/CardiacSeg /opt/conda/bin/python /nfs/Workspace/CardiacSeg/expers/train.py \\\n",
    "--tune_mode={tune_mode} \\\n",
    "--exp_name={exp_name} \\\n",
    "--data_name={data_name} \\\n",
    "--data_dir={data_dir} \\\n",
    "--root_exp_dir={root_exp_dir} \\\n",
    "--model_name={model_name}\\\n",
    "--model_dir={model_dir} \\\n",
    "--log_dir={log_dir} \\\n",
    "--eval_dir={eval_dir} \\\n",
    "--start_epoch=0 \\\n",
    "--val_every=20 \\\n",
    "--max_early_stop_count=20 \\\n",
    "--max_epoch=8000  \\\n",
    "--data_dicts_json={data_dicts_json} \\\n",
    "--pin_memory \\\n",
    "--out_channels=2 \\\n",
    "--patch_size=4 \\\n",
    "--feature_size=48 \\\n",
    "--drop_rate=0.1 \\\n",
    "--depths 3 3 9 3 \\\n",
    "--kernel_size 7 \\\n",
    "--exp_rate 4 \\\n",
    "--norm_name='layer' \\\n",
    "--a_min=-42 \\\n",
    "--a_max=423 \\\n",
    "--space_x=0.7 \\\n",
    "--space_y=0.7 \\\n",
    "--space_z=1.0 \\\n",
    "--roi_x=128 \\\n",
    "--roi_y=128 \\\n",
    "--roi_z=128 \\\n",
    "--optim='AdamW' \\\n",
    "--lr=5e-4 \\\n",
    "--weight_decay=5e-4 \\\n",
    "--checkpoint={best_checkpoint} \\\n",
    "--use_init_weights \\\n",
    "--deep_sup \\\n",
    "--eda_test_data=eda_test_data \\\n",
    "--test_mode"
   ]
  }
 ],
 "metadata": {
  "kernelspec": {
   "display_name": "Python 3 (ipykernel)",
   "language": "python",
   "name": "python3"
  },
  "language_info": {
   "codemirror_mode": {
    "name": "ipython",
    "version": 3
   },
   "file_extension": ".py",
   "mimetype": "text/x-python",
   "name": "python",
   "nbconvert_exporter": "python",
   "pygments_lexer": "ipython3",
   "version": "3.8.10"
  }
 },
 "nbformat": 4,
 "nbformat_minor": 5
}
