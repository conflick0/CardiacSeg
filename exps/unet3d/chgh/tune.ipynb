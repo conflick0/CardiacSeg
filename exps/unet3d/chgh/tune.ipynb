{
 "cells": [
  {
   "cell_type": "code",
   "execution_count": 23,
   "metadata": {
    "colab": {
     "base_uri": "https://localhost:8080/"
    },
    "executionInfo": {
     "elapsed": 890,
     "status": "ok",
     "timestamp": 1672296241939,
     "user": {
      "displayName": "29",
      "userId": "05747767364965554341"
     },
     "user_tz": -480
    },
    "id": "u5rjQLvLovao",
    "outputId": "33a2b194-0378-4a67-9f81-52db80994c80"
   },
   "outputs": [
    {
     "name": "stdout",
     "output_type": "stream",
     "text": [
      "Thu Jan  5 08:57:21 2023       \n",
      "+-----------------------------------------------------------------------------+\n",
      "| NVIDIA-SMI 470.141.03   Driver Version: 470.141.03   CUDA Version: 11.4     |\n",
      "|-------------------------------+----------------------+----------------------+\n",
      "| GPU  Name        Persistence-M| Bus-Id        Disp.A | Volatile Uncorr. ECC |\n",
      "| Fan  Temp  Perf  Pwr:Usage/Cap|         Memory-Usage | GPU-Util  Compute M. |\n",
      "|                               |                      |               MIG M. |\n",
      "|===============================+======================+======================|\n",
      "|   0  Tesla V100-SXM2...  On   | 00000000:8A:00.0 Off |                    0 |\n",
      "| N/A   32C    P0    42W / 163W |      0MiB / 32510MiB |      0%      Default |\n",
      "|                               |                      |                  N/A |\n",
      "+-------------------------------+----------------------+----------------------+\n",
      "                                                                               \n",
      "+-----------------------------------------------------------------------------+\n",
      "| Processes:                                                                  |\n",
      "|  GPU   GI   CI        PID   Type   Process name                  GPU Memory |\n",
      "|        ID   ID                                                   Usage      |\n",
      "|=============================================================================|\n",
      "|  No running processes found                                                 |\n",
      "+-----------------------------------------------------------------------------+\n"
     ]
    }
   ],
   "source": [
    "!nvidia-smi"
   ]
  },
  {
   "cell_type": "code",
   "execution_count": 24,
   "metadata": {
    "colab": {
     "base_uri": "https://localhost:8080/"
    },
    "executionInfo": {
     "elapsed": 61937,
     "status": "ok",
     "timestamp": 1672296310857,
     "user": {
      "displayName": "29",
      "userId": "05747767364965554341"
     },
     "user_tz": -480
    },
    "id": "zVeiUM_Ro7H-",
    "outputId": "5686ec6c-2965-4503-af63-a2227487fa54"
   },
   "outputs": [
    {
     "name": "stdout",
     "output_type": "stream",
     "text": [
      "/nfs/Workspace/CardiacSeg\n"
     ]
    }
   ],
   "source": [
    "# mount driver\n",
    "# from google.colab import drive\n",
    "# drive.mount('/content/drive')\n",
    "#%cd /nfs/Workspace/CardiacSeg/UNETCNX/CHGH\n",
    "%cd /nfs/Workspace/CardiacSeg/\n",
    "\n",
    "# # install dependents\n",
    "# !pip install -q \"monai-weekly[nibabel, tqdm, einops]\"\n",
    "# !python -c \"import matplotlib\" || pip install -q matplotlib\n",
    "# !pip install -q timm\n",
    "# !pip install -U -q openmim\n",
    "# !mim install -U -q mmcv-full\n",
    "# !pip install ml-collections\n",
    "# !pip install ray\n",
    "# %matplotlib inline\n",
    "\n",
    "# # sync python module\n",
    "# %load_ext autoreload\n",
    "# %autoreload 2"
   ]
  },
  {
   "cell_type": "code",
   "execution_count": 25,
   "metadata": {},
   "outputs": [
    {
     "data": {
      "text/plain": [
       "'/nfs/Workspace/CardiacSeg/dataset/chgh'"
      ]
     },
     "execution_count": 25,
     "metadata": {},
     "output_type": "execute_result"
    }
   ],
   "source": [
    "root_data_dir"
   ]
  },
  {
   "cell_type": "code",
   "execution_count": 26,
   "metadata": {
    "executionInfo": {
     "elapsed": 309,
     "status": "ok",
     "timestamp": 1672298141211,
     "user": {
      "displayName": "29",
      "userId": "05747767364965554341"
     },
     "user_tz": -480
    },
    "id": "q2qqZpDfpLyN"
   },
   "outputs": [],
   "source": [
    "import os\n",
    "\n",
    "workspace_dir = '/nfs/Workspace/CardiacSeg'\n",
    "model_name = 'unet3d' #'unet3d'\n",
    "data_name = 'chgh'\n",
    "exp_name = 'exp_2_2_t6'\n",
    "tune_mode = 'optim_lrschedule_early_stop_epoch'\n",
    "\n",
    "\n",
    "# '/nfs/Workspace/CardiacSeg/UNet3D/CHGH/tune_results'\n",
    "root_exp_dir = os.path.join(\n",
    "    workspace_dir, \n",
    "    'exps',\n",
    "    model_name,\n",
    "    data_name,\n",
    "    'tune_results'\n",
    ")\n",
    "# '/nfs/Workspace/CardiacSeg/dataset/CHGH'\n",
    "root_data_dir = os.path.join(\n",
    "    workspace_dir, \n",
    "    'dataset',\n",
    "    data_name,\n",
    ")\n",
    "\n",
    "data_dir = os.path.join(root_data_dir, 'dataset_2')\n",
    "model_dir = os.path.join('./', 'models')\n",
    "log_dir = os.path.join('./', 'logs')\n",
    "start_epoch = 0\n",
    "val_every = 20\n",
    "max_epoch = 2000\n",
    "pin_memory = True\n",
    "test_mode = False\n",
    "best_checkpoint = os.path.join(model_dir, 'best_model.pth')\n",
    "final_checkpoint = os.path.join(model_dir, 'final_model.pth')\n",
    "data_dicts_json = os.path.join(root_data_dir, 'data_dicts', 'exp_2_2.json')"
   ]
  },
  {
   "cell_type": "code",
   "execution_count": 27,
   "metadata": {
    "colab": {
     "base_uri": "https://localhost:8080/"
    },
    "executionInfo": {
     "elapsed": 44991,
     "status": "ok",
     "timestamp": 1672298367615,
     "user": {
      "displayName": "29",
      "userId": "05747767364965554341"
     },
     "user_tz": -480
    },
    "id": "E8Ez867BHr2_",
    "outputId": "9686db31-6e12-432b-f1b7-1e36c10b6df9",
    "tags": []
   },
   "outputs": [
    {
     "name": "stdout",
     "output_type": "stream",
     "text": [
      "/opt/conda/lib/python3.9/site-packages/mmcv/__init__.py:20: UserWarning: On January 1, 2023, MMCV will release v2.0.0, in which it will remove components related to the training process and add a data transformation module. In addition, it will rename the package names mmcv to mmcv-lite and mmcv-full to mmcv. See https://github.com/open-mmlab/mmcv/blob/master/docs/en/compatibility.md for more details.\n",
      "  warnings.warn(\n",
      "resume tuner form /nfs/Workspace/CardiacSeg/exps/unet3d/chgh/tune_results\n",
      "2023-01-05 08:57:37,990\tINFO worker.py:1538 -- Started a local Ray instance.\n",
      "2023-01-05 08:57:39,183\tINFO tensorboardx.py:170 -- pip install \"ray[tune]\" to see TensorBoard files.\n",
      "2023-01-05 08:57:39,184\tWARNING callback.py:108 -- The TensorboardX logger cannot be instantiated because either TensorboardX or one of it's dependencies is not installed. Please make sure you have the latest version of TensorboardX installed: `pip install -U tensorboardx`\n",
      "2023-01-05 08:57:39,185\tINFO trial_runner.py:688 -- A local experiment checkpoint was found and will be used to restore the previous experiment state.\n",
      "2023-01-05 08:57:39,185\tINFO trial_runner.py:825 -- Using following checkpoint to resume: /nfs/Workspace/CardiacSeg/exps/unet3d/chgh/tune_results/exp_2_2_t6/experiment_state-2023-01-05_01-37-06.json\n",
      "2023-01-05 08:57:39,188\tWARNING trial_runner.py:830 -- Attempting to resume experiment from /nfs/Workspace/CardiacSeg/exps/unet3d/chgh/tune_results/exp_2_2_t6. This will ignore any new changes to the specification.\n",
      "2023-01-05 08:57:39,321\tINFO tune.py:653 -- TrialRunner resumed, ignoring new add_experiment but updating trial resources.\n",
      "== Status ==\n",
      "Current time: 2023-01-05 08:57:39 (running for 00:00:00.06)\n",
      "Memory usage on this node: 18.9/503.8 GiB \n",
      "Using FIFO scheduling algorithm.\n",
      "Resources requested: 0/4 CPUs, 0/1 GPUs, 0.0/20.71 GiB heap, 0.0/10.36 GiB objects (0.0/1.0 accelerator_type:V100)\n",
      "Result logdir: /nfs/Workspace/CardiacSeg/exps/unet3d/chgh/tune_results/exp_2_2_t6\n",
      "Number of trials: 30/30 (30 TERMINATED)\n",
      "+------------------+------------+-----------------------+----------------------+------------------------+----------------------+----------------------+--------+------------------+-----------+------------+--------------------+\n",
      "| Trial name       | status     | loc                   | lrschedule           |   max_early_stop_count | optim                | transform            |   iter |   total time (s) |   avg_acc |   best_acc |   early_stop_count |\n",
      "|------------------+------------+-----------------------+----------------------+------------------------+----------------------+----------------------+--------+------------------+-----------+------------+--------------------|\n",
      "| main_c18ac_00029 | TERMINATED | 10.32.221.160:2224016 | {'warmup_epochs_8e80 |                     20 | {'optim_lr': 0._8d80 | {'a_min': 32, '_8540 |     50 |          3505.48 |  0.892706 |   0.903601 |                 20 |\n",
      "| main_c18ac_00028 | TERMINATED | 10.32.221.160:2224016 | {'warmup_epochs_19c0 |                     20 | {'optim_lr': 0._18c0 | {'a_min': 32, '_1080 |     52 |          3628.76 |  0.88716  |   0.89732  |                 20 |\n",
      "| main_c18ac_00027 | TERMINATED | 10.32.221.160:2224016 | {'warmup_epochs_5140 |                     20 | {'optim_lr': 0._5040 | {'a_min': 32, '_5bc0 |     39 |          2730.34 |  0.898576 |   0.900805 |                 20 |\n",
      "| main_c18ac_00026 | TERMINATED | 10.32.221.160:2224016 | {'warmup_epochs_4d80 |                     20 | {'optim_lr': 0._4c80 | {'a_min': 32, '_4440 |     50 |          3476.39 |  0.893543 |   0.89917  |                 20 |\n",
      "| main_c18ac_00025 | TERMINATED | 10.32.221.160:2224016 | {'warmup_epochs_8ac0 |                     20 | {'optim_lr': 0._87c0 | {'a_min': 32, '_8f80 |     46 |          3205.62 |  0.895858 |   0.901893 |                 20 |\n",
      "| main_c18ac_00024 | TERMINATED | 10.32.221.160:2224016 | {'warmup_epochs_4580 |                     10 | {'optim_lr': 0._4480 | {'a_min': 32, '_0c00 |     23 |          1615.36 |  0.885316 |   0.900833 |                 10 |\n",
      "| main_c18ac_00023 | TERMINATED | 10.32.221.160:2224016 | {'warmup_epochs_9bc0 |                     10 | {'optim_lr': 0._7f00 | {'a_min': 32, '_d040 |     44 |          3033.18 |  0.884548 |   0.903719 |                 10 |\n",
      "| main_c18ac_00022 | TERMINATED | 10.32.221.160:2224016 | {'warmup_epochs_d6c0 |                     10 | {'optim_lr': 0._d5c0 | {'a_min': 32, '_6d40 |      7 |           453.14 |  0.869748 |   0.897732 |                 10 |\n",
      "| main_c18ac_00021 | TERMINATED | 10.32.221.160:3502385 | {'warmup_epochs_a940 |                     10 | {'optim_lr': 0._bec0 | {'a_min': 32, '_ed40 |     28 |          2047.19 |  0.878334 |   0.898139 |                 10 |\n",
      "| main_c18ac_00020 | TERMINATED | 10.32.221.160:3502385 | {'warmup_epochs_0940 |                     10 | {'optim_lr': 0._0e00 | {'a_min': 32, '_5800 |     26 |          1895.17 |  0.847606 |   0.89828  |                 10 |\n",
      "| main_c18ac_00019 | TERMINATED | 10.32.221.160:3502385 | {'warmup_epochs_53c0 |                     20 | {'optim_lr': 0._52c0 | {'a_min': 32, '_2a40 |     48 |          3454.6  |  0.890234 |   0.89965  |                 20 |\n",
      "| main_c18ac_00018 | TERMINATED | 10.32.221.160:3502385 | {'warmup_epochs_00c0 |                     20 | {'optim_lr': 0._bf80 | {'a_min': 32, '_b740 |     49 |          3509.9  |  0.894635 |   0.902499 |                 20 |\n",
      "| main_c18ac_00017 | TERMINATED | 10.32.221.160:3502385 | {'warmup_epochs_9900 |                     20 | {'optim_lr': 0._97c0 | {'a_min': 32, '_1b80 |     59 |          4225.83 |  0.889347 |   0.898475 |                 20 |\n",
      "| main_c18ac_00016 | TERMINATED | 10.32.221.160:3502385 | {'warmup_epochs_3a00 |                     20 | {'optim_lr': 0._3e40 | {'a_min': 32, '_5280 |     60 |          4269.47 |  0.89059  |   0.899574 |                 17 |\n",
      "| main_c18ac_00015 | TERMINATED | 10.32.221.160:3502385 | {'warmup_epochs_9600 |                     20 | {'optim_lr': 0._9680 | {'a_min': 32, '_49c0 |     45 |          3203.52 |  0.898076 |   0.903382 |                 20 |\n",
      "| main_c18ac_00014 | TERMINATED | 10.32.221.160:3502385 | {'warmup_epochs_3b80 |                     10 | {'optim_lr': 0._3a80 | {'a_min': 32, '_3240 |     30 |          2142.29 |  0.885333 |   0.901267 |                 10 |\n",
      "| main_c18ac_00013 | TERMINATED | 10.32.221.160:3502385 | {'warmup_epochs_fe80 |                     10 | {'optim_lr': 0._fd40 | {'a_min': 32, '_da00 |     18 |          1295.49 |  0.864463 |   0.873934 |                 10 |\n",
      "| main_c18ac_00012 | TERMINATED | 10.32.221.160:3502385 | {'warmup_epochs_c880 |                     10 | {'optim_lr': 0._c780 | {'a_min': 32, '_8f00 |     27 |          1907.95 |  0.88676  |   0.904048 |                 10 |\n",
      "| main_c18ac_00011 | TERMINATED | 10.32.221.160:3502385 | {'warmup_epochs_5b40 |                     10 | {'optim_lr': 0._5c00 | {'a_min': 32, '_6ec0 |     42 |          3000.45 |  0.89471  |   0.901872 |                 10 |\n",
      "| main_c18ac_00010 | TERMINATED | 10.32.221.160:3502385 | {'warmup_epochs_eec0 |                     10 | {'optim_lr': 0._edc0 | {'a_min': 32, '_e580 |     27 |          1918.87 |  0.896777 |   0.90151  |                 10 |\n",
      "| main_c18ac_00009 | TERMINATED | 10.32.221.160:3502385 | {'warmup_epochs_45c0 |                     20 | {'optim_lr': 0._7b00 | {'a_min': 32, '_7a00 |     39 |          2732.43 |  0.885967 |   0.901408 |                 20 |\n",
      "| main_c18ac_00008 | TERMINATED | 10.32.221.160:3502385 | {'warmup_epochs_6200 |                     20 | {'optim_lr': 0._6100 | {'a_min': 32, '_3880 |     50 |          3523.32 |  0.894064 |   0.904265 |                 20 |\n",
      "| main_c18ac_00007 | TERMINATED | 10.32.221.160:3502385 | {'warmup_epochs_6a80 |                     20 | {'optim_lr': 0._6c00 | {'a_min': 32, '_5d40 |     50 |          3521.41 |  0.886318 |   0.899795 |                 20 |\n",
      "| main_c18ac_00006 | TERMINATED | 10.32.221.160:3502385 | {'warmup_epochs_8cc0 |                     20 | {'optim_lr': 0._8bc0 | {'a_min': 32, '_8380 |     43 |          3001.71 |  0.885383 |   0.904886 |                 20 |\n",
      "| main_c18ac_00005 | TERMINATED | 10.32.221.160:3502385 | {'warmup_epochs_efc0 |                     20 | {'optim_lr': 0._eec0 | {'a_min': 32, '_e680 |     60 |          4157.65 |  0.895332 |   0.899205 |                 12 |\n",
      "| main_c18ac_00004 | TERMINATED | 10.32.221.160:3502385 | {'warmup_epochs_9a80 |                     10 | {'optim_lr': 0._ed80 | {'a_min': 32, '_3440 |     34 |          2363.72 |  0.889154 |   0.897295 |                 10 |\n",
      "| main_c18ac_00003 | TERMINATED | 10.32.221.160:3502385 | {'warmup_epochs_1c00 |                     10 | {'optim_lr': 0._12c0 | {'a_min': 32, '_4100 |     25 |          1741.1  |  0.85786  |   0.897134 |                 10 |\n",
      "| main_c18ac_00002 | TERMINATED | 10.32.221.160:3502385 | {'warmup_epochs_5bc0 |                     10 | {'optim_lr': 0._5ac0 | {'a_min': 32, '_cc00 |     39 |          2703.74 |  0.889864 |   0.904847 |                 10 |\n",
      "| main_c18ac_00001 | TERMINATED | 10.32.221.160:3502385 | {'warmup_epochs_fcc0 |                     10 | {'optim_lr': 0._fc80 | {'a_min': 32, '_f580 |     39 |          2690.68 |  0.896738 |   0.901656 |                 10 |\n",
      "| main_c18ac_00000 | TERMINATED | 10.32.221.160:3502385 | {'warmup_epochs_72c0 |                     10 | {'optim_lr': 0._76c0 | {'a_min': 32, '_7d40 |     39 |          2674.24 |  0.895483 |   0.904971 |                 10 |\n",
      "+------------------+------------+-----------------------+----------------------+------------------------+----------------------+----------------------+--------+------------------+-----------+------------+--------------------+\n",
      "\n",
      "\n",
      "2023-01-05 08:57:39,495\tINFO tune.py:762 -- Total run time: 0.32 seconds (0.00 seconds for the tuning loop).\n",
      "\u001b[0m"
     ]
    }
   ],
   "source": [
    "# training \n",
    "!PYTHONPATH=/nfs/Workspace/CardiacSeg /opt/conda/bin/python /nfs/Workspace/CardiacSeg/expers/chgh/tune.py \\\n",
    "--exp_name={exp_name} \\\n",
    "--local_dir={root_exp_dir} \\\n",
    "--model_name={model_name}\\\n",
    "--data_dir={root_data_dir} \\\n",
    "--model_dir={model_dir} \\\n",
    "--log_dir={log_dir} \\\n",
    "--start_epoch=0 \\\n",
    "--val_every=20 \\\n",
    "--max_epoch=8000 \\\n",
    "--optim_lr=1e-4 \\\n",
    "--pin_memory \\\n",
    "--num_fold=3 \\\n",
    "--fold=2 \\\n",
    "--split_train_ratio=0.75 \\\n",
    "--data_dicts_json={data_dicts_json} \\\n",
    "--max_early_stop_count=10 \\\n",
    "--tune_mode={tune_mode} \\\n",
    "--checkpoint={final_checkpoint} \\\n",
    "--lrschedule='warmup_cosine' \\\n",
    "--resume_tuner"
   ]
  },
  {
   "cell_type": "code",
   "execution_count": 29,
   "metadata": {},
   "outputs": [
    {
     "name": "stdout",
     "output_type": "stream",
     "text": [
      "Loading results from /nfs/Workspace/CardiacSeg/exps/unet3d/chgh/tune_results/exp_2_2_t6...\n",
      "/opt/conda/lib/python3.9/site-packages/mmcv/__init__.py:20: UserWarning: On January 1, 2023, MMCV will release v2.0.0, in which it will remove components related to the training process and add a data transformation module. In addition, it will rename the package names mmcv to mmcv-lite and mmcv-full to mmcv. See https://github.com/open-mmlab/mmcv/blob/master/docs/en/compatibility.md for more details.\n",
      "  warnings.warn(\n",
      "Trial c18ac_00000:  {'transform': {'a_min': 32, 'a_max': 294, 'space': [0.76, 0.76, 1.0], 'roi': [128, 128, 128]}, 'optim': {'optim_lr': 0.004, 'reg_weight': 0.0005}, 'lrschedule': {'warmup_epochs': 20, 'max_epoch': 1200}, 'max_early_stop_count': 10} 0.9049712419509888\n",
      "Trial c18ac_00001:  {'transform': {'a_min': 32, 'a_max': 294, 'space': [0.76, 0.76, 1.0], 'roi': [128, 128, 128]}, 'optim': {'optim_lr': 0.004, 'reg_weight': 0.0005}, 'lrschedule': {'warmup_epochs': 40, 'max_epoch': 1200}, 'max_early_stop_count': 10} 0.901656448841095\n",
      "Trial c18ac_00002:  {'transform': {'a_min': 32, 'a_max': 294, 'space': [0.76, 0.76, 1.0], 'roi': [128, 128, 128]}, 'optim': {'optim_lr': 0.004, 'reg_weight': 0.0005}, 'lrschedule': {'warmup_epochs': 20, 'max_epoch': 1600}, 'max_early_stop_count': 10} 0.9048467874526978\n",
      "Trial c18ac_00003:  {'transform': {'a_min': 32, 'a_max': 294, 'space': [0.76, 0.76, 1.0], 'roi': [128, 128, 128]}, 'optim': {'optim_lr': 0.004, 'reg_weight': 0.0005}, 'lrschedule': {'warmup_epochs': 40, 'max_epoch': 1600}, 'max_early_stop_count': 10} 0.8971343040466309\n",
      "Trial c18ac_00004:  {'transform': {'a_min': 32, 'a_max': 294, 'space': [0.76, 0.76, 1.0], 'roi': [128, 128, 128]}, 'optim': {'optim_lr': 0.004, 'reg_weight': 0.0005}, 'lrschedule': {'warmup_epochs': 60, 'max_epoch': 1600}, 'max_early_stop_count': 10} 0.8972952961921692\n",
      "Trial c18ac_00005:  {'transform': {'a_min': 32, 'a_max': 294, 'space': [0.76, 0.76, 1.0], 'roi': [128, 128, 128]}, 'optim': {'optim_lr': 0.004, 'reg_weight': 0.0005}, 'lrschedule': {'warmup_epochs': 20, 'max_epoch': 1200}, 'max_early_stop_count': 20} 0.8992049098014832\n",
      "Trial c18ac_00006:  {'transform': {'a_min': 32, 'a_max': 294, 'space': [0.76, 0.76, 1.0], 'roi': [128, 128, 128]}, 'optim': {'optim_lr': 0.004, 'reg_weight': 0.0005}, 'lrschedule': {'warmup_epochs': 40, 'max_epoch': 1200}, 'max_early_stop_count': 20} 0.9048858880996704\n",
      "Trial c18ac_00007:  {'transform': {'a_min': 32, 'a_max': 294, 'space': [0.76, 0.76, 1.0], 'roi': [128, 128, 128]}, 'optim': {'optim_lr': 0.004, 'reg_weight': 0.0005}, 'lrschedule': {'warmup_epochs': 20, 'max_epoch': 1600}, 'max_early_stop_count': 20} 0.8997951745986938\n",
      "Trial c18ac_00008:  {'transform': {'a_min': 32, 'a_max': 294, 'space': [0.76, 0.76, 1.0], 'roi': [128, 128, 128]}, 'optim': {'optim_lr': 0.004, 'reg_weight': 0.0005}, 'lrschedule': {'warmup_epochs': 40, 'max_epoch': 1600}, 'max_early_stop_count': 20} 0.9042648077011108\n",
      "Trial c18ac_00009:  {'transform': {'a_min': 32, 'a_max': 294, 'space': [0.76, 0.76, 1.0], 'roi': [128, 128, 128]}, 'optim': {'optim_lr': 0.004, 'reg_weight': 0.0005}, 'lrschedule': {'warmup_epochs': 60, 'max_epoch': 1600}, 'max_early_stop_count': 20} 0.9014080166816711\n",
      "Trial c18ac_00010:  {'transform': {'a_min': 32, 'a_max': 294, 'space': [0.76, 0.76, 1.0], 'roi': [128, 128, 128]}, 'optim': {'optim_lr': 0.004, 'reg_weight': 0.005}, 'lrschedule': {'warmup_epochs': 20, 'max_epoch': 1200}, 'max_early_stop_count': 10} 0.9015097618103027\n",
      "Trial c18ac_00011:  {'transform': {'a_min': 32, 'a_max': 294, 'space': [0.76, 0.76, 1.0], 'roi': [128, 128, 128]}, 'optim': {'optim_lr': 0.004, 'reg_weight': 0.005}, 'lrschedule': {'warmup_epochs': 40, 'max_epoch': 1200}, 'max_early_stop_count': 10} 0.9018715620040894\n",
      "Trial c18ac_00012:  {'transform': {'a_min': 32, 'a_max': 294, 'space': [0.76, 0.76, 1.0], 'roi': [128, 128, 128]}, 'optim': {'optim_lr': 0.004, 'reg_weight': 0.005}, 'lrschedule': {'warmup_epochs': 20, 'max_epoch': 1600}, 'max_early_stop_count': 10} 0.9040484428405762\n",
      "Trial c18ac_00013:  {'transform': {'a_min': 32, 'a_max': 294, 'space': [0.76, 0.76, 1.0], 'roi': [128, 128, 128]}, 'optim': {'optim_lr': 0.004, 'reg_weight': 0.005}, 'lrschedule': {'warmup_epochs': 40, 'max_epoch': 1600}, 'max_early_stop_count': 10} 0.8739337921142578\n",
      "Trial c18ac_00014:  {'transform': {'a_min': 32, 'a_max': 294, 'space': [0.76, 0.76, 1.0], 'roi': [128, 128, 128]}, 'optim': {'optim_lr': 0.004, 'reg_weight': 0.005}, 'lrschedule': {'warmup_epochs': 60, 'max_epoch': 1600}, 'max_early_stop_count': 10} 0.9012665748596191\n",
      "Trial c18ac_00015:  {'transform': {'a_min': 32, 'a_max': 294, 'space': [0.76, 0.76, 1.0], 'roi': [128, 128, 128]}, 'optim': {'optim_lr': 0.004, 'reg_weight': 0.005}, 'lrschedule': {'warmup_epochs': 20, 'max_epoch': 1200}, 'max_early_stop_count': 20} 0.9033816456794739\n",
      "Trial c18ac_00016:  {'transform': {'a_min': 32, 'a_max': 294, 'space': [0.76, 0.76, 1.0], 'roi': [128, 128, 128]}, 'optim': {'optim_lr': 0.004, 'reg_weight': 0.005}, 'lrschedule': {'warmup_epochs': 40, 'max_epoch': 1200}, 'max_early_stop_count': 20} 0.8995742797851562\n",
      "Trial c18ac_00017:  {'transform': {'a_min': 32, 'a_max': 294, 'space': [0.76, 0.76, 1.0], 'roi': [128, 128, 128]}, 'optim': {'optim_lr': 0.004, 'reg_weight': 0.005}, 'lrschedule': {'warmup_epochs': 20, 'max_epoch': 1600}, 'max_early_stop_count': 20} 0.8984745740890503\n",
      "Trial c18ac_00018:  {'transform': {'a_min': 32, 'a_max': 294, 'space': [0.76, 0.76, 1.0], 'roi': [128, 128, 128]}, 'optim': {'optim_lr': 0.004, 'reg_weight': 0.005}, 'lrschedule': {'warmup_epochs': 40, 'max_epoch': 1600}, 'max_early_stop_count': 20} 0.9024985432624817\n",
      "Trial c18ac_00019:  {'transform': {'a_min': 32, 'a_max': 294, 'space': [0.76, 0.76, 1.0], 'roi': [128, 128, 128]}, 'optim': {'optim_lr': 0.004, 'reg_weight': 0.005}, 'lrschedule': {'warmup_epochs': 60, 'max_epoch': 1600}, 'max_early_stop_count': 20} 0.8996498584747314\n",
      "Trial c18ac_00020:  {'transform': {'a_min': 32, 'a_max': 294, 'space': [0.76, 0.76, 1.0], 'roi': [128, 128, 128]}, 'optim': {'optim_lr': 0.004, 'reg_weight': 0.05}, 'lrschedule': {'warmup_epochs': 20, 'max_epoch': 1200}, 'max_early_stop_count': 10} 0.8982803225517273\n",
      "Trial c18ac_00021:  {'transform': {'a_min': 32, 'a_max': 294, 'space': [0.76, 0.76, 1.0], 'roi': [128, 128, 128]}, 'optim': {'optim_lr': 0.004, 'reg_weight': 0.05}, 'lrschedule': {'warmup_epochs': 40, 'max_epoch': 1200}, 'max_early_stop_count': 10} 0.8981394171714783\n",
      "Trial c18ac_00022:  {'transform': {'a_min': 32, 'a_max': 294, 'space': [0.76, 0.76, 1.0], 'roi': [128, 128, 128]}, 'optim': {'optim_lr': 0.004, 'reg_weight': 0.05}, 'lrschedule': {'warmup_epochs': 20, 'max_epoch': 1600}, 'max_early_stop_count': 10} 0.8977324366569519\n",
      "Trial c18ac_00023:  {'transform': {'a_min': 32, 'a_max': 294, 'space': [0.76, 0.76, 1.0], 'roi': [128, 128, 128]}, 'optim': {'optim_lr': 0.004, 'reg_weight': 0.05}, 'lrschedule': {'warmup_epochs': 40, 'max_epoch': 1600}, 'max_early_stop_count': 10} 0.9037193059921265\n",
      "Trial c18ac_00024:  {'transform': {'a_min': 32, 'a_max': 294, 'space': [0.76, 0.76, 1.0], 'roi': [128, 128, 128]}, 'optim': {'optim_lr': 0.004, 'reg_weight': 0.05}, 'lrschedule': {'warmup_epochs': 60, 'max_epoch': 1600}, 'max_early_stop_count': 10} 0.9008326530456543\n",
      "Trial c18ac_00025:  {'transform': {'a_min': 32, 'a_max': 294, 'space': [0.76, 0.76, 1.0], 'roi': [128, 128, 128]}, 'optim': {'optim_lr': 0.004, 'reg_weight': 0.05}, 'lrschedule': {'warmup_epochs': 20, 'max_epoch': 1200}, 'max_early_stop_count': 20} 0.9018933773040771\n",
      "Trial c18ac_00026:  {'transform': {'a_min': 32, 'a_max': 294, 'space': [0.76, 0.76, 1.0], 'roi': [128, 128, 128]}, 'optim': {'optim_lr': 0.004, 'reg_weight': 0.05}, 'lrschedule': {'warmup_epochs': 40, 'max_epoch': 1200}, 'max_early_stop_count': 20} 0.8991696834564209\n",
      "Trial c18ac_00027:  {'transform': {'a_min': 32, 'a_max': 294, 'space': [0.76, 0.76, 1.0], 'roi': [128, 128, 128]}, 'optim': {'optim_lr': 0.004, 'reg_weight': 0.05}, 'lrschedule': {'warmup_epochs': 20, 'max_epoch': 1600}, 'max_early_stop_count': 20} 0.9008046388626099\n",
      "Trial c18ac_00028:  {'transform': {'a_min': 32, 'a_max': 294, 'space': [0.76, 0.76, 1.0], 'roi': [128, 128, 128]}, 'optim': {'optim_lr': 0.004, 'reg_weight': 0.05}, 'lrschedule': {'warmup_epochs': 40, 'max_epoch': 1600}, 'max_early_stop_count': 20} 0.8973197937011719\n",
      "Trial c18ac_00029:  {'transform': {'a_min': 32, 'a_max': 294, 'space': [0.76, 0.76, 1.0], 'roi': [128, 128, 128]}, 'optim': {'optim_lr': 0.004, 'reg_weight': 0.05}, 'lrschedule': {'warmup_epochs': 60, 'max_epoch': 1600}, 'max_early_stop_count': 20} 0.9036005139350891\n",
      "\n",
      "Best trial c18ac_00000:  {'transform': {'a_min': 32, 'a_max': 294, 'space': [0.76, 0.76, 1.0], 'roi': [128, 128, 128]}, 'optim': {'optim_lr': 0.004, 'reg_weight': 0.0005}, 'lrschedule': {'warmup_epochs': 20, 'max_epoch': 1200}, 'max_early_stop_count': 10} 0.9049712419509888\n",
      "best log dir: /nfs/Workspace/CardiacSeg/exps/unet3d/chgh/tune_results/exp_2_2_t6/main_c18ac_00000_0_lrschedule=warmup_epochs_20_max_epoch_1200,max_early_stop_count=10,optim=optim_lr_0_004_reg_weight_0_0005,trans_2023-01-04_07-59-47\n",
      "\u001b[0m"
     ]
    }
   ],
   "source": [
    "!PYTHONPATH=/nfs/Workspace/CardiacSeg  /opt/conda/bin/python /nfs/Workspace/CardiacSeg/expers/chgh/tune_anal.py \\\n",
    "--exp_name={exp_name} \\\n",
    "--local_dir={root_exp_dir}"
   ]
  }
 ],
 "metadata": {
  "accelerator": "GPU",
  "colab": {
   "provenance": []
  },
  "gpuClass": "standard",
  "kernelspec": {
   "display_name": "base",
   "language": "python",
   "name": "base"
  },
  "language_info": {
   "codemirror_mode": {
    "name": "ipython",
    "version": 3
   },
   "file_extension": ".py",
   "mimetype": "text/x-python",
   "name": "python",
   "nbconvert_exporter": "python",
   "pygments_lexer": "ipython3",
   "version": "3.9.12"
  }
 },
 "nbformat": 4,
 "nbformat_minor": 4
}
